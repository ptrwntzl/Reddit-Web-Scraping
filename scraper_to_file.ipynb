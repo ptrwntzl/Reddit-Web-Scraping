{
 "cells": [
  {
   "cell_type": "code",
   "execution_count": 1,
   "id": "fc7202cc-909d-49a2-bc32-43f1318bb120",
   "metadata": {},
   "outputs": [],
   "source": [
    "# This is the beta version of the code\n",
    "# need to run a test on reddit front page"
   ]
  },
  {
   "cell_type": "markdown",
   "id": "fbfe35dd-8d4b-435f-90bb-aa4a8e60f0e1",
   "metadata": {},
   "source": [
    "## RUNNING SOURCES LIST\n",
    "\n",
    "Was not formatting my code correctly to parse 'href' section\n",
    "\n",
    "https://stackoverflow.com/questions/7521623/parse-html-tags-based-on-a-class-and-href-tag-using-beautiful-soup\n",
    "\n",
    "Scrolling with remote app\n",
    "\n",
    "https://stackoverflow.com/questions/20986631/how-can-i-scroll-a-web-page-using-selenium-webdriver-in-python\n",
    "\n"
   ]
  },
  {
   "cell_type": "code",
   "execution_count": 2,
   "id": "524a8c26-06d3-400a-834f-3abd1e03b378",
   "metadata": {},
   "outputs": [],
   "source": [
    "# imports\n",
    "import requests\n",
    "from bs4 import BeautifulSoup\n",
    "from time import sleep\n",
    "from selenium import webdriver\n",
    "from selenium.webdriver.chrome.service import Service\n",
    "from selenium.webdriver.common.keys import Keys"
   ]
  },
  {
   "cell_type": "code",
   "execution_count": 3,
   "id": "664075a6-cfa3-4ae4-bdbc-ec7528cab53c",
   "metadata": {},
   "outputs": [],
   "source": [
    "url = \"https://www.reddit.com/\"\n",
    "ser = Service('chromedriver/chromedriver')\n",
    "op = webdriver.ChromeOptions()\n",
    "driver = webdriver.Chrome(service=ser, options=op)\n",
    "driver.get(url)\n",
    "count=150\n",
    "val1=0\n",
    "val2=18720\n",
    "for i in range(count):\n",
    "    driver.execute_script(f\"window.scrollTo({val1},{val2});\")\n",
    "    sleep(7)\n",
    "    val1=val1+50000\n",
    "    val2=val2+50000\n",
    "sleep(10)\n",
    "html = driver.page_source\n",
    "driver.close()\n",
    "soup=BeautifulSoup(html)"
   ]
  },
  {
   "cell_type": "markdown",
   "id": "980ca952-4ad4-413f-b6fb-0ed207118965",
   "metadata": {},
   "source": [
    "Selennium remote routine, a 150 iteration scroll down operation done on the front page of reddit.  7 second intervals"
   ]
  },
  {
   "cell_type": "code",
   "execution_count": 4,
   "id": "1092f926-1495-467b-923e-64ff503e4e7f",
   "metadata": {},
   "outputs": [],
   "source": [
    "the_list_lists=[]  #the list of lists!"
   ]
  },
  {
   "cell_type": "code",
   "execution_count": 5,
   "id": "aad2a935-d1fb-49e9-a1c4-fe01715a2449",
   "metadata": {},
   "outputs": [],
   "source": [
    "for main_tag in soup.findAll('div',{'class':\"_1oQyIsiPHYt6nx7VOmd1sz\"}):\n",
    "    for comment_count in main_tag.findAll('span',{'class':'FHCV02u6Cp2zYL0fhQPsO'}):\n",
    "        if comment_count.text == '0 comments': break   # it appears that 0 comment posts are promoted ads\n",
    "        for thread in main_tag.findAll('h3'):\n",
    "            if thread.text == 'Top livestream': break  # the livestreams that appear at times can populate and throw off the list populations \n",
    "            else: cc=comment_count.text\n",
    "            th=thread.text\n",
    "            for sub_reddit in main_tag.findAll('a',{'class':'_3ryJoIoycVkA88fy40qNJc'}):  #getting subreddit \n",
    "                if sub_reddit.text != '':\n",
    "                    sr=sub_reddit.text\n",
    "            for upvote_delta in main_tag.findAll('div',{'class':'_1rZYMD_4xY3gRcSS3p8ODO _3a2ZHWaih05DgAOtvu6cIo'}):  #getting upvote\n",
    "                upv=upvote_delta.text\n",
    "            for time_pos_post in main_tag.findAll('a',{'class':'_3jOxDPIQ0KaOWpzvSQo-1s'}):  #getting post time\n",
    "                tp=time_pos_post.text\n",
    "            #print({'comment_count':cc,'upvotes_delta':upv,'time_up':tp,'subreddit':sr,'thread':th})  #this can be uncommented to view/debug\n",
    "            the_list_lists.append({'comment_count':cc,'upvotes_delta':upv,'time_up':tp,'subreddit':sr,'thread':th})"
   ]
  },
  {
   "cell_type": "markdown",
   "id": "d2b3e972-d114-4727-82ab-c3c3445607d7",
   "metadata": {},
   "source": [
    "There is a commented statement that can be allowed to run so that it can be seen in list-dictionary form the scrape information."
   ]
  },
  {
   "cell_type": "code",
   "execution_count": 6,
   "id": "7c68db3c-d8a8-4b33-85cb-0daf11c9dee2",
   "metadata": {},
   "outputs": [
    {
     "data": {
      "text/plain": [
       "1001"
      ]
     },
     "execution_count": 6,
     "metadata": {},
     "output_type": "execute_result"
    }
   ],
   "source": [
    "len(the_list_lists)"
   ]
  },
  {
   "cell_type": "code",
   "execution_count": 7,
   "id": "55c7c67b-7f07-45f0-bcd2-7f27c07adf84",
   "metadata": {},
   "outputs": [],
   "source": [
    "list_length_1=len(the_list_lists)"
   ]
  },
  {
   "cell_type": "code",
   "execution_count": 8,
   "id": "616b08ce-e69c-4155-9205-bc666cb753f0",
   "metadata": {},
   "outputs": [],
   "source": [
    "import pandas as pd"
   ]
  },
  {
   "cell_type": "code",
   "execution_count": 9,
   "id": "be1b39bf-d582-4f5e-9997-b42d187720fd",
   "metadata": {},
   "outputs": [],
   "source": [
    "comment_list=[the_list_lists[com1]['comment_count']for com1 in range(list_length_1)]\n",
    "upvote_list=[the_list_lists[upup]['upvotes_delta']for upup in range(list_length_1)]\n",
    "timeup_list=[the_list_lists[timeupup]['time_up']for timeupup in range(list_length_1)]\n",
    "subred_list=[the_list_lists[subsub]['subreddit']for subsub in range(list_length_1)]\n",
    "thread_list=[the_list_lists[threading]['thread']for threading in range(list_length_1)]\n",
    "dataF_input={'comment_count':comment_list,'upvote_delta':upvote_list,'timeup_list':timeup_list,'subreddit':subred_list,\\\n",
    "             'thread_text':thread_list}"
   ]
  },
  {
   "cell_type": "markdown",
   "id": "4209c45f-fe84-4a01-abc4-10247ca89cfa",
   "metadata": {},
   "source": [
    "Assignments from dictionary back into lists and then back into a data input dictionary for pandas"
   ]
  },
  {
   "cell_type": "code",
   "execution_count": 10,
   "id": "02a19951-6604-4ae7-b083-a76e7587c76b",
   "metadata": {},
   "outputs": [],
   "source": [
    "scrape_df=pd.DataFrame(data=dataF_input)"
   ]
  },
  {
   "cell_type": "code",
   "execution_count": 11,
   "id": "a3397db1-3cfc-483e-a46b-b6102c6709b5",
   "metadata": {},
   "outputs": [
    {
     "data": {
      "text/html": [
       "<div>\n",
       "<style scoped>\n",
       "    .dataframe tbody tr th:only-of-type {\n",
       "        vertical-align: middle;\n",
       "    }\n",
       "\n",
       "    .dataframe tbody tr th {\n",
       "        vertical-align: top;\n",
       "    }\n",
       "\n",
       "    .dataframe thead th {\n",
       "        text-align: right;\n",
       "    }\n",
       "</style>\n",
       "<table border=\"1\" class=\"dataframe\">\n",
       "  <thead>\n",
       "    <tr style=\"text-align: right;\">\n",
       "      <th></th>\n",
       "      <th>comment_count</th>\n",
       "      <th>upvote_delta</th>\n",
       "      <th>timeup_list</th>\n",
       "      <th>subreddit</th>\n",
       "      <th>thread_text</th>\n",
       "    </tr>\n",
       "  </thead>\n",
       "  <tbody>\n",
       "    <tr>\n",
       "      <th>0</th>\n",
       "      <td>4.0k comments</td>\n",
       "      <td>25.2k</td>\n",
       "      <td>4 hours ago</td>\n",
       "      <td>r/antiwork</td>\n",
       "      <td>What you think of this one?</td>\n",
       "    </tr>\n",
       "    <tr>\n",
       "      <th>1</th>\n",
       "      <td>9.2k comments</td>\n",
       "      <td>16.4k</td>\n",
       "      <td>6 hours ago</td>\n",
       "      <td>r/AskReddit</td>\n",
       "      <td>What is a legal scam that is still happening i...</td>\n",
       "    </tr>\n",
       "    <tr>\n",
       "      <th>2</th>\n",
       "      <td>7.9k comments</td>\n",
       "      <td>31.7k</td>\n",
       "      <td>9 hours ago</td>\n",
       "      <td>r/mildlyinteresting</td>\n",
       "      <td>These toilets are distinguished by chromosome ...</td>\n",
       "    </tr>\n",
       "    <tr>\n",
       "      <th>3</th>\n",
       "      <td>4.4k comments</td>\n",
       "      <td>45.4k</td>\n",
       "      <td>9 hours ago</td>\n",
       "      <td>r/facepalm</td>\n",
       "      <td>Two cops film themselves assaulting suicidal m...</td>\n",
       "    </tr>\n",
       "    <tr>\n",
       "      <th>4</th>\n",
       "      <td>811 comments</td>\n",
       "      <td>31.2k</td>\n",
       "      <td>4 hours ago</td>\n",
       "      <td>r/funny</td>\n",
       "      <td>Once in a lifetime self-defense</td>\n",
       "    </tr>\n",
       "  </tbody>\n",
       "</table>\n",
       "</div>"
      ],
      "text/plain": [
       "   comment_count upvote_delta  timeup_list            subreddit  \\\n",
       "0  4.0k comments        25.2k  4 hours ago           r/antiwork   \n",
       "1  9.2k comments        16.4k  6 hours ago          r/AskReddit   \n",
       "2  7.9k comments        31.7k  9 hours ago  r/mildlyinteresting   \n",
       "3  4.4k comments        45.4k  9 hours ago           r/facepalm   \n",
       "4   811 comments        31.2k  4 hours ago              r/funny   \n",
       "\n",
       "                                         thread_text  \n",
       "0                        What you think of this one?  \n",
       "1  What is a legal scam that is still happening i...  \n",
       "2  These toilets are distinguished by chromosome ...  \n",
       "3  Two cops film themselves assaulting suicidal m...  \n",
       "4                    Once in a lifetime self-defense  "
      ]
     },
     "execution_count": 11,
     "metadata": {},
     "output_type": "execute_result"
    }
   ],
   "source": [
    "scrape_df.head(5)"
   ]
  },
  {
   "cell_type": "code",
   "execution_count": 12,
   "id": "f863139c-1b66-46a6-87fb-eb0a2872eddc",
   "metadata": {},
   "outputs": [
    {
     "data": {
      "text/plain": [
       "(1001, 5)"
      ]
     },
     "execution_count": 12,
     "metadata": {},
     "output_type": "execute_result"
    }
   ],
   "source": [
    "scrape_df.shape"
   ]
  },
  {
   "cell_type": "code",
   "execution_count": 13,
   "id": "4ae17ae8-36bb-442b-aaa0-16e4478cfdf9",
   "metadata": {},
   "outputs": [
    {
     "data": {
      "text/plain": [
       "comment_count    object\n",
       "upvote_delta     object\n",
       "timeup_list      object\n",
       "subreddit        object\n",
       "thread_text      object\n",
       "dtype: object"
      ]
     },
     "execution_count": 13,
     "metadata": {},
     "output_type": "execute_result"
    }
   ],
   "source": [
    "scrape_df.dtypes"
   ]
  },
  {
   "cell_type": "code",
   "execution_count": 14,
   "id": "dbad89ce-ca78-4f21-9b72-4e966977e0fb",
   "metadata": {},
   "outputs": [
    {
     "data": {
      "text/plain": [
       "comment_count    0\n",
       "upvote_delta     0\n",
       "timeup_list      0\n",
       "subreddit        0\n",
       "thread_text      0\n",
       "dtype: int64"
      ]
     },
     "execution_count": 14,
     "metadata": {},
     "output_type": "execute_result"
    }
   ],
   "source": [
    "scrape_df.isnull().sum()"
   ]
  },
  {
   "cell_type": "code",
   "execution_count": 15,
   "id": "9a0d4bb4-54f0-417c-a8cb-16abebb6ea9c",
   "metadata": {},
   "outputs": [],
   "source": [
    "scrape_df.to_csv('./scrape_drop/scrape_DDMMMYYYY.csv')"
   ]
  },
  {
   "cell_type": "markdown",
   "id": "67cea26d-0480-4342-940b-edf459470a4c",
   "metadata": {},
   "source": [
    "normally I comment this line out to ensure that no overwrite occurs.  leaving in generic form at the moment"
   ]
  },
  {
   "cell_type": "code",
   "execution_count": null,
   "id": "204c48f5-8cfd-4d22-9957-f0dcc223cbfb",
   "metadata": {},
   "outputs": [],
   "source": []
  }
 ],
 "metadata": {
  "kernelspec": {
   "display_name": "Python 3",
   "language": "python",
   "name": "python3"
  },
  "language_info": {
   "codemirror_mode": {
    "name": "ipython",
    "version": 3
   },
   "file_extension": ".py",
   "mimetype": "text/x-python",
   "name": "python",
   "nbconvert_exporter": "python",
   "pygments_lexer": "ipython3",
   "version": "3.8.8"
  }
 },
 "nbformat": 4,
 "nbformat_minor": 5
}
