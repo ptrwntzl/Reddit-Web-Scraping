{
 "cells": [
  {
   "cell_type": "markdown",
   "id": "880478f6-7a85-469c-9149-28a602aa98ae",
   "metadata": {},
   "source": [
    "# EDA, Cleaning and Modeling"
   ]
  },
  {
   "cell_type": "markdown",
   "id": "c2c9046a-4427-4eca-bbed-13d56eddfdac",
   "metadata": {},
   "source": [
    "## Imports"
   ]
  },
  {
   "cell_type": "code",
   "execution_count": 1,
   "id": "412beca3-9fac-4672-b708-2075800f776f",
   "metadata": {},
   "outputs": [],
   "source": [
    "import pandas as pd\n",
    "import numpy as np\n",
    "import spacy\n",
    "import matplotlib.pyplot as plt\n",
    "import seaborn as sns\n",
    "from spacytextblob.spacytextblob import SpacyTextBlob\n",
    "\n",
    "from spacymoji import Emoji\n",
    "import sys\n",
    "import string\n",
    "\n",
    "nlp = spacy.load('en_core_web_sm')\n",
    "emoji = Emoji(nlp)\n",
    "nlp.add_pipe('emoji', first=True)\n",
    "nlp.add_pipe('spacytextblob')\n",
    "\n",
    "from nltk.stem import PorterStemmer\n"
   ]
  },
  {
   "cell_type": "code",
   "execution_count": 2,
   "id": "6f689db2-8348-4840-ba39-02acd3bbc9f4",
   "metadata": {},
   "outputs": [],
   "source": [
    "#pip install wordcloud\n",
    "#!pip install spacymoji\n",
    "#!pip install -U pip setuptools wheel\n",
    "#!pip install -U spacy"
   ]
  },
  {
   "cell_type": "markdown",
   "id": "7ed6795b-aa4a-4a61-84a3-c09a26d7c414",
   "metadata": {},
   "source": [
    "CITED SOURCES:\n",
    "\n",
    "Spent much time reviewing spaCy documentation:\n",
    "\n",
    "https://spacy.io/usage/linguistic-features\n",
    "\n",
    "this is a library that is currently being used for the spacymoji:\n",
    "\n",
    "https://spacy.io/universe/project/spacymoji\n",
    "\n",
    "https://github.com/explosion/spacymoji\n",
    "\n",
    "https://spacy.io/api/kb\n",
    "\n",
    "The two references below, needed a reference on groupby a bit\n",
    "\n",
    "https://realpython.com/pandas-groupby/\n",
    "\n",
    "https://stackoverflow.com/questions/41040132/pandas-groupby-count-and-mean-combined\n",
    "\n",
    "Setting slice back to dataframe\n",
    "\n",
    "https://stackoverflow.com/questions/20625582/how-to-deal-with-settingwithcopywarning-in-pandas\n",
    "\n",
    "Quick review of the random forest\n",
    "\n",
    "https://scikit-learn.org/stable/modules/generated/sklearn.ensemble.RandomForestClassifier.html\n",
    "\n",
    "https://www.geeksforgeeks.org/random-forest-classifier-using-scikit-learn/\n",
    "\n",
    "Random Forest accurracy and metrics\n",
    "\n",
    "https://stats.stackexchange.com/questions/197827/how-to-interpret-mean-decrease-in-accuracy-and-mean-decrease-gini-in-random-fore#:~:text=GINI%3A%20GINI%20importance%20measures%20the,increase%20nor%20decrease%20node%20purities.\n",
    "\n",
    "https://scikit-learn.org/stable/modules/generated/sklearn.inspection.permutation_importance.html#sklearn.inspection.permutation_importance\n",
    "\n",
    "\n",
    "Some cleaning technique review, function was taken from this page: \n",
    "\n",
    "https://towardsdatascience.com/nlp-in-python-data-cleaning-6313a404a470\n",
    "\n",
    "Stemming\n",
    "\n",
    "https://stackabuse.com/python-for-nlp-tokenization-stemming-and-lemmatization-with-spacy-library/\n",
    "\n",
    "NLTK and MultinomialNB, yes I am citing a youtube video, sorry.  Specifically the first 2 hours have portions that were helpful\n",
    "\n",
    "https://www.youtube.com/watch?v=68lIfswwG2A\n",
    "\n",
    "GA PCA exercise solutions:\n",
    "\n",
    "https://git.generalassemb.ly/dsi-andromeda/pca/tree/master/exercise\n",
    "\n",
    "GA NLP II notes:\n",
    "\n",
    "https://git.generalassemb.ly/dsi-andromeda/nlp-ii\n",
    "\n",
    "Save plot to file\n",
    "\n",
    "https://stackoverflow.com/questions/9622163/save-plot-to-image-file-instead-of-displaying-it-using-matplotlib"
   ]
  },
  {
   "cell_type": "markdown",
   "id": "4c010289-b3b0-4086-bef2-dbf974c56508",
   "metadata": {
    "tags": []
   },
   "source": [
    "### Function Defs"
   ]
  },
  {
   "cell_type": "code",
   "execution_count": 3,
   "id": "e5bac66d-d136-42ba-8e08-b915f8872e37",
   "metadata": {},
   "outputs": [],
   "source": [
    "# https://towardsdatascience.com/nlp-in-python-data-cleaning-6313a404a470 for this function:\n",
    "\n",
    "def punc_clean(thread):\n",
    "    list_letters=[let for let in thread if let not in string.punctuation]\n",
    "    clean_thread=''.join(list_letters)\n",
    "    return clean_thread\n",
    "\n",
    "#def stem_func(thread):\n",
    "    "
   ]
  },
  {
   "cell_type": "markdown",
   "id": "1cdc6a24-0bb1-41e3-8849-9169e2b7c15d",
   "metadata": {},
   "source": [
    "## Importing and Quick Overview"
   ]
  },
  {
   "cell_type": "code",
   "execution_count": 4,
   "id": "db6c6369-0d35-4add-aba2-7d241cb4537b",
   "metadata": {},
   "outputs": [],
   "source": [
    "df_reddit=pd.read_csv('./full_data/full_data_06JAN2021_cut500.csv')"
   ]
  },
  {
   "cell_type": "code",
   "execution_count": 5,
   "id": "ee3fa02a-02e9-476a-b459-14669f7f8df0",
   "metadata": {},
   "outputs": [
    {
     "data": {
      "text/html": [
       "<div>\n",
       "<style scoped>\n",
       "    .dataframe tbody tr th:only-of-type {\n",
       "        vertical-align: middle;\n",
       "    }\n",
       "\n",
       "    .dataframe tbody tr th {\n",
       "        vertical-align: top;\n",
       "    }\n",
       "\n",
       "    .dataframe thead th {\n",
       "        text-align: right;\n",
       "    }\n",
       "</style>\n",
       "<table border=\"1\" class=\"dataframe\">\n",
       "  <thead>\n",
       "    <tr style=\"text-align: right;\">\n",
       "      <th></th>\n",
       "      <th>Unnamed: 0</th>\n",
       "      <th>comment_count</th>\n",
       "      <th>upvote_delta</th>\n",
       "      <th>timeup_list</th>\n",
       "      <th>subreddit</th>\n",
       "      <th>thread_text</th>\n",
       "    </tr>\n",
       "  </thead>\n",
       "  <tbody>\n",
       "    <tr>\n",
       "      <th>0</th>\n",
       "      <td>0.0</td>\n",
       "      <td>18300.0</td>\n",
       "      <td>37200.0</td>\n",
       "      <td>15.0</td>\n",
       "      <td>r/AskReddit</td>\n",
       "      <td>People who aren’t celebrating or partying righ...</td>\n",
       "    </tr>\n",
       "    <tr>\n",
       "      <th>1</th>\n",
       "      <td>1.0</td>\n",
       "      <td>697.0</td>\n",
       "      <td>35800.0</td>\n",
       "      <td>3.0</td>\n",
       "      <td>r/funny</td>\n",
       "      <td>After years of saving I finally bought a house</td>\n",
       "    </tr>\n",
       "    <tr>\n",
       "      <th>2</th>\n",
       "      <td>2.0</td>\n",
       "      <td>189.0</td>\n",
       "      <td>19800.0</td>\n",
       "      <td>4.0</td>\n",
       "      <td>r/Showerthoughts</td>\n",
       "      <td>Beatboxers probably have no issue explaining t...</td>\n",
       "    </tr>\n",
       "    <tr>\n",
       "      <th>3</th>\n",
       "      <td>3.0</td>\n",
       "      <td>4300.0</td>\n",
       "      <td>48800.0</td>\n",
       "      <td>10.0</td>\n",
       "      <td>r/facepalm</td>\n",
       "      <td>“All I need to cook is a set of measuring cups...</td>\n",
       "    </tr>\n",
       "    <tr>\n",
       "      <th>4</th>\n",
       "      <td>5.0</td>\n",
       "      <td>998.0</td>\n",
       "      <td>20300.0</td>\n",
       "      <td>5.0</td>\n",
       "      <td>r/PoliticalHumor</td>\n",
       "      <td>Birds of a feather flock together!</td>\n",
       "    </tr>\n",
       "  </tbody>\n",
       "</table>\n",
       "</div>"
      ],
      "text/plain": [
       "   Unnamed: 0  comment_count  upvote_delta  timeup_list         subreddit  \\\n",
       "0         0.0        18300.0       37200.0         15.0       r/AskReddit   \n",
       "1         1.0          697.0       35800.0          3.0           r/funny   \n",
       "2         2.0          189.0       19800.0          4.0  r/Showerthoughts   \n",
       "3         3.0         4300.0       48800.0         10.0        r/facepalm   \n",
       "4         5.0          998.0       20300.0          5.0  r/PoliticalHumor   \n",
       "\n",
       "                                         thread_text  \n",
       "0  People who aren’t celebrating or partying righ...  \n",
       "1     After years of saving I finally bought a house  \n",
       "2  Beatboxers probably have no issue explaining t...  \n",
       "3  “All I need to cook is a set of measuring cups...  \n",
       "4                 Birds of a feather flock together!  "
      ]
     },
     "execution_count": 5,
     "metadata": {},
     "output_type": "execute_result"
    }
   ],
   "source": [
    "df_reddit.head(5)"
   ]
  },
  {
   "cell_type": "code",
   "execution_count": 6,
   "id": "96693cd6-7822-4fa9-a5f2-775aa666a656",
   "metadata": {},
   "outputs": [],
   "source": [
    "df_reddit.drop(labels=df_reddit.columns[0],axis=1,inplace=True)"
   ]
  },
  {
   "cell_type": "markdown",
   "id": "9b38ad12-3145-4b13-aef2-2f3940a5e10f",
   "metadata": {},
   "source": [
    "The extra index could have been used to measure the general placement of the post on the front page."
   ]
  },
  {
   "cell_type": "code",
   "execution_count": 7,
   "id": "dfa63b4b-f79c-4599-8d1d-35c8943451b2",
   "metadata": {
    "tags": []
   },
   "outputs": [
    {
     "data": {
      "text/plain": [
       "(12124, 5)"
      ]
     },
     "execution_count": 7,
     "metadata": {},
     "output_type": "execute_result"
    }
   ],
   "source": [
    "df_reddit.shape"
   ]
  },
  {
   "cell_type": "markdown",
   "id": "32ecd22e-5780-4aeb-bc39-fe0c43d177c0",
   "metadata": {},
   "source": [
    "Shape checks out"
   ]
  },
  {
   "cell_type": "code",
   "execution_count": 8,
   "id": "967c2bb9-b789-479e-a9b0-1af60579132c",
   "metadata": {},
   "outputs": [
    {
     "data": {
      "text/plain": [
       "comment_count    0\n",
       "upvote_delta     0\n",
       "timeup_list      0\n",
       "subreddit        0\n",
       "thread_text      0\n",
       "dtype: int64"
      ]
     },
     "execution_count": 8,
     "metadata": {},
     "output_type": "execute_result"
    }
   ],
   "source": [
    "df_reddit.isnull().sum()"
   ]
  },
  {
   "cell_type": "code",
   "execution_count": 9,
   "id": "de591086-42d5-4a2e-8d36-893eb0d03bcd",
   "metadata": {},
   "outputs": [
    {
     "data": {
      "text/plain": [
       "comment_count    float64\n",
       "upvote_delta     float64\n",
       "timeup_list      float64\n",
       "subreddit         object\n",
       "thread_text       object\n",
       "dtype: object"
      ]
     },
     "execution_count": 9,
     "metadata": {},
     "output_type": "execute_result"
    }
   ],
   "source": [
    "df_reddit.dtypes"
   ]
  },
  {
   "cell_type": "markdown",
   "id": "047760f6-1cc4-4593-b723-4ed96897e5b3",
   "metadata": {},
   "source": [
    "Null verification and data type check."
   ]
  },
  {
   "cell_type": "markdown",
   "id": "97363aeb-7a15-41c7-8120-0ea28bb458b4",
   "metadata": {},
   "source": [
    "## EDA and Cleaning"
   ]
  },
  {
   "cell_type": "markdown",
   "id": "8c0d2a68-9012-4dcd-9c3c-85c8de0564b5",
   "metadata": {},
   "source": [
    "### Reviewing upvote, time up and duplicates"
   ]
  },
  {
   "cell_type": "code",
   "execution_count": 11,
   "id": "87f8cd18-5e9e-42b6-a81c-9ad047598c73",
   "metadata": {},
   "outputs": [
    {
     "data": {
      "text/html": [
       "<div>\n",
       "<style scoped>\n",
       "    .dataframe tbody tr th:only-of-type {\n",
       "        vertical-align: middle;\n",
       "    }\n",
       "\n",
       "    .dataframe tbody tr th {\n",
       "        vertical-align: top;\n",
       "    }\n",
       "\n",
       "    .dataframe thead th {\n",
       "        text-align: right;\n",
       "    }\n",
       "</style>\n",
       "<table border=\"1\" class=\"dataframe\">\n",
       "  <thead>\n",
       "    <tr style=\"text-align: right;\">\n",
       "      <th></th>\n",
       "      <th>count</th>\n",
       "      <th>mean</th>\n",
       "      <th>std</th>\n",
       "      <th>min</th>\n",
       "      <th>25%</th>\n",
       "      <th>50%</th>\n",
       "      <th>75%</th>\n",
       "      <th>max</th>\n",
       "    </tr>\n",
       "  </thead>\n",
       "  <tbody>\n",
       "    <tr>\n",
       "      <th>comment_count</th>\n",
       "      <td>12124.0</td>\n",
       "      <td>437.093863</td>\n",
       "      <td>1129.671966</td>\n",
       "      <td>1.0</td>\n",
       "      <td>84.0</td>\n",
       "      <td>167.0</td>\n",
       "      <td>397.0</td>\n",
       "      <td>32400.0</td>\n",
       "    </tr>\n",
       "    <tr>\n",
       "      <th>upvote_delta</th>\n",
       "      <td>12124.0</td>\n",
       "      <td>8787.702326</td>\n",
       "      <td>12394.935178</td>\n",
       "      <td>1.0</td>\n",
       "      <td>2000.0</td>\n",
       "      <td>4200.0</td>\n",
       "      <td>9800.0</td>\n",
       "      <td>132000.0</td>\n",
       "    </tr>\n",
       "    <tr>\n",
       "      <th>timeup_list</th>\n",
       "      <td>12124.0</td>\n",
       "      <td>9.654569</td>\n",
       "      <td>5.515745</td>\n",
       "      <td>2.0</td>\n",
       "      <td>6.0</td>\n",
       "      <td>9.0</td>\n",
       "      <td>13.0</td>\n",
       "      <td>228.0</td>\n",
       "    </tr>\n",
       "  </tbody>\n",
       "</table>\n",
       "</div>"
      ],
      "text/plain": [
       "                 count         mean           std  min     25%     50%  \\\n",
       "comment_count  12124.0   437.093863   1129.671966  1.0    84.0   167.0   \n",
       "upvote_delta   12124.0  8787.702326  12394.935178  1.0  2000.0  4200.0   \n",
       "timeup_list    12124.0     9.654569      5.515745  2.0     6.0     9.0   \n",
       "\n",
       "                  75%       max  \n",
       "comment_count   397.0   32400.0  \n",
       "upvote_delta   9800.0  132000.0  \n",
       "timeup_list      13.0     228.0  "
      ]
     },
     "execution_count": 11,
     "metadata": {},
     "output_type": "execute_result"
    }
   ],
   "source": [
    "df_reddit.describe().T"
   ]
  },
  {
   "cell_type": "code",
   "execution_count": 12,
   "id": "b53d5622-5522-4080-b505-ac73e2f0d0e8",
   "metadata": {},
   "outputs": [
    {
     "data": {
      "text/plain": [
       "comment_count     162.298507\n",
       "upvote_delta     1214.648733\n",
       "timeup_list         6.806317\n",
       "dtype: float64"
      ]
     },
     "execution_count": 12,
     "metadata": {},
     "output_type": "execute_result"
    }
   ],
   "source": [
    "df_reddit[df_reddit['upvote_delta']<2000].mean()"
   ]
  },
  {
   "cell_type": "code",
   "execution_count": 13,
   "id": "301c6656-cb38-4ff0-91bc-e111d09c8659",
   "metadata": {},
   "outputs": [
    {
     "data": {
      "text/html": [
       "<div>\n",
       "<style scoped>\n",
       "    .dataframe tbody tr th:only-of-type {\n",
       "        vertical-align: middle;\n",
       "    }\n",
       "\n",
       "    .dataframe tbody tr th {\n",
       "        vertical-align: top;\n",
       "    }\n",
       "\n",
       "    .dataframe thead th {\n",
       "        text-align: right;\n",
       "    }\n",
       "</style>\n",
       "<table border=\"1\" class=\"dataframe\">\n",
       "  <thead>\n",
       "    <tr style=\"text-align: right;\">\n",
       "      <th></th>\n",
       "      <th>comment_count</th>\n",
       "      <th>upvote_delta</th>\n",
       "      <th>timeup_list</th>\n",
       "      <th>subreddit</th>\n",
       "      <th>thread_text</th>\n",
       "    </tr>\n",
       "  </thead>\n",
       "  <tbody>\n",
       "    <tr>\n",
       "      <th>9490</th>\n",
       "      <td>50.0</td>\n",
       "      <td>343.0</td>\n",
       "      <td>5.0</td>\n",
       "      <td>r/chicagobulls</td>\n",
       "      <td>Nikola Vučević with 24 points, 17 rebounds, 6 ...</td>\n",
       "    </tr>\n",
       "    <tr>\n",
       "      <th>9484</th>\n",
       "      <td>10.0</td>\n",
       "      <td>296.0</td>\n",
       "      <td>5.0</td>\n",
       "      <td>r/nflmemes</td>\n",
       "      <td>AFC East</td>\n",
       "    </tr>\n",
       "    <tr>\n",
       "      <th>9472</th>\n",
       "      <td>40.0</td>\n",
       "      <td>324.0</td>\n",
       "      <td>5.0</td>\n",
       "      <td>r/LesbianActually</td>\n",
       "      <td>Denver lesbian here! 👋🏼</td>\n",
       "    </tr>\n",
       "    <tr>\n",
       "      <th>9422</th>\n",
       "      <td>53.0</td>\n",
       "      <td>324.0</td>\n",
       "      <td>5.0</td>\n",
       "      <td>r/averageredditor</td>\n",
       "      <td>Average redditor tries to fight \"fascist\"</td>\n",
       "    </tr>\n",
       "    <tr>\n",
       "      <th>9407</th>\n",
       "      <td>72.0</td>\n",
       "      <td>323.0</td>\n",
       "      <td>5.0</td>\n",
       "      <td>r/Boruto</td>\n",
       "      <td>Did Sasuke marry Sakura out of pity?</td>\n",
       "    </tr>\n",
       "    <tr>\n",
       "      <th>3044</th>\n",
       "      <td>13.0</td>\n",
       "      <td>12.0</td>\n",
       "      <td>5.0</td>\n",
       "      <td>r/politics</td>\n",
       "      <td>Invest Pre-IPO in Company with drug shown effe...</td>\n",
       "    </tr>\n",
       "    <tr>\n",
       "      <th>9471</th>\n",
       "      <td>3.0</td>\n",
       "      <td>303.0</td>\n",
       "      <td>5.0</td>\n",
       "      <td>r/oompasubs</td>\n",
       "      <td>Yea let me explain-</td>\n",
       "    </tr>\n",
       "    <tr>\n",
       "      <th>11993</th>\n",
       "      <td>41.0</td>\n",
       "      <td>334.0</td>\n",
       "      <td>12.0</td>\n",
       "      <td>r/PublicFreakout</td>\n",
       "      <td>HMC while I mistake strangers' homes as that o...</td>\n",
       "    </tr>\n",
       "    <tr>\n",
       "      <th>802</th>\n",
       "      <td>5.0</td>\n",
       "      <td>1.0</td>\n",
       "      <td>13.0</td>\n",
       "      <td>r/ShingekiNoKyojin</td>\n",
       "      <td>NFT investing made easy. Hop on the blockchain...</td>\n",
       "    </tr>\n",
       "    <tr>\n",
       "      <th>9483</th>\n",
       "      <td>7.0</td>\n",
       "      <td>202.0</td>\n",
       "      <td>19.0</td>\n",
       "      <td>r/MadeMeSmile</td>\n",
       "      <td>Screw over Karen, help the kid</td>\n",
       "    </tr>\n",
       "  </tbody>\n",
       "</table>\n",
       "</div>"
      ],
      "text/plain": [
       "       comment_count  upvote_delta  timeup_list           subreddit  \\\n",
       "9490            50.0         343.0          5.0      r/chicagobulls   \n",
       "9484            10.0         296.0          5.0          r/nflmemes   \n",
       "9472            40.0         324.0          5.0   r/LesbianActually   \n",
       "9422            53.0         324.0          5.0   r/averageredditor   \n",
       "9407            72.0         323.0          5.0            r/Boruto   \n",
       "3044            13.0          12.0          5.0          r/politics   \n",
       "9471             3.0         303.0          5.0         r/oompasubs   \n",
       "11993           41.0         334.0         12.0    r/PublicFreakout   \n",
       "802              5.0           1.0         13.0  r/ShingekiNoKyojin   \n",
       "9483             7.0         202.0         19.0       r/MadeMeSmile   \n",
       "\n",
       "                                             thread_text  \n",
       "9490   Nikola Vučević with 24 points, 17 rebounds, 6 ...  \n",
       "9484                                            AFC East  \n",
       "9472                             Denver lesbian here! 👋🏼  \n",
       "9422           Average redditor tries to fight \"fascist\"  \n",
       "9407                Did Sasuke marry Sakura out of pity?  \n",
       "3044   Invest Pre-IPO in Company with drug shown effe...  \n",
       "9471                                 Yea let me explain-  \n",
       "11993  HMC while I mistake strangers' homes as that o...  \n",
       "802    NFT investing made easy. Hop on the blockchain...  \n",
       "9483                      Screw over Karen, help the kid  "
      ]
     },
     "execution_count": 13,
     "metadata": {},
     "output_type": "execute_result"
    }
   ],
   "source": [
    "df_reddit[df_reddit['upvote_delta']<350].sort_values(by='timeup_list').tail(10)"
   ]
  },
  {
   "cell_type": "markdown",
   "id": "2ff6204e-a7d0-4b18-80de-774eaf0da4a9",
   "metadata": {},
   "source": [
    "It is my understanding that log rates of up time for the post and vote count are related to what gets pushed to the front page."
   ]
  },
  {
   "cell_type": "markdown",
   "id": "2c1d6d71-d56f-4dec-99fd-ef78fac85f3b",
   "metadata": {},
   "source": [
    "While we will see that indeed posts can get to the front page with low comments, its highly unlikely that they make it to the front page with a low amount of votes."
   ]
  },
  {
   "cell_type": "code",
   "execution_count": 14,
   "id": "3eac54d4-b44e-4109-a629-204443d96b82",
   "metadata": {},
   "outputs": [
    {
     "data": {
      "text/html": [
       "<div>\n",
       "<style scoped>\n",
       "    .dataframe tbody tr th:only-of-type {\n",
       "        vertical-align: middle;\n",
       "    }\n",
       "\n",
       "    .dataframe tbody tr th {\n",
       "        vertical-align: top;\n",
       "    }\n",
       "\n",
       "    .dataframe thead th {\n",
       "        text-align: right;\n",
       "    }\n",
       "</style>\n",
       "<table border=\"1\" class=\"dataframe\">\n",
       "  <thead>\n",
       "    <tr style=\"text-align: right;\">\n",
       "      <th></th>\n",
       "      <th>comment_count</th>\n",
       "      <th>upvote_delta</th>\n",
       "      <th>timeup_list</th>\n",
       "      <th>subreddit</th>\n",
       "      <th>thread_text</th>\n",
       "    </tr>\n",
       "  </thead>\n",
       "  <tbody>\n",
       "    <tr>\n",
       "      <th>964</th>\n",
       "      <td>52.0</td>\n",
       "      <td>950.0</td>\n",
       "      <td>132.0</td>\n",
       "      <td>r/greentext</td>\n",
       "      <td>anon is a dumbass</td>\n",
       "    </tr>\n",
       "    <tr>\n",
       "      <th>1130</th>\n",
       "      <td>297.0</td>\n",
       "      <td>7700.0</td>\n",
       "      <td>60.0</td>\n",
       "      <td>r/dumbasseswithlighters</td>\n",
       "      <td>What could go wrong trying to spit fire</td>\n",
       "    </tr>\n",
       "    <tr>\n",
       "      <th>1442</th>\n",
       "      <td>90.0</td>\n",
       "      <td>2000.0</td>\n",
       "      <td>84.0</td>\n",
       "      <td>r/therewasanattempt</td>\n",
       "      <td>HMFT after I try to rope swing above these rocks</td>\n",
       "    </tr>\n",
       "    <tr>\n",
       "      <th>1922</th>\n",
       "      <td>175.0</td>\n",
       "      <td>4900.0</td>\n",
       "      <td>108.0</td>\n",
       "      <td>r/therewasanattempt</td>\n",
       "      <td>HMFT after I try to rope swing above these rocks</td>\n",
       "    </tr>\n",
       "    <tr>\n",
       "      <th>1972</th>\n",
       "      <td>66.0</td>\n",
       "      <td>9800.0</td>\n",
       "      <td>60.0</td>\n",
       "      <td>r/matrixmemes</td>\n",
       "      <td>The only time I wanna see Morpheous in a bathr...</td>\n",
       "    </tr>\n",
       "    <tr>\n",
       "      <th>1978</th>\n",
       "      <td>63.0</td>\n",
       "      <td>6700.0</td>\n",
       "      <td>60.0</td>\n",
       "      <td>r/wholesomegifs</td>\n",
       "      <td>Had to watch it through multiple times to see ...</td>\n",
       "    </tr>\n",
       "    <tr>\n",
       "      <th>3263</th>\n",
       "      <td>241.0</td>\n",
       "      <td>3600.0</td>\n",
       "      <td>60.0</td>\n",
       "      <td>r/TiktokCringeTime</td>\n",
       "      <td>Teenage Girl nails movements from a game franc...</td>\n",
       "    </tr>\n",
       "    <tr>\n",
       "      <th>3986</th>\n",
       "      <td>119.0</td>\n",
       "      <td>736.0</td>\n",
       "      <td>228.0</td>\n",
       "      <td>r/Cringetopia</td>\n",
       "      <td>GUYS GET SOME HELP</td>\n",
       "    </tr>\n",
       "    <tr>\n",
       "      <th>4359</th>\n",
       "      <td>69.0</td>\n",
       "      <td>4300.0</td>\n",
       "      <td>60.0</td>\n",
       "      <td>r/funnyvideos</td>\n",
       "      <td>What did he expect?</td>\n",
       "    </tr>\n",
       "    <tr>\n",
       "      <th>4973</th>\n",
       "      <td>79.0</td>\n",
       "      <td>1100.0</td>\n",
       "      <td>60.0</td>\n",
       "      <td>r/antiwork</td>\n",
       "      <td>Let’s all go on strike and demand better</td>\n",
       "    </tr>\n",
       "    <tr>\n",
       "      <th>5612</th>\n",
       "      <td>795.0</td>\n",
       "      <td>4900.0</td>\n",
       "      <td>60.0</td>\n",
       "      <td>r/technology</td>\n",
       "      <td>Facebook's reputation is so bad, the company m...</td>\n",
       "    </tr>\n",
       "    <tr>\n",
       "      <th>5832</th>\n",
       "      <td>197.0</td>\n",
       "      <td>4700.0</td>\n",
       "      <td>84.0</td>\n",
       "      <td>r/antiwork</td>\n",
       "      <td>This should be mandatory training for all inte...</td>\n",
       "    </tr>\n",
       "    <tr>\n",
       "      <th>6991</th>\n",
       "      <td>40.0</td>\n",
       "      <td>884.0</td>\n",
       "      <td>60.0</td>\n",
       "      <td>r/AskThe_Donald</td>\n",
       "      <td>I'm not sure if this is peak persecution fetis...</td>\n",
       "    </tr>\n",
       "    <tr>\n",
       "      <th>8304</th>\n",
       "      <td>109.0</td>\n",
       "      <td>2800.0</td>\n",
       "      <td>180.0</td>\n",
       "      <td>r/DocumentedFights</td>\n",
       "      <td>HMFT after I try to attack someone whose filmi...</td>\n",
       "    </tr>\n",
       "    <tr>\n",
       "      <th>9626</th>\n",
       "      <td>401.0</td>\n",
       "      <td>8000.0</td>\n",
       "      <td>60.0</td>\n",
       "      <td>r/facepalm</td>\n",
       "      <td>Getting mad at a Target for not arresting her ...</td>\n",
       "    </tr>\n",
       "    <tr>\n",
       "      <th>11615</th>\n",
       "      <td>530.0</td>\n",
       "      <td>13400.0</td>\n",
       "      <td>60.0</td>\n",
       "      <td>r/pics</td>\n",
       "      <td>Cheap child labor</td>\n",
       "    </tr>\n",
       "  </tbody>\n",
       "</table>\n",
       "</div>"
      ],
      "text/plain": [
       "       comment_count  upvote_delta  timeup_list                subreddit  \\\n",
       "964             52.0         950.0        132.0              r/greentext   \n",
       "1130           297.0        7700.0         60.0  r/dumbasseswithlighters   \n",
       "1442            90.0        2000.0         84.0      r/therewasanattempt   \n",
       "1922           175.0        4900.0        108.0      r/therewasanattempt   \n",
       "1972            66.0        9800.0         60.0            r/matrixmemes   \n",
       "1978            63.0        6700.0         60.0          r/wholesomegifs   \n",
       "3263           241.0        3600.0         60.0       r/TiktokCringeTime   \n",
       "3986           119.0         736.0        228.0            r/Cringetopia   \n",
       "4359            69.0        4300.0         60.0            r/funnyvideos   \n",
       "4973            79.0        1100.0         60.0               r/antiwork   \n",
       "5612           795.0        4900.0         60.0             r/technology   \n",
       "5832           197.0        4700.0         84.0               r/antiwork   \n",
       "6991            40.0         884.0         60.0          r/AskThe_Donald   \n",
       "8304           109.0        2800.0        180.0       r/DocumentedFights   \n",
       "9626           401.0        8000.0         60.0               r/facepalm   \n",
       "11615          530.0       13400.0         60.0                   r/pics   \n",
       "\n",
       "                                             thread_text  \n",
       "964                                    anon is a dumbass  \n",
       "1130             What could go wrong trying to spit fire  \n",
       "1442    HMFT after I try to rope swing above these rocks  \n",
       "1922    HMFT after I try to rope swing above these rocks  \n",
       "1972   The only time I wanna see Morpheous in a bathr...  \n",
       "1978   Had to watch it through multiple times to see ...  \n",
       "3263   Teenage Girl nails movements from a game franc...  \n",
       "3986                                  GUYS GET SOME HELP  \n",
       "4359                                 What did he expect?  \n",
       "4973            Let’s all go on strike and demand better  \n",
       "5612   Facebook's reputation is so bad, the company m...  \n",
       "5832   This should be mandatory training for all inte...  \n",
       "6991   I'm not sure if this is peak persecution fetis...  \n",
       "8304   HMFT after I try to attack someone whose filmi...  \n",
       "9626   Getting mad at a Target for not arresting her ...  \n",
       "11615                                  Cheap child labor  "
      ]
     },
     "execution_count": 14,
     "metadata": {},
     "output_type": "execute_result"
    }
   ],
   "source": [
    "df_reddit[df_reddit['timeup_list']>24]"
   ]
  },
  {
   "cell_type": "markdown",
   "id": "039e164f-0ac5-471c-97f6-34f1e387a6cd",
   "metadata": {},
   "source": [
    "Going to clean out threads with long up times, threads getting 'rezzed' are not in the scope of this project."
   ]
  },
  {
   "cell_type": "code",
   "execution_count": 15,
   "id": "06dc8c4f-8c7f-4aa5-b627-4b1cd147c770",
   "metadata": {},
   "outputs": [
    {
     "name": "stdout",
     "output_type": "stream",
     "text": [
      "(16, 5)\n"
     ]
    },
    {
     "data": {
      "text/plain": [
       "(12108, 5)"
      ]
     },
     "execution_count": 15,
     "metadata": {},
     "output_type": "execute_result"
    }
   ],
   "source": [
    "print(df_reddit[df_reddit['timeup_list']>24].shape)\n",
    "df_reddit=df_reddit[df_reddit['timeup_list']<=24]\n",
    "df_reddit.shape"
   ]
  },
  {
   "cell_type": "markdown",
   "id": "812310d1-d66d-457c-9662-9de7c2d7086d",
   "metadata": {},
   "source": [
    "Removing posts up for large amounts of time"
   ]
  },
  {
   "cell_type": "code",
   "execution_count": 16,
   "id": "96dde81c-b4cb-41f8-b57b-3f62b8808923",
   "metadata": {},
   "outputs": [],
   "source": [
    "df_reddit=df_reddit[df_reddit['upvote_delta']>=350]"
   ]
  },
  {
   "cell_type": "code",
   "execution_count": 17,
   "id": "00efb82b-e58e-478a-8ca6-c86dfe9cd7b5",
   "metadata": {},
   "outputs": [
    {
     "data": {
      "text/html": [
       "<div>\n",
       "<style scoped>\n",
       "    .dataframe tbody tr th:only-of-type {\n",
       "        vertical-align: middle;\n",
       "    }\n",
       "\n",
       "    .dataframe tbody tr th {\n",
       "        vertical-align: top;\n",
       "    }\n",
       "\n",
       "    .dataframe thead th {\n",
       "        text-align: right;\n",
       "    }\n",
       "</style>\n",
       "<table border=\"1\" class=\"dataframe\">\n",
       "  <thead>\n",
       "    <tr style=\"text-align: right;\">\n",
       "      <th></th>\n",
       "      <th>comment_count</th>\n",
       "      <th>upvote_delta</th>\n",
       "      <th>timeup_list</th>\n",
       "      <th>subreddit</th>\n",
       "      <th>thread_text</th>\n",
       "    </tr>\n",
       "  </thead>\n",
       "  <tbody>\n",
       "    <tr>\n",
       "      <th>510</th>\n",
       "      <td>2300.0</td>\n",
       "      <td>23900.0</td>\n",
       "      <td>15.0</td>\n",
       "      <td>r/movies</td>\n",
       "      <td>The Big Lebowski is one of the funniest, best ...</td>\n",
       "    </tr>\n",
       "    <tr>\n",
       "      <th>515</th>\n",
       "      <td>1900.0</td>\n",
       "      <td>12500.0</td>\n",
       "      <td>17.0</td>\n",
       "      <td>r/Coronavirus</td>\n",
       "      <td>The Covid-19 case surge is altering daily life...</td>\n",
       "    </tr>\n",
       "    <tr>\n",
       "      <th>518</th>\n",
       "      <td>1800.0</td>\n",
       "      <td>5000.0</td>\n",
       "      <td>14.0</td>\n",
       "      <td>r/CryptoCurrency</td>\n",
       "      <td>Best lifehacks in crypto that beginners should...</td>\n",
       "    </tr>\n",
       "    <tr>\n",
       "      <th>525</th>\n",
       "      <td>1600.0</td>\n",
       "      <td>30800.0</td>\n",
       "      <td>15.0</td>\n",
       "      <td>r/awfuleverything</td>\n",
       "      <td>It's more common in men than you think. What k...</td>\n",
       "    </tr>\n",
       "    <tr>\n",
       "      <th>527</th>\n",
       "      <td>1700.0</td>\n",
       "      <td>12400.0</td>\n",
       "      <td>15.0</td>\n",
       "      <td>r/gtaonline</td>\n",
       "      <td>Fuck zodiac signs.</td>\n",
       "    </tr>\n",
       "    <tr>\n",
       "      <th>...</th>\n",
       "      <td>...</td>\n",
       "      <td>...</td>\n",
       "      <td>...</td>\n",
       "      <td>...</td>\n",
       "      <td>...</td>\n",
       "    </tr>\n",
       "    <tr>\n",
       "      <th>12086</th>\n",
       "      <td>913.0</td>\n",
       "      <td>16100.0</td>\n",
       "      <td>19.0</td>\n",
       "      <td>r/Futurology</td>\n",
       "      <td>Japan Is Working on a COVID-19 Vaccine That Of...</td>\n",
       "    </tr>\n",
       "    <tr>\n",
       "      <th>12092</th>\n",
       "      <td>814.0</td>\n",
       "      <td>10600.0</td>\n",
       "      <td>19.0</td>\n",
       "      <td>r/unitedkingdom</td>\n",
       "      <td>Prince Andrew asked to prove his inability to ...</td>\n",
       "    </tr>\n",
       "    <tr>\n",
       "      <th>12114</th>\n",
       "      <td>717.0</td>\n",
       "      <td>41700.0</td>\n",
       "      <td>17.0</td>\n",
       "      <td>r/NatureIsFuckingLit</td>\n",
       "      <td>🔥 The kakapo also known as The owl parrot, is ...</td>\n",
       "    </tr>\n",
       "    <tr>\n",
       "      <th>12116</th>\n",
       "      <td>695.0</td>\n",
       "      <td>15400.0</td>\n",
       "      <td>15.0</td>\n",
       "      <td>r/insaneparents</td>\n",
       "      <td>I’m sure this 10-year-old kid made his own inf...</td>\n",
       "    </tr>\n",
       "    <tr>\n",
       "      <th>12119</th>\n",
       "      <td>650.0</td>\n",
       "      <td>9400.0</td>\n",
       "      <td>18.0</td>\n",
       "      <td>r/GreenAndPleasant</td>\n",
       "      <td>Some of those who nonce foxes...</td>\n",
       "    </tr>\n",
       "  </tbody>\n",
       "</table>\n",
       "<p>891 rows × 5 columns</p>\n",
       "</div>"
      ],
      "text/plain": [
       "       comment_count  upvote_delta  timeup_list             subreddit  \\\n",
       "510           2300.0       23900.0         15.0              r/movies   \n",
       "515           1900.0       12500.0         17.0         r/Coronavirus   \n",
       "518           1800.0        5000.0         14.0      r/CryptoCurrency   \n",
       "525           1600.0       30800.0         15.0     r/awfuleverything   \n",
       "527           1700.0       12400.0         15.0           r/gtaonline   \n",
       "...              ...           ...          ...                   ...   \n",
       "12086          913.0       16100.0         19.0          r/Futurology   \n",
       "12092          814.0       10600.0         19.0       r/unitedkingdom   \n",
       "12114          717.0       41700.0         17.0  r/NatureIsFuckingLit   \n",
       "12116          695.0       15400.0         15.0       r/insaneparents   \n",
       "12119          650.0        9400.0         18.0    r/GreenAndPleasant   \n",
       "\n",
       "                                             thread_text  \n",
       "510    The Big Lebowski is one of the funniest, best ...  \n",
       "515    The Covid-19 case surge is altering daily life...  \n",
       "518    Best lifehacks in crypto that beginners should...  \n",
       "525    It's more common in men than you think. What k...  \n",
       "527                                   Fuck zodiac signs.  \n",
       "...                                                  ...  \n",
       "12086  Japan Is Working on a COVID-19 Vaccine That Of...  \n",
       "12092  Prince Andrew asked to prove his inability to ...  \n",
       "12114  🔥 The kakapo also known as The owl parrot, is ...  \n",
       "12116  I’m sure this 10-year-old kid made his own inf...  \n",
       "12119                   Some of those who nonce foxes...  \n",
       "\n",
       "[891 rows x 5 columns]"
      ]
     },
     "execution_count": 17,
     "metadata": {},
     "output_type": "execute_result"
    }
   ],
   "source": [
    "df_reddit[df_reddit.duplicated(subset=['thread_text','subreddit'], keep='first')]"
   ]
  },
  {
   "cell_type": "markdown",
   "id": "ee0d8a2e-de51-40f1-937b-4d785a124299",
   "metadata": {},
   "source": [
    "A quick check on the duplicates of thread text duplicates, its no surprise that some subreddits will have many threads titled similarly or even the same as the subreddit to a degree."
   ]
  },
  {
   "cell_type": "code",
   "execution_count": 18,
   "id": "0d5530cf-c0ab-40e1-af6e-87a75042f84d",
   "metadata": {},
   "outputs": [
    {
     "data": {
      "text/plain": [
       "count      977.000000\n",
       "mean       639.704197\n",
       "std       1279.012794\n",
       "min         10.000000\n",
       "25%        127.000000\n",
       "50%        272.000000\n",
       "75%        650.000000\n",
       "max      19700.000000\n",
       "Name: comment_count, dtype: float64"
      ]
     },
     "execution_count": 18,
     "metadata": {},
     "output_type": "execute_result"
    }
   ],
   "source": [
    "df_reddit[df_reddit.duplicated(subset=['thread_text'], keep='first')].comment_count.describe()"
   ]
  },
  {
   "cell_type": "code",
   "execution_count": 19,
   "id": "5670d3cd-015e-4bc1-a860-bf0d509fbaac",
   "metadata": {},
   "outputs": [
    {
     "data": {
      "text/plain": [
       "count     977.000000\n",
       "mean      288.131013\n",
       "std       559.841090\n",
       "min         3.000000\n",
       "25%        64.000000\n",
       "50%       124.000000\n",
       "75%       278.000000\n",
       "max      5900.000000\n",
       "Name: comment_count, dtype: float64"
      ]
     },
     "execution_count": 19,
     "metadata": {},
     "output_type": "execute_result"
    }
   ],
   "source": [
    "df_reddit[df_reddit.duplicated(subset=['thread_text'], keep='last')].comment_count.describe()"
   ]
  },
  {
   "cell_type": "markdown",
   "id": "992659e4-a84a-48f7-ab36-8ad6b0f8537e",
   "metadata": {},
   "source": [
    "Since over 10,000 posts was a target sample size, dropping duplicates is not the end of the world."
   ]
  },
  {
   "cell_type": "code",
   "execution_count": 20,
   "id": "72d37b5b-cf93-4adf-8a46-a3fc298475e6",
   "metadata": {},
   "outputs": [
    {
     "data": {
      "text/html": [
       "<div>\n",
       "<style scoped>\n",
       "    .dataframe tbody tr th:only-of-type {\n",
       "        vertical-align: middle;\n",
       "    }\n",
       "\n",
       "    .dataframe tbody tr th {\n",
       "        vertical-align: top;\n",
       "    }\n",
       "\n",
       "    .dataframe thead th {\n",
       "        text-align: right;\n",
       "    }\n",
       "</style>\n",
       "<table border=\"1\" class=\"dataframe\">\n",
       "  <thead>\n",
       "    <tr style=\"text-align: right;\">\n",
       "      <th></th>\n",
       "      <th>comment_count</th>\n",
       "      <th>upvote_delta</th>\n",
       "      <th>timeup_list</th>\n",
       "      <th>subreddit</th>\n",
       "      <th>thread_text</th>\n",
       "    </tr>\n",
       "  </thead>\n",
       "  <tbody>\n",
       "    <tr>\n",
       "      <th>1525</th>\n",
       "      <td>3000.0</td>\n",
       "      <td>101000.0</td>\n",
       "      <td>14.0</td>\n",
       "      <td>r/me_irl</td>\n",
       "      <td>Me_irl</td>\n",
       "    </tr>\n",
       "    <tr>\n",
       "      <th>11025</th>\n",
       "      <td>1900.0</td>\n",
       "      <td>65100.0</td>\n",
       "      <td>12.0</td>\n",
       "      <td>r/me_irl</td>\n",
       "      <td>me_irl</td>\n",
       "    </tr>\n",
       "    <tr>\n",
       "      <th>10621</th>\n",
       "      <td>852.0</td>\n",
       "      <td>63600.0</td>\n",
       "      <td>17.0</td>\n",
       "      <td>r/me_irl</td>\n",
       "      <td>me_irl</td>\n",
       "    </tr>\n",
       "    <tr>\n",
       "      <th>8049</th>\n",
       "      <td>787.0</td>\n",
       "      <td>31600.0</td>\n",
       "      <td>10.0</td>\n",
       "      <td>r/me_irl</td>\n",
       "      <td>me_irl</td>\n",
       "    </tr>\n",
       "    <tr>\n",
       "      <th>3155</th>\n",
       "      <td>652.0</td>\n",
       "      <td>43200.0</td>\n",
       "      <td>13.0</td>\n",
       "      <td>r/me_irl</td>\n",
       "      <td>me_irl</td>\n",
       "    </tr>\n",
       "  </tbody>\n",
       "</table>\n",
       "</div>"
      ],
      "text/plain": [
       "       comment_count  upvote_delta  timeup_list subreddit thread_text\n",
       "1525          3000.0      101000.0         14.0  r/me_irl      Me_irl\n",
       "11025         1900.0       65100.0         12.0  r/me_irl      me_irl\n",
       "10621          852.0       63600.0         17.0  r/me_irl      me_irl\n",
       "8049           787.0       31600.0         10.0  r/me_irl      me_irl\n",
       "3155           652.0       43200.0         13.0  r/me_irl      me_irl"
      ]
     },
     "execution_count": 20,
     "metadata": {},
     "output_type": "execute_result"
    }
   ],
   "source": [
    "df_reddit[df_reddit['subreddit']=='r/me_irl'].sort_values(by='comment_count',ascending=False).head(5)"
   ]
  },
  {
   "cell_type": "code",
   "execution_count": 21,
   "id": "1f222c8e-423f-4ec7-9b05-0840fbcf3de1",
   "metadata": {},
   "outputs": [
    {
     "data": {
      "text/html": [
       "<div>\n",
       "<style scoped>\n",
       "    .dataframe tbody tr th:only-of-type {\n",
       "        vertical-align: middle;\n",
       "    }\n",
       "\n",
       "    .dataframe tbody tr th {\n",
       "        vertical-align: top;\n",
       "    }\n",
       "\n",
       "    .dataframe thead th {\n",
       "        text-align: right;\n",
       "    }\n",
       "</style>\n",
       "<table border=\"1\" class=\"dataframe\">\n",
       "  <thead>\n",
       "    <tr style=\"text-align: right;\">\n",
       "      <th></th>\n",
       "      <th>comment_count</th>\n",
       "      <th>upvote_delta</th>\n",
       "      <th>timeup_list</th>\n",
       "      <th>subreddit</th>\n",
       "      <th>thread_text</th>\n",
       "    </tr>\n",
       "  </thead>\n",
       "  <tbody>\n",
       "    <tr>\n",
       "      <th>5400</th>\n",
       "      <td>47.0</td>\n",
       "      <td>5100.0</td>\n",
       "      <td>7.0</td>\n",
       "      <td>r/me_irl</td>\n",
       "      <td>Me_irl</td>\n",
       "    </tr>\n",
       "    <tr>\n",
       "      <th>9616</th>\n",
       "      <td>44.0</td>\n",
       "      <td>12600.0</td>\n",
       "      <td>7.0</td>\n",
       "      <td>r/me_irl</td>\n",
       "      <td>me_irl</td>\n",
       "    </tr>\n",
       "    <tr>\n",
       "      <th>11455</th>\n",
       "      <td>42.0</td>\n",
       "      <td>7300.0</td>\n",
       "      <td>8.0</td>\n",
       "      <td>r/me_irl</td>\n",
       "      <td>me🏃irl</td>\n",
       "    </tr>\n",
       "    <tr>\n",
       "      <th>2625</th>\n",
       "      <td>28.0</td>\n",
       "      <td>3900.0</td>\n",
       "      <td>11.0</td>\n",
       "      <td>r/me_irl</td>\n",
       "      <td>Thanks i hate how he \"repaired\" the emoji</td>\n",
       "    </tr>\n",
       "    <tr>\n",
       "      <th>11586</th>\n",
       "      <td>22.0</td>\n",
       "      <td>6600.0</td>\n",
       "      <td>7.0</td>\n",
       "      <td>r/me_irl</td>\n",
       "      <td>me_irl</td>\n",
       "    </tr>\n",
       "  </tbody>\n",
       "</table>\n",
       "</div>"
      ],
      "text/plain": [
       "       comment_count  upvote_delta  timeup_list subreddit  \\\n",
       "5400            47.0        5100.0          7.0  r/me_irl   \n",
       "9616            44.0       12600.0          7.0  r/me_irl   \n",
       "11455           42.0        7300.0          8.0  r/me_irl   \n",
       "2625            28.0        3900.0         11.0  r/me_irl   \n",
       "11586           22.0        6600.0          7.0  r/me_irl   \n",
       "\n",
       "                                     thread_text  \n",
       "5400                                      Me_irl  \n",
       "9616                                      me_irl  \n",
       "11455                                     me🏃irl  \n",
       "2625   Thanks i hate how he \"repaired\" the emoji  \n",
       "11586                                     me_irl  "
      ]
     },
     "execution_count": 21,
     "metadata": {},
     "output_type": "execute_result"
    }
   ],
   "source": [
    "df_reddit[df_reddit['subreddit']=='r/me_irl'].sort_values(by='comment_count',ascending=False).tail(5)"
   ]
  },
  {
   "cell_type": "code",
   "execution_count": 22,
   "id": "f6dc9f3d-930a-4f80-85cf-a40d91c540b9",
   "metadata": {},
   "outputs": [
    {
     "data": {
      "text/plain": [
       "comment_count    22\n",
       "upvote_delta     22\n",
       "timeup_list      22\n",
       "subreddit        22\n",
       "thread_text      22\n",
       "dtype: int64"
      ]
     },
     "execution_count": 22,
     "metadata": {},
     "output_type": "execute_result"
    }
   ],
   "source": [
    "df_reddit[(df_reddit['subreddit']=='r/me_irl') & (df_reddit['thread_text']=='me_irl')].count()"
   ]
  },
  {
   "cell_type": "markdown",
   "id": "ab7de3d6-886f-4454-b8e1-6bff8125cb3e",
   "metadata": {},
   "source": [
    "For example, the subreddit 'me_irl' has 22 appearances in the dataset with a wide range of comment numbers.  Based on the scope of this project posts like this will probably not add meaningful insight when modeled."
   ]
  },
  {
   "cell_type": "code",
   "execution_count": 23,
   "id": "39a215c2-60c3-4d4c-b518-4f8ff407dbef",
   "metadata": {},
   "outputs": [
    {
     "data": {
      "text/html": [
       "<div>\n",
       "<style scoped>\n",
       "    .dataframe tbody tr th:only-of-type {\n",
       "        vertical-align: middle;\n",
       "    }\n",
       "\n",
       "    .dataframe tbody tr th {\n",
       "        vertical-align: top;\n",
       "    }\n",
       "\n",
       "    .dataframe thead th {\n",
       "        text-align: right;\n",
       "    }\n",
       "</style>\n",
       "<table border=\"1\" class=\"dataframe\">\n",
       "  <thead>\n",
       "    <tr style=\"text-align: right;\">\n",
       "      <th></th>\n",
       "      <th>count</th>\n",
       "      <th>mean</th>\n",
       "      <th>std</th>\n",
       "      <th>min</th>\n",
       "      <th>25%</th>\n",
       "      <th>50%</th>\n",
       "      <th>75%</th>\n",
       "      <th>max</th>\n",
       "    </tr>\n",
       "  </thead>\n",
       "  <tbody>\n",
       "    <tr>\n",
       "      <th>comment_count</th>\n",
       "      <td>31.0</td>\n",
       "      <td>319.516129</td>\n",
       "      <td>431.235888</td>\n",
       "      <td>14.0</td>\n",
       "      <td>78.5</td>\n",
       "      <td>154.0</td>\n",
       "      <td>375.0</td>\n",
       "      <td>2000.0</td>\n",
       "    </tr>\n",
       "    <tr>\n",
       "      <th>upvote_delta</th>\n",
       "      <td>31.0</td>\n",
       "      <td>13125.806452</td>\n",
       "      <td>12301.570841</td>\n",
       "      <td>2100.0</td>\n",
       "      <td>5450.0</td>\n",
       "      <td>8600.0</td>\n",
       "      <td>13550.0</td>\n",
       "      <td>55400.0</td>\n",
       "    </tr>\n",
       "    <tr>\n",
       "      <th>timeup_list</th>\n",
       "      <td>31.0</td>\n",
       "      <td>9.419355</td>\n",
       "      <td>4.318751</td>\n",
       "      <td>4.0</td>\n",
       "      <td>6.0</td>\n",
       "      <td>8.0</td>\n",
       "      <td>10.5</td>\n",
       "      <td>20.0</td>\n",
       "    </tr>\n",
       "  </tbody>\n",
       "</table>\n",
       "</div>"
      ],
      "text/plain": [
       "               count          mean           std     min     25%     50%  \\\n",
       "comment_count   31.0    319.516129    431.235888    14.0    78.5   154.0   \n",
       "upvote_delta    31.0  13125.806452  12301.570841  2100.0  5450.0  8600.0   \n",
       "timeup_list     31.0      9.419355      4.318751     4.0     6.0     8.0   \n",
       "\n",
       "                   75%      max  \n",
       "comment_count    375.0   2000.0  \n",
       "upvote_delta   13550.0  55400.0  \n",
       "timeup_list       10.5     20.0  "
      ]
     },
     "execution_count": 23,
     "metadata": {},
     "output_type": "execute_result"
    }
   ],
   "source": [
    "df_reddit[(df_reddit['subreddit']=='r/maybemaybemaybe')].describe().T"
   ]
  },
  {
   "cell_type": "code",
   "execution_count": 24,
   "id": "56875c12-3233-4573-bd1e-f2ecd535f014",
   "metadata": {},
   "outputs": [
    {
     "data": {
      "text/html": [
       "<div>\n",
       "<style scoped>\n",
       "    .dataframe tbody tr th:only-of-type {\n",
       "        vertical-align: middle;\n",
       "    }\n",
       "\n",
       "    .dataframe tbody tr th {\n",
       "        vertical-align: top;\n",
       "    }\n",
       "\n",
       "    .dataframe thead th {\n",
       "        text-align: right;\n",
       "    }\n",
       "</style>\n",
       "<table border=\"1\" class=\"dataframe\">\n",
       "  <thead>\n",
       "    <tr style=\"text-align: right;\">\n",
       "      <th></th>\n",
       "      <th>comment_count</th>\n",
       "      <th>upvote_delta</th>\n",
       "      <th>timeup_list</th>\n",
       "      <th>subreddit</th>\n",
       "      <th>thread_text</th>\n",
       "    </tr>\n",
       "  </thead>\n",
       "  <tbody>\n",
       "    <tr>\n",
       "      <th>302</th>\n",
       "      <td>27.0</td>\n",
       "      <td>2800.0</td>\n",
       "      <td>5.0</td>\n",
       "      <td>r/maybemaybemaybe</td>\n",
       "      <td>Maybe Maybe Maybe</td>\n",
       "    </tr>\n",
       "    <tr>\n",
       "      <th>391</th>\n",
       "      <td>89.0</td>\n",
       "      <td>2100.0</td>\n",
       "      <td>5.0</td>\n",
       "      <td>r/maybemaybemaybe</td>\n",
       "      <td>Maybe maybe maybe</td>\n",
       "    </tr>\n",
       "    <tr>\n",
       "      <th>678</th>\n",
       "      <td>213.0</td>\n",
       "      <td>8600.0</td>\n",
       "      <td>9.0</td>\n",
       "      <td>r/maybemaybemaybe</td>\n",
       "      <td>maybe maybe maybe</td>\n",
       "    </tr>\n",
       "    <tr>\n",
       "      <th>1121</th>\n",
       "      <td>278.0</td>\n",
       "      <td>11800.0</td>\n",
       "      <td>7.0</td>\n",
       "      <td>r/maybemaybemaybe</td>\n",
       "      <td>Maybe maybe Maybe</td>\n",
       "    </tr>\n",
       "    <tr>\n",
       "      <th>1199</th>\n",
       "      <td>381.0</td>\n",
       "      <td>19500.0</td>\n",
       "      <td>9.0</td>\n",
       "      <td>r/maybemaybemaybe</td>\n",
       "      <td>Maybe Maybe Maybe</td>\n",
       "    </tr>\n",
       "  </tbody>\n",
       "</table>\n",
       "</div>"
      ],
      "text/plain": [
       "      comment_count  upvote_delta  timeup_list          subreddit  \\\n",
       "302            27.0        2800.0          5.0  r/maybemaybemaybe   \n",
       "391            89.0        2100.0          5.0  r/maybemaybemaybe   \n",
       "678           213.0        8600.0          9.0  r/maybemaybemaybe   \n",
       "1121          278.0       11800.0          7.0  r/maybemaybemaybe   \n",
       "1199          381.0       19500.0          9.0  r/maybemaybemaybe   \n",
       "\n",
       "            thread_text  \n",
       "302   Maybe Maybe Maybe  \n",
       "391   Maybe maybe maybe  \n",
       "678   maybe maybe maybe  \n",
       "1121  Maybe maybe Maybe  \n",
       "1199  Maybe Maybe Maybe  "
      ]
     },
     "execution_count": 24,
     "metadata": {},
     "output_type": "execute_result"
    }
   ],
   "source": [
    "df_reddit[(df_reddit['subreddit']=='r/maybemaybemaybe')].head(5)"
   ]
  },
  {
   "cell_type": "markdown",
   "id": "9391157f-6b14-4f8f-bd8b-c8158ff16a87",
   "metadata": {},
   "source": [
    "Another example of the subreddit r/maybemaybemaybe, many of the threads are the subreddit text itself (memes and such yes)"
   ]
  },
  {
   "cell_type": "code",
   "execution_count": 25,
   "id": "5b9581ed-2757-4920-8b0b-7cdd9f89c48f",
   "metadata": {},
   "outputs": [],
   "source": [
    "df_reddit=df_reddit[~df_reddit.duplicated(subset=['thread_text'], keep='last')]"
   ]
  },
  {
   "cell_type": "markdown",
   "id": "0e701593-2ae9-45ba-8c4c-df5170ea59c5",
   "metadata": {},
   "source": [
    "Cleaning duplicates"
   ]
  },
  {
   "cell_type": "markdown",
   "id": "5ec49f85-4f73-47db-8143-905c9ceaddda",
   "metadata": {},
   "source": [
    "### EDA: General look after intial cleaning"
   ]
  },
  {
   "cell_type": "code",
   "execution_count": 26,
   "id": "a412c052-eb31-4b2a-b61e-cd8eed8fc01a",
   "metadata": {
    "tags": []
   },
   "outputs": [
    {
     "name": "stdout",
     "output_type": "stream",
     "text": [
      "Comment count stats-  mean: 451.24689468946895    median: 171.0\n"
     ]
    }
   ],
   "source": [
    "print('Comment count stats-  mean:',df_reddit['comment_count'].mean(),'   median:',df_reddit['comment_count'].median())"
   ]
  },
  {
   "cell_type": "markdown",
   "id": "daa64a8f-476e-4a7e-9816-4a5858165415",
   "metadata": {},
   "source": [
    "Post duplicate removal check on statistical values"
   ]
  },
  {
   "cell_type": "code",
   "execution_count": 27,
   "id": "c5ba89a7-4cec-4921-9be6-282d61957f26",
   "metadata": {},
   "outputs": [
    {
     "data": {
      "text/plain": [
       "count    11110.000000\n",
       "mean       451.246895\n",
       "std       1167.277686\n",
       "min          1.000000\n",
       "25%         87.000000\n",
       "50%        171.000000\n",
       "75%        408.000000\n",
       "max      32400.000000\n",
       "Name: comment_count, dtype: float64"
      ]
     },
     "execution_count": 27,
     "metadata": {},
     "output_type": "execute_result"
    }
   ],
   "source": [
    "df_reddit['comment_count'].describe()"
   ]
  },
  {
   "cell_type": "markdown",
   "id": "57c33d69-95d2-460b-8f3e-d998afcc62b3",
   "metadata": {},
   "source": [
    "Further cleaning will shift the statistical values, but its also possible that the high/low delination mark will be chosen to be mean over median."
   ]
  },
  {
   "cell_type": "code",
   "execution_count": 229,
   "id": "df5ed9ad-58c9-4e4b-9ce2-d4a52779432e",
   "metadata": {},
   "outputs": [
    {
     "data": {
      "image/png": "[encoded data removed]",
      "text/plain": [
       "<Figure size 1008x504 with 1 Axes>"
      ]
     },
     "metadata": {
      "needs_background": "light"
     },
     "output_type": "display_data"
    }
   ],
   "source": [
    "plt.figure(figsize = (14,7))\n",
    "sns.histplot(df_reddit[(df_reddit['comment_count']>405) & (df_reddit['comment_count']<5000)],x='comment_count')\n",
    "plt.title('Comment Count Histogram, Domain 405 to 5000',size=20)\n",
    "plt.xlabel('Comment Count',size=16)\n",
    "plt.ylabel('Number of Samples',size=16);"
   ]
  },
  {
   "cell_type": "markdown",
   "id": "0fcae454-e091-4d61-80bf-f63b8230ad1e",
   "metadata": {},
   "source": [
    "Good visual of how the once posts get over 2000 there is a sparse but continuous distribution of posts up until about 5000."
   ]
  },
  {
   "cell_type": "code",
   "execution_count": 228,
   "id": "0d8cdf30-49bf-4e12-9389-4c68d06baf5e",
   "metadata": {},
   "outputs": [
    {
     "data": {
      "image/png": "[encoded data removed]",
      "text/plain": [
       "<Figure size 1008x504 with 1 Axes>"
      ]
     },
     "metadata": {
      "needs_background": "light"
     },
     "output_type": "display_data"
    }
   ],
   "source": [
    "plt.figure(figsize = (14,7))\n",
    "sns.histplot(df_reddit[(df_reddit['comment_count']<=405)],x='comment_count')\n",
    "plt.title('Comment Count Histogram, Below 405 Comments',size=20)\n",
    "plt.xlabel('Comment Count',size=16)\n",
    "plt.ylabel('Number of Samples',size=16);"
   ]
  },
  {
   "cell_type": "markdown",
   "id": "6a390111-99f1-4a92-afce-25d85c165687",
   "metadata": {},
   "source": [
    "Large number of observations below 100 comment count"
   ]
  },
  {
   "cell_type": "code",
   "execution_count": 227,
   "id": "f69e0326-c92a-4b78-a34f-f8609130a8e3",
   "metadata": {},
   "outputs": [
    {
     "data": {
      "image/png": "[encoded data removed]",
      "text/plain": [
       "<Figure size 1008x504 with 1 Axes>"
      ]
     },
     "metadata": {
      "needs_background": "light"
     },
     "output_type": "display_data"
    }
   ],
   "source": [
    "plt.figure(figsize = (14,7))\n",
    "sns.histplot(df_reddit[(df_reddit['comment_count']>50) & (df_reddit['comment_count']<2000)],x='comment_count')\n",
    "plt.title('Comment Count Histogram, Domain 50 to 2000',size=20)\n",
    "plt.xlabel('Comment Count',size=16)\n",
    "plt.ylabel('Number of Samples',size=16);"
   ]
  },
  {
   "cell_type": "code",
   "execution_count": 31,
   "id": "0823cda2-48be-4e61-a338-c05e3deb51d4",
   "metadata": {},
   "outputs": [
    {
     "data": {
      "text/plain": [
       "(9907, 5)"
      ]
     },
     "execution_count": 31,
     "metadata": {},
     "output_type": "execute_result"
    }
   ],
   "source": [
    "df_reddit[df_reddit['comment_count']>50].shape"
   ]
  },
  {
   "cell_type": "code",
   "execution_count": 32,
   "id": "e062dd3c-f12b-4b0b-a93f-47d607083f60",
   "metadata": {},
   "outputs": [
    {
     "data": {
      "text/plain": [
       "9502"
      ]
     },
     "execution_count": 32,
     "metadata": {},
     "output_type": "execute_result"
    }
   ],
   "source": [
    "df_reddit[(df_reddit['comment_count']>50) & (df_reddit['comment_count']<2000)].shape[0]"
   ]
  },
  {
   "cell_type": "markdown",
   "id": "b93a4f19-eb52-493e-8f3e-470b2e3957e0",
   "metadata": {},
   "source": [
    "If we drop all comments below 50 this should help remove posts that probably are not typical of front page."
   ]
  },
  {
   "cell_type": "code",
   "execution_count": 33,
   "id": "cd13e089-d195-4c12-a809-7d76fdfc342c",
   "metadata": {},
   "outputs": [],
   "source": [
    "#df_reddit.groupby('subreddit')['comment_count'].mean().nlargest(20)"
   ]
  },
  {
   "cell_type": "code",
   "execution_count": 34,
   "id": "c4bb2543-6017-45d2-a931-8702fa5f9bff",
   "metadata": {},
   "outputs": [
    {
     "data": {
      "text/plain": [
       "subreddit\n",
       "r/antiwork                72\n",
       "r/MadeMeSmile             71\n",
       "r/memes                   67\n",
       "r/nextfuckinglevel        65\n",
       "r/Damnthatsinteresting    64\n",
       "r/interestingasfuck       61\n",
       "r/Unexpected              59\n",
       "r/facepalm                58\n",
       "r/HolUp                   56\n",
       "r/WhitePeopleTwitter      56\n",
       "r/aww                     55\n",
       "r/gaming                  54\n",
       "r/dankmemes               52\n",
       "r/funny                   52\n",
       "r/Superstonk              51\n",
       "r/pics                    51\n",
       "r/politics                51\n",
       "r/BlackPeopleTwitter      48\n",
       "r/AskReddit               47\n",
       "r/cats                    47\n",
       "Name: comment_count, dtype: int64"
      ]
     },
     "execution_count": 34,
     "metadata": {},
     "output_type": "execute_result"
    }
   ],
   "source": [
    "df_reddit.groupby('subreddit')['comment_count'].count().nlargest(20)"
   ]
  },
  {
   "cell_type": "markdown",
   "id": "1d170ead-135b-4dc5-8036-9285b30b49da",
   "metadata": {},
   "source": [
    "r/Antiwork is a subreddit that has been gaining substaintial traction, so its no surprise it has a very high frequency in our sample set."
   ]
  },
  {
   "cell_type": "markdown",
   "id": "5b2b622a-24ba-4a01-8402-03fc46f3794f",
   "metadata": {},
   "source": [
    "### EDA: No giveaways and suppress lower comment counts"
   ]
  },
  {
   "cell_type": "code",
   "execution_count": 35,
   "id": "84fda962-260f-4586-b1be-37e2a2a31f79",
   "metadata": {},
   "outputs": [
    {
     "data": {
      "text/html": [
       "<div>\n",
       "<style scoped>\n",
       "    .dataframe tbody tr th:only-of-type {\n",
       "        vertical-align: middle;\n",
       "    }\n",
       "\n",
       "    .dataframe tbody tr th {\n",
       "        vertical-align: top;\n",
       "    }\n",
       "\n",
       "    .dataframe thead th {\n",
       "        text-align: right;\n",
       "    }\n",
       "</style>\n",
       "<table border=\"1\" class=\"dataframe\">\n",
       "  <thead>\n",
       "    <tr style=\"text-align: right;\">\n",
       "      <th>thread_text</th>\n",
       "      <th>Whats criminally overpriced to you?</th>\n",
       "      <th>Without naming it, what is a TV show that is instantly recognizable based on one quote?</th>\n",
       "      <th>Non picky eaters, what’s a food you just cannot do?</th>\n",
       "      <th>What's your \"I fucking hate this song\" song?</th>\n",
       "      <th>What tastes good hot and cold?</th>\n",
       "      <th>To all the atheists, what is your reason for not believing in God or a higher power?</th>\n",
       "      <th>GIVEAWAY: I'm giving away Escape From Tarkov: Prepare for Escape Edition or $100 Cash to one comment in this thread</th>\n",
       "      <th>What were the dumbest lies you believed when you were a kid?</th>\n",
       "      <th>What is a survival myth that is completely wrong and could get you killed?</th>\n",
       "      <th>If you were handed 10 billion dollars right now, what would you still never buy?</th>\n",
       "      <th>People who aren’t celebrating or partying right now, what are you doing?</th>\n",
       "      <th>Who is your celebrity crush?</th>\n",
       "      <th>Which videogame consumed your entire life upon first play-through?</th>\n",
       "      <th>GIVEAWAY: I'm giving away $100 worth of The Witcher merch to one comment in this thread</th>\n",
       "      <th>Which TV show has never had a bad episode?</th>\n",
       "      <th>NVIDIA RTX 3050 announcement + NVIDIA Q&amp;A + RTX 3080Ti FE giveaway</th>\n",
       "      <th>What ruins a movie instantly?</th>\n",
       "      <th>What science fiction or fantasy show is worth watching?</th>\n",
       "      <th>What is a recent fashion trend that you can't stand?</th>\n",
       "      <th>FREE SILVER GIVEAWAY on REDDIT ... 15oz of SILVER FREE !!! Just comment why you love Silver and upvote this post. We will select 6 winners. 1st place gets 10oz End The Fed bar, 5 runner-up winners will get 1 oz WSS round! Contest ends New Years Eve at Midnight eastern time! 🚀</th>\n",
       "    </tr>\n",
       "  </thead>\n",
       "  <tbody>\n",
       "    <tr>\n",
       "      <th>comment_count</th>\n",
       "      <td>32400.0</td>\n",
       "      <td>31500.0</td>\n",
       "      <td>27300.0</td>\n",
       "      <td>24800.0</td>\n",
       "      <td>23400.0</td>\n",
       "      <td>20500.0</td>\n",
       "      <td>20500.0</td>\n",
       "      <td>19700.0</td>\n",
       "      <td>18900.0</td>\n",
       "      <td>18500.0</td>\n",
       "      <td>18300.0</td>\n",
       "      <td>18100.0</td>\n",
       "      <td>17600.0</td>\n",
       "      <td>17400.0</td>\n",
       "      <td>17100.0</td>\n",
       "      <td>17000.0</td>\n",
       "      <td>16900.0</td>\n",
       "      <td>15400.0</td>\n",
       "      <td>13500.0</td>\n",
       "      <td>13300.0</td>\n",
       "    </tr>\n",
       "    <tr>\n",
       "      <th>upvote_delta</th>\n",
       "      <td>42300.0</td>\n",
       "      <td>27300.0</td>\n",
       "      <td>29000.0</td>\n",
       "      <td>22300.0</td>\n",
       "      <td>29100.0</td>\n",
       "      <td>21200.0</td>\n",
       "      <td>5100.0</td>\n",
       "      <td>42400.0</td>\n",
       "      <td>58900.0</td>\n",
       "      <td>27000.0</td>\n",
       "      <td>37200.0</td>\n",
       "      <td>18300.0</td>\n",
       "      <td>23000.0</td>\n",
       "      <td>4000.0</td>\n",
       "      <td>19500.0</td>\n",
       "      <td>5200.0</td>\n",
       "      <td>19100.0</td>\n",
       "      <td>29100.0</td>\n",
       "      <td>15200.0</td>\n",
       "      <td>5500.0</td>\n",
       "    </tr>\n",
       "    <tr>\n",
       "      <th>timeup_list</th>\n",
       "      <td>16.0</td>\n",
       "      <td>16.0</td>\n",
       "      <td>14.0</td>\n",
       "      <td>6.0</td>\n",
       "      <td>10.0</td>\n",
       "      <td>17.0</td>\n",
       "      <td>12.0</td>\n",
       "      <td>16.0</td>\n",
       "      <td>15.0</td>\n",
       "      <td>10.0</td>\n",
       "      <td>15.0</td>\n",
       "      <td>9.0</td>\n",
       "      <td>12.0</td>\n",
       "      <td>12.0</td>\n",
       "      <td>10.0</td>\n",
       "      <td>13.0</td>\n",
       "      <td>6.0</td>\n",
       "      <td>16.0</td>\n",
       "      <td>12.0</td>\n",
       "      <td>15.0</td>\n",
       "    </tr>\n",
       "  </tbody>\n",
       "</table>\n",
       "</div>"
      ],
      "text/plain": [
       "thread_text    Whats criminally overpriced to you?  \\\n",
       "comment_count                              32400.0   \n",
       "upvote_delta                               42300.0   \n",
       "timeup_list                                   16.0   \n",
       "\n",
       "thread_text    Without naming it, what is a TV show that is instantly recognizable based on one quote?  \\\n",
       "comment_count                                            31500.0                                         \n",
       "upvote_delta                                             27300.0                                         \n",
       "timeup_list                                                 16.0                                         \n",
       "\n",
       "thread_text    Non picky eaters, what’s a food you just cannot do?  \\\n",
       "comment_count                                            27300.0     \n",
       "upvote_delta                                             29000.0     \n",
       "timeup_list                                                 14.0     \n",
       "\n",
       "thread_text    What's your \"I fucking hate this song\" song?  \\\n",
       "comment_count                                       24800.0   \n",
       "upvote_delta                                        22300.0   \n",
       "timeup_list                                             6.0   \n",
       "\n",
       "thread_text    What tastes good hot and cold?  \\\n",
       "comment_count                         23400.0   \n",
       "upvote_delta                          29100.0   \n",
       "timeup_list                              10.0   \n",
       "\n",
       "thread_text    To all the atheists, what is your reason for not believing in God or a higher power?  \\\n",
       "comment_count                                            20500.0                                      \n",
       "upvote_delta                                             21200.0                                      \n",
       "timeup_list                                                 17.0                                      \n",
       "\n",
       "thread_text    GIVEAWAY: I'm giving away Escape From Tarkov: Prepare for Escape Edition or $100 Cash to one comment in this thread  \\\n",
       "comment_count                                            20500.0                                                                     \n",
       "upvote_delta                                              5100.0                                                                     \n",
       "timeup_list                                                 12.0                                                                     \n",
       "\n",
       "thread_text    What were the dumbest lies you believed when you were a kid?  \\\n",
       "comment_count                                            19700.0              \n",
       "upvote_delta                                             42400.0              \n",
       "timeup_list                                                 16.0              \n",
       "\n",
       "thread_text    What is a survival myth that is completely wrong and could get you killed?  \\\n",
       "comment_count                                            18900.0                            \n",
       "upvote_delta                                             58900.0                            \n",
       "timeup_list                                                 15.0                            \n",
       "\n",
       "thread_text    If you were handed 10 billion dollars right now, what would you still never buy?  \\\n",
       "comment_count                                            18500.0                                  \n",
       "upvote_delta                                             27000.0                                  \n",
       "timeup_list                                                 10.0                                  \n",
       "\n",
       "thread_text    People who aren’t celebrating or partying right now, what are you doing?  \\\n",
       "comment_count                                            18300.0                          \n",
       "upvote_delta                                             37200.0                          \n",
       "timeup_list                                                 15.0                          \n",
       "\n",
       "thread_text    Who is your celebrity crush?  \\\n",
       "comment_count                       18100.0   \n",
       "upvote_delta                        18300.0   \n",
       "timeup_list                             9.0   \n",
       "\n",
       "thread_text    Which videogame consumed your entire life upon first play-through?  \\\n",
       "comment_count                                            17600.0                    \n",
       "upvote_delta                                             23000.0                    \n",
       "timeup_list                                                 12.0                    \n",
       "\n",
       "thread_text    GIVEAWAY: I'm giving away $100 worth of The Witcher merch to one comment in this thread  \\\n",
       "comment_count                                            17400.0                                         \n",
       "upvote_delta                                              4000.0                                         \n",
       "timeup_list                                                 12.0                                         \n",
       "\n",
       "thread_text    Which TV show has never had a bad episode?  \\\n",
       "comment_count                                     17100.0   \n",
       "upvote_delta                                      19500.0   \n",
       "timeup_list                                          10.0   \n",
       "\n",
       "thread_text    NVIDIA RTX 3050 announcement + NVIDIA Q&A + RTX 3080Ti FE giveaway  \\\n",
       "comment_count                                            17000.0                    \n",
       "upvote_delta                                              5200.0                    \n",
       "timeup_list                                                 13.0                    \n",
       "\n",
       "thread_text    What ruins a movie instantly?  \\\n",
       "comment_count                        16900.0   \n",
       "upvote_delta                         19100.0   \n",
       "timeup_list                              6.0   \n",
       "\n",
       "thread_text    What science fiction or fantasy show is worth watching?  \\\n",
       "comment_count                                            15400.0         \n",
       "upvote_delta                                             29100.0         \n",
       "timeup_list                                                 16.0         \n",
       "\n",
       "thread_text    What is a recent fashion trend that you can't stand?  \\\n",
       "comment_count                                            13500.0      \n",
       "upvote_delta                                             15200.0      \n",
       "timeup_list                                                 12.0      \n",
       "\n",
       "thread_text    FREE SILVER GIVEAWAY on REDDIT ... 15oz of SILVER FREE !!! Just comment why you love Silver and upvote this post. We will select 6 winners. 1st place gets 10oz End The Fed bar, 5 runner-up winners will get 1 oz WSS round! Contest ends New Years Eve at Midnight eastern time! 🚀  \n",
       "comment_count                                            13300.0                                                                                                                                                                                                                                     \n",
       "upvote_delta                                              5500.0                                                                                                                                                                                                                                     \n",
       "timeup_list                                                 15.0                                                                                                                                                                                                                                     "
      ]
     },
     "execution_count": 35,
     "metadata": {},
     "output_type": "execute_result"
    }
   ],
   "source": [
    "df_reddit.groupby('thread_text').mean().sort_values(by='comment_count',ascending=False).head(20).T"
   ]
  },
  {
   "cell_type": "markdown",
   "id": "d0e61afd-6f35-4397-99a2-7d22a814713f",
   "metadata": {},
   "source": [
    "Posts sorted by comment count, showing highest reveals that give away posts have high comment counts as one would expect, but these can be removed from the data set."
   ]
  },
  {
   "cell_type": "code",
   "execution_count": 36,
   "id": "5fbfcc9e-9355-4fee-9eca-19ada4ae237d",
   "metadata": {},
   "outputs": [],
   "source": [
    "df_reddit['give_it_away']=df_reddit['thread_text'].apply(lambda x: 1 if x.lower().find('giveaway')>=0 else 0)"
   ]
  },
  {
   "cell_type": "code",
   "execution_count": 37,
   "id": "07e1d51d-8359-491f-85d7-795cd46902fd",
   "metadata": {},
   "outputs": [
    {
     "data": {
      "text/html": [
       "<div>\n",
       "<style scoped>\n",
       "    .dataframe tbody tr th:only-of-type {\n",
       "        vertical-align: middle;\n",
       "    }\n",
       "\n",
       "    .dataframe tbody tr th {\n",
       "        vertical-align: top;\n",
       "    }\n",
       "\n",
       "    .dataframe thead th {\n",
       "        text-align: right;\n",
       "    }\n",
       "</style>\n",
       "<table border=\"1\" class=\"dataframe\">\n",
       "  <thead>\n",
       "    <tr style=\"text-align: right;\">\n",
       "      <th></th>\n",
       "      <th>comment_count</th>\n",
       "      <th>upvote_delta</th>\n",
       "      <th>timeup_list</th>\n",
       "      <th>subreddit</th>\n",
       "      <th>thread_text</th>\n",
       "      <th>give_it_away</th>\n",
       "    </tr>\n",
       "  </thead>\n",
       "  <tbody>\n",
       "    <tr>\n",
       "      <th>2003</th>\n",
       "      <td>8400.0</td>\n",
       "      <td>2700.0</td>\n",
       "      <td>4.0</td>\n",
       "      <td>r/destiny2</td>\n",
       "      <td>GIVEAWAY: I'm giving away a pre-order of Desti...</td>\n",
       "      <td>1</td>\n",
       "    </tr>\n",
       "    <tr>\n",
       "      <th>2521</th>\n",
       "      <td>2100.0</td>\n",
       "      <td>1600.0</td>\n",
       "      <td>5.0</td>\n",
       "      <td>r/DnD</td>\n",
       "      <td>[OC] I'm sponsoring a giveaway for all this D&amp;...</td>\n",
       "      <td>1</td>\n",
       "    </tr>\n",
       "    <tr>\n",
       "      <th>3001</th>\n",
       "      <td>17000.0</td>\n",
       "      <td>5200.0</td>\n",
       "      <td>13.0</td>\n",
       "      <td>r/buildapc</td>\n",
       "      <td>NVIDIA RTX 3050 announcement + NVIDIA Q&amp;A + RT...</td>\n",
       "      <td>1</td>\n",
       "    </tr>\n",
       "    <tr>\n",
       "      <th>4001</th>\n",
       "      <td>10900.0</td>\n",
       "      <td>10500.0</td>\n",
       "      <td>15.0</td>\n",
       "      <td>r/pcgaming</td>\n",
       "      <td>[GIVEAWAY] $20 Steam Gift Card</td>\n",
       "      <td>1</td>\n",
       "    </tr>\n",
       "    <tr>\n",
       "      <th>5001</th>\n",
       "      <td>10100.0</td>\n",
       "      <td>1000.0</td>\n",
       "      <td>7.0</td>\n",
       "      <td>r/wow</td>\n",
       "      <td>GIVEAWAY: I'm giving away a $100 Blizzard Bala...</td>\n",
       "      <td>1</td>\n",
       "    </tr>\n",
       "    <tr>\n",
       "      <th>5002</th>\n",
       "      <td>8100.0</td>\n",
       "      <td>1900.0</td>\n",
       "      <td>4.0</td>\n",
       "      <td>r/PS4</td>\n",
       "      <td>Giveaway: 100$ Playstation Store Gift Card to ...</td>\n",
       "      <td>1</td>\n",
       "    </tr>\n",
       "    <tr>\n",
       "      <th>5500</th>\n",
       "      <td>20500.0</td>\n",
       "      <td>5100.0</td>\n",
       "      <td>12.0</td>\n",
       "      <td>r/EscapefromTarkov</td>\n",
       "      <td>GIVEAWAY: I'm giving away Escape From Tarkov: ...</td>\n",
       "      <td>1</td>\n",
       "    </tr>\n",
       "    <tr>\n",
       "      <th>5505</th>\n",
       "      <td>7900.0</td>\n",
       "      <td>10800.0</td>\n",
       "      <td>10.0</td>\n",
       "      <td>r/pcmasterrace</td>\n",
       "      <td>[CHRISTMAS GIVEAWAY] Hello PCMasterRace! In ch...</td>\n",
       "      <td>1</td>\n",
       "    </tr>\n",
       "    <tr>\n",
       "      <th>5522</th>\n",
       "      <td>3500.0</td>\n",
       "      <td>2700.0</td>\n",
       "      <td>11.0</td>\n",
       "      <td>r/PokemonSwordAndShield</td>\n",
       "      <td>Christmas Giveaway! Green Shing Only! Giving a...</td>\n",
       "      <td>1</td>\n",
       "    </tr>\n",
       "    <tr>\n",
       "      <th>9004</th>\n",
       "      <td>17400.0</td>\n",
       "      <td>4000.0</td>\n",
       "      <td>12.0</td>\n",
       "      <td>r/witcher</td>\n",
       "      <td>GIVEAWAY: I'm giving away $100 worth of The Wi...</td>\n",
       "      <td>1</td>\n",
       "    </tr>\n",
       "    <tr>\n",
       "      <th>10501</th>\n",
       "      <td>13300.0</td>\n",
       "      <td>5500.0</td>\n",
       "      <td>15.0</td>\n",
       "      <td>r/Wallstreetsilver</td>\n",
       "      <td>FREE SILVER GIVEAWAY on REDDIT ... 15oz of SIL...</td>\n",
       "      <td>1</td>\n",
       "    </tr>\n",
       "  </tbody>\n",
       "</table>\n",
       "</div>"
      ],
      "text/plain": [
       "       comment_count  upvote_delta  timeup_list                subreddit  \\\n",
       "2003          8400.0        2700.0          4.0               r/destiny2   \n",
       "2521          2100.0        1600.0          5.0                    r/DnD   \n",
       "3001         17000.0        5200.0         13.0               r/buildapc   \n",
       "4001         10900.0       10500.0         15.0               r/pcgaming   \n",
       "5001         10100.0        1000.0          7.0                    r/wow   \n",
       "5002          8100.0        1900.0          4.0                    r/PS4   \n",
       "5500         20500.0        5100.0         12.0       r/EscapefromTarkov   \n",
       "5505          7900.0       10800.0         10.0           r/pcmasterrace   \n",
       "5522          3500.0        2700.0         11.0  r/PokemonSwordAndShield   \n",
       "9004         17400.0        4000.0         12.0                r/witcher   \n",
       "10501        13300.0        5500.0         15.0       r/Wallstreetsilver   \n",
       "\n",
       "                                             thread_text  give_it_away  \n",
       "2003   GIVEAWAY: I'm giving away a pre-order of Desti...             1  \n",
       "2521   [OC] I'm sponsoring a giveaway for all this D&...             1  \n",
       "3001   NVIDIA RTX 3050 announcement + NVIDIA Q&A + RT...             1  \n",
       "4001                      [GIVEAWAY] $20 Steam Gift Card             1  \n",
       "5001   GIVEAWAY: I'm giving away a $100 Blizzard Bala...             1  \n",
       "5002   Giveaway: 100$ Playstation Store Gift Card to ...             1  \n",
       "5500   GIVEAWAY: I'm giving away Escape From Tarkov: ...             1  \n",
       "5505   [CHRISTMAS GIVEAWAY] Hello PCMasterRace! In ch...             1  \n",
       "5522   Christmas Giveaway! Green Shing Only! Giving a...             1  \n",
       "9004   GIVEAWAY: I'm giving away $100 worth of The Wi...             1  \n",
       "10501  FREE SILVER GIVEAWAY on REDDIT ... 15oz of SIL...             1  "
      ]
     },
     "execution_count": 37,
     "metadata": {},
     "output_type": "execute_result"
    }
   ],
   "source": [
    "df_reddit[df_reddit['give_it_away']==1]"
   ]
  },
  {
   "cell_type": "code",
   "execution_count": 38,
   "id": "c61f80aa-f360-4ae5-aafb-e7c3e98f2816",
   "metadata": {},
   "outputs": [
    {
     "data": {
      "text/plain": [
       "10836.363636363636"
      ]
     },
     "execution_count": 38,
     "metadata": {},
     "output_type": "execute_result"
    }
   ],
   "source": [
    "df_reddit[df_reddit['give_it_away']==1].comment_count.mean()"
   ]
  },
  {
   "cell_type": "markdown",
   "id": "41dd6151-7423-4416-a79b-97498e3eb2f7",
   "metadata": {},
   "source": [
    "While these are not necessarily all outliers, they are all high comment counts and are similar to promotional ads (that were already removed)."
   ]
  },
  {
   "cell_type": "markdown",
   "id": "e5be8e82-1922-406e-a669-517f0fe832a2",
   "metadata": {},
   "source": [
    "**This is not to say that it isn't a good idea to use a giveaway to create comment traction for a thread**"
   ]
  },
  {
   "cell_type": "markdown",
   "id": "87668d00-ac09-46dc-9798-648d611d3fe8",
   "metadata": {},
   "source": [
    "However, they do not need to be in modeling as by inspection in EDA its a powerful language feature in relation to comment count."
   ]
  },
  {
   "cell_type": "code",
   "execution_count": 39,
   "id": "97b1537d-313e-4a23-91d7-5dc4c24b4d6d",
   "metadata": {},
   "outputs": [],
   "source": [
    "df_reddit=df_reddit[df_reddit['give_it_away']==0]"
   ]
  },
  {
   "cell_type": "markdown",
   "id": "5e02cdc1-45ab-44e0-bd00-9d3504c91cf2",
   "metadata": {},
   "source": [
    "removing the giveaways in the line above."
   ]
  },
  {
   "cell_type": "markdown",
   "id": "dbdb41d8-d260-4002-a1dd-9ee04d49563d",
   "metadata": {},
   "source": [
    "**Removing all comment counts below 50**"
   ]
  },
  {
   "cell_type": "code",
   "execution_count": 40,
   "id": "ffa97f3d-8671-4c95-b2d6-275627524d05",
   "metadata": {},
   "outputs": [],
   "source": [
    "df_reddit=df_reddit[df_reddit['comment_count']>50]"
   ]
  },
  {
   "cell_type": "markdown",
   "id": "7e4f3212-54f5-4352-86bf-08c270dd234e",
   "metadata": {},
   "source": [
    "Again these would not traditionally be seen as outliers, but in the case of reddit front page these are not great samples"
   ]
  },
  {
   "cell_type": "code",
   "execution_count": 41,
   "id": "d07602e6-5dab-4305-b664-91e1681ae579",
   "metadata": {},
   "outputs": [
    {
     "data": {
      "text/plain": [
       "(9896, 6)"
      ]
     },
     "execution_count": 41,
     "metadata": {},
     "output_type": "execute_result"
    }
   ],
   "source": [
    "df_reddit.shape"
   ]
  },
  {
   "cell_type": "code",
   "execution_count": 42,
   "id": "fe2fe735-9aab-49b1-a896-41286d622d8d",
   "metadata": {},
   "outputs": [
    {
     "data": {
      "text/html": [
       "<div>\n",
       "<style scoped>\n",
       "    .dataframe tbody tr th:only-of-type {\n",
       "        vertical-align: middle;\n",
       "    }\n",
       "\n",
       "    .dataframe tbody tr th {\n",
       "        vertical-align: top;\n",
       "    }\n",
       "\n",
       "    .dataframe thead th {\n",
       "        text-align: right;\n",
       "    }\n",
       "</style>\n",
       "<table border=\"1\" class=\"dataframe\">\n",
       "  <thead>\n",
       "    <tr style=\"text-align: right;\">\n",
       "      <th></th>\n",
       "      <th>comment_count</th>\n",
       "      <th>upvote_delta</th>\n",
       "      <th>timeup_list</th>\n",
       "      <th>give_it_away</th>\n",
       "    </tr>\n",
       "    <tr>\n",
       "      <th>thread_text</th>\n",
       "      <th></th>\n",
       "      <th></th>\n",
       "      <th></th>\n",
       "      <th></th>\n",
       "    </tr>\n",
       "  </thead>\n",
       "  <tbody>\n",
       "    <tr>\n",
       "      <th>Whats criminally overpriced to you?</th>\n",
       "      <td>32400.0</td>\n",
       "      <td>42300.0</td>\n",
       "      <td>16.0</td>\n",
       "      <td>0</td>\n",
       "    </tr>\n",
       "    <tr>\n",
       "      <th>Without naming it, what is a TV show that is instantly recognizable based on one quote?</th>\n",
       "      <td>31500.0</td>\n",
       "      <td>27300.0</td>\n",
       "      <td>16.0</td>\n",
       "      <td>0</td>\n",
       "    </tr>\n",
       "    <tr>\n",
       "      <th>Non picky eaters, what’s a food you just cannot do?</th>\n",
       "      <td>27300.0</td>\n",
       "      <td>29000.0</td>\n",
       "      <td>14.0</td>\n",
       "      <td>0</td>\n",
       "    </tr>\n",
       "    <tr>\n",
       "      <th>What's your \"I fucking hate this song\" song?</th>\n",
       "      <td>24800.0</td>\n",
       "      <td>22300.0</td>\n",
       "      <td>6.0</td>\n",
       "      <td>0</td>\n",
       "    </tr>\n",
       "    <tr>\n",
       "      <th>What tastes good hot and cold?</th>\n",
       "      <td>23400.0</td>\n",
       "      <td>29100.0</td>\n",
       "      <td>10.0</td>\n",
       "      <td>0</td>\n",
       "    </tr>\n",
       "    <tr>\n",
       "      <th>To all the atheists, what is your reason for not believing in God or a higher power?</th>\n",
       "      <td>20500.0</td>\n",
       "      <td>21200.0</td>\n",
       "      <td>17.0</td>\n",
       "      <td>0</td>\n",
       "    </tr>\n",
       "    <tr>\n",
       "      <th>What were the dumbest lies you believed when you were a kid?</th>\n",
       "      <td>19700.0</td>\n",
       "      <td>42400.0</td>\n",
       "      <td>16.0</td>\n",
       "      <td>0</td>\n",
       "    </tr>\n",
       "    <tr>\n",
       "      <th>What is a survival myth that is completely wrong and could get you killed?</th>\n",
       "      <td>18900.0</td>\n",
       "      <td>58900.0</td>\n",
       "      <td>15.0</td>\n",
       "      <td>0</td>\n",
       "    </tr>\n",
       "    <tr>\n",
       "      <th>If you were handed 10 billion dollars right now, what would you still never buy?</th>\n",
       "      <td>18500.0</td>\n",
       "      <td>27000.0</td>\n",
       "      <td>10.0</td>\n",
       "      <td>0</td>\n",
       "    </tr>\n",
       "    <tr>\n",
       "      <th>People who aren’t celebrating or partying right now, what are you doing?</th>\n",
       "      <td>18300.0</td>\n",
       "      <td>37200.0</td>\n",
       "      <td>15.0</td>\n",
       "      <td>0</td>\n",
       "    </tr>\n",
       "  </tbody>\n",
       "</table>\n",
       "</div>"
      ],
      "text/plain": [
       "                                                    comment_count  \\\n",
       "thread_text                                                         \n",
       "Whats criminally overpriced to you?                       32400.0   \n",
       "Without naming it, what is a TV show that is in...        31500.0   \n",
       "Non picky eaters, what’s a food you just cannot...        27300.0   \n",
       "What's your \"I fucking hate this song\" song?              24800.0   \n",
       "What tastes good hot and cold?                            23400.0   \n",
       "To all the atheists, what is your reason for no...        20500.0   \n",
       "What were the dumbest lies you believed when yo...        19700.0   \n",
       "What is a survival myth that is completely wron...        18900.0   \n",
       "If you were handed 10 billion dollars right now...        18500.0   \n",
       "People who aren’t celebrating or partying right...        18300.0   \n",
       "\n",
       "                                                    upvote_delta  timeup_list  \\\n",
       "thread_text                                                                     \n",
       "Whats criminally overpriced to you?                      42300.0         16.0   \n",
       "Without naming it, what is a TV show that is in...       27300.0         16.0   \n",
       "Non picky eaters, what’s a food you just cannot...       29000.0         14.0   \n",
       "What's your \"I fucking hate this song\" song?             22300.0          6.0   \n",
       "What tastes good hot and cold?                           29100.0         10.0   \n",
       "To all the atheists, what is your reason for no...       21200.0         17.0   \n",
       "What were the dumbest lies you believed when yo...       42400.0         16.0   \n",
       "What is a survival myth that is completely wron...       58900.0         15.0   \n",
       "If you were handed 10 billion dollars right now...       27000.0         10.0   \n",
       "People who aren’t celebrating or partying right...       37200.0         15.0   \n",
       "\n",
       "                                                    give_it_away  \n",
       "thread_text                                                       \n",
       "Whats criminally overpriced to you?                            0  \n",
       "Without naming it, what is a TV show that is in...             0  \n",
       "Non picky eaters, what’s a food you just cannot...             0  \n",
       "What's your \"I fucking hate this song\" song?                   0  \n",
       "What tastes good hot and cold?                                 0  \n",
       "To all the atheists, what is your reason for no...             0  \n",
       "What were the dumbest lies you believed when yo...             0  \n",
       "What is a survival myth that is completely wron...             0  \n",
       "If you were handed 10 billion dollars right now...             0  \n",
       "People who aren’t celebrating or partying right...             0  "
      ]
     },
     "execution_count": 42,
     "metadata": {},
     "output_type": "execute_result"
    }
   ],
   "source": [
    "df_reddit.groupby('thread_text').mean().sort_values(by='comment_count',ascending=False).head(10)"
   ]
  },
  {
   "cell_type": "markdown",
   "id": "28204be3-7dc2-42de-88e3-42d821350f8d",
   "metadata": {
    "tags": []
   },
   "source": [
    "It is pretty clear that we can already see a trend, thread titles that are questions can yield high comment counts."
   ]
  },
  {
   "cell_type": "code",
   "execution_count": 43,
   "id": "69fb2326-16a8-40ec-9f03-2b75cc00177e",
   "metadata": {},
   "outputs": [],
   "source": [
    "df_reddit.drop(labels='give_it_away',axis=1,inplace=True)"
   ]
  },
  {
   "cell_type": "markdown",
   "id": "f3bb6f81-879d-41c0-bd9a-d44c737e20ec",
   "metadata": {},
   "source": [
    "The giveaway true/false column is no longer needed"
   ]
  },
  {
   "cell_type": "code",
   "execution_count": 44,
   "id": "72adf019-6bcd-4e17-abae-e84de39777cb",
   "metadata": {},
   "outputs": [
    {
     "name": "stdout",
     "output_type": "stream",
     "text": [
      "<class 'pandas.core.frame.DataFrame'>\n",
      "Int64Index: 9896 entries, 0 to 12123\n",
      "Data columns (total 5 columns):\n",
      " #   Column         Non-Null Count  Dtype  \n",
      "---  ------         --------------  -----  \n",
      " 0   comment_count  9896 non-null   float64\n",
      " 1   upvote_delta   9896 non-null   float64\n",
      " 2   timeup_list    9896 non-null   float64\n",
      " 3   subreddit      9896 non-null   object \n",
      " 4   thread_text    9896 non-null   object \n",
      "dtypes: float64(3), object(2)\n",
      "memory usage: 463.9+ KB\n"
     ]
    }
   ],
   "source": [
    "df_reddit.info()"
   ]
  },
  {
   "cell_type": "code",
   "execution_count": 45,
   "id": "75ce6a28-a5d0-4354-9a51-78fe678ea666",
   "metadata": {},
   "outputs": [
    {
     "name": "stdout",
     "output_type": "stream",
     "text": [
      "Initial Baseline metric, cleaned median: 200.0\n"
     ]
    }
   ],
   "source": [
    "print('Initial Baseline metric, cleaned median:', df_reddit['comment_count'].median())"
   ]
  },
  {
   "cell_type": "markdown",
   "id": "fc2dacdc-5001-46c9-a1db-054ac945eb95",
   "metadata": {},
   "source": [
    "From this we have our first baseline, median of 200 comment count.  We will create a test model around this as the initial baseline."
   ]
  },
  {
   "cell_type": "code",
   "execution_count": 46,
   "id": "ea8297d0-335d-457b-9901-aea3912f5dc6",
   "metadata": {
    "tags": []
   },
   "outputs": [],
   "source": [
    "df_reddit_a=df_reddit.copy(deep=True)  #just creating a clean copy"
   ]
  },
  {
   "cell_type": "code",
   "execution_count": 47,
   "id": "b33a6e5c-469b-421c-babe-041d63606c33",
   "metadata": {},
   "outputs": [],
   "source": [
    "df_reddit_c=df_reddit_a.copy(deep=True)"
   ]
  },
  {
   "cell_type": "markdown",
   "id": "32f0f017-b10b-43cd-bd9f-c525e8f2319a",
   "metadata": {},
   "source": [
    "df_reddit_a will be a failsafe copy of the cleaned frame."
   ]
  },
  {
   "cell_type": "markdown",
   "id": "f2858f33-2888-4bdf-812f-8e9fd94d56e6",
   "metadata": {},
   "source": [
    "### EDA: Cleaning thread text and adding features, getting ready for NLP/Modeling"
   ]
  },
  {
   "cell_type": "code",
   "execution_count": 48,
   "id": "b42b3826-c9f4-4c1c-935e-88499a0ff483",
   "metadata": {},
   "outputs": [],
   "source": [
    "df_reddit_c['thread_text']=df_reddit_c['thread_text'].str.lower()"
   ]
  },
  {
   "cell_type": "code",
   "execution_count": 49,
   "id": "3d1f0c5d-305f-487e-a77f-5e168d17e9c7",
   "metadata": {},
   "outputs": [
    {
     "data": {
      "text/plain": [
       "0        people who aren’t celebrating or partying righ...\n",
       "1           after years of saving i finally bought a house\n",
       "2        beatboxers probably have no issue explaining t...\n",
       "3        “all i need to cook is a set of measuring cups...\n",
       "4                       birds of a feather flock together!\n",
       "                               ...                        \n",
       "12119                     some of those who nonce foxes...\n",
       "12120    paraguay now produces 100% renewable electric ...\n",
       "12121                   deceptive marketing for car chases\n",
       "12122                           darth maul grinning noises\n",
       "12123             this f@rkwit probably doesn’t even play.\n",
       "Name: thread_text, Length: 9896, dtype: object"
      ]
     },
     "execution_count": 49,
     "metadata": {},
     "output_type": "execute_result"
    }
   ],
   "source": [
    "df_reddit_c['thread_text']"
   ]
  },
  {
   "cell_type": "code",
   "execution_count": 50,
   "id": "cfeb01c3-ceba-428f-bdcd-dfa0d3702721",
   "metadata": {},
   "outputs": [],
   "source": [
    "df_reddit_c['question_mark']=df_reddit_c['thread_text'].apply(lambda x: 1 if x.find('?')>=0 else 0)"
   ]
  },
  {
   "cell_type": "code",
   "execution_count": 51,
   "id": "49b934dd-fd56-489c-9781-e962fdcb8621",
   "metadata": {},
   "outputs": [
    {
     "data": {
      "text/html": [
       "<div>\n",
       "<style scoped>\n",
       "    .dataframe tbody tr th:only-of-type {\n",
       "        vertical-align: middle;\n",
       "    }\n",
       "\n",
       "    .dataframe tbody tr th {\n",
       "        vertical-align: top;\n",
       "    }\n",
       "\n",
       "    .dataframe thead th {\n",
       "        text-align: right;\n",
       "    }\n",
       "</style>\n",
       "<table border=\"1\" class=\"dataframe\">\n",
       "  <thead>\n",
       "    <tr style=\"text-align: right;\">\n",
       "      <th></th>\n",
       "      <th>comment_count</th>\n",
       "      <th>upvote_delta</th>\n",
       "      <th>timeup_list</th>\n",
       "      <th>question_mark</th>\n",
       "    </tr>\n",
       "  </thead>\n",
       "  <tbody>\n",
       "    <tr>\n",
       "      <th>count</th>\n",
       "      <td>1157.000000</td>\n",
       "      <td>1157.000000</td>\n",
       "      <td>1157.000000</td>\n",
       "      <td>1157.0</td>\n",
       "    </tr>\n",
       "    <tr>\n",
       "      <th>mean</th>\n",
       "      <td>1026.601556</td>\n",
       "      <td>6660.599827</td>\n",
       "      <td>9.662921</td>\n",
       "      <td>1.0</td>\n",
       "    </tr>\n",
       "    <tr>\n",
       "      <th>std</th>\n",
       "      <td>2791.689510</td>\n",
       "      <td>9795.367401</td>\n",
       "      <td>4.181701</td>\n",
       "      <td>0.0</td>\n",
       "    </tr>\n",
       "    <tr>\n",
       "      <th>min</th>\n",
       "      <td>51.000000</td>\n",
       "      <td>350.000000</td>\n",
       "      <td>2.000000</td>\n",
       "      <td>1.0</td>\n",
       "    </tr>\n",
       "    <tr>\n",
       "      <th>25%</th>\n",
       "      <td>130.000000</td>\n",
       "      <td>1600.000000</td>\n",
       "      <td>6.000000</td>\n",
       "      <td>1.0</td>\n",
       "    </tr>\n",
       "    <tr>\n",
       "      <th>50%</th>\n",
       "      <td>287.000000</td>\n",
       "      <td>3300.000000</td>\n",
       "      <td>9.000000</td>\n",
       "      <td>1.0</td>\n",
       "    </tr>\n",
       "    <tr>\n",
       "      <th>75%</th>\n",
       "      <td>722.000000</td>\n",
       "      <td>7400.000000</td>\n",
       "      <td>12.000000</td>\n",
       "      <td>1.0</td>\n",
       "    </tr>\n",
       "    <tr>\n",
       "      <th>max</th>\n",
       "      <td>32400.000000</td>\n",
       "      <td>101000.000000</td>\n",
       "      <td>24.000000</td>\n",
       "      <td>1.0</td>\n",
       "    </tr>\n",
       "  </tbody>\n",
       "</table>\n",
       "</div>"
      ],
      "text/plain": [
       "       comment_count   upvote_delta  timeup_list  question_mark\n",
       "count    1157.000000    1157.000000  1157.000000         1157.0\n",
       "mean     1026.601556    6660.599827     9.662921            1.0\n",
       "std      2791.689510    9795.367401     4.181701            0.0\n",
       "min        51.000000     350.000000     2.000000            1.0\n",
       "25%       130.000000    1600.000000     6.000000            1.0\n",
       "50%       287.000000    3300.000000     9.000000            1.0\n",
       "75%       722.000000    7400.000000    12.000000            1.0\n",
       "max     32400.000000  101000.000000    24.000000            1.0"
      ]
     },
     "execution_count": 51,
     "metadata": {},
     "output_type": "execute_result"
    }
   ],
   "source": [
    "df_reddit_c[df_reddit_c['question_mark']==1].describe()"
   ]
  },
  {
   "cell_type": "markdown",
   "id": "b140eb3b-5937-4053-bb12-392db12c73ec",
   "metadata": {},
   "source": [
    "Signficant amount of deviation around the mean, this is probably because a wide range of posts have a question mark in them."
   ]
  },
  {
   "cell_type": "code",
   "execution_count": 52,
   "id": "bb88d633-2184-4434-b36f-da85603f4b2b",
   "metadata": {},
   "outputs": [],
   "source": [
    "df_reddit_c['thread_text_clean']=df_reddit_c['thread_text'].apply(lambda x: punc_clean(x))"
   ]
  },
  {
   "cell_type": "markdown",
   "id": "6d12767e-bae3-4ed9-8019-dff97699f5e0",
   "metadata": {},
   "source": [
    "removing punctuation from the thread text using the function defined earlier."
   ]
  },
  {
   "cell_type": "code",
   "execution_count": 53,
   "id": "344d8c9e-cd39-4456-97fa-bcde995b4d46",
   "metadata": {},
   "outputs": [],
   "source": [
    "df_reddit_c['emoji']=df_reddit_c['thread_text_clean'].apply(lambda x: 1 if nlp(x)._.has_emoji else 0)"
   ]
  },
  {
   "cell_type": "markdown",
   "id": "e7d33d02-78ac-4d66-9526-191020be7320",
   "metadata": {},
   "source": [
    "using a spaCy addon to detect emoji's in threads"
   ]
  },
  {
   "cell_type": "code",
   "execution_count": 54,
   "id": "06a6f6c4-e742-4086-a3ce-849cf4c520a6",
   "metadata": {},
   "outputs": [],
   "source": [
    "#df_reddit_c['thread_text_clean']=df_reddit_c['thread_text_clean'].apply(lambda x: )"
   ]
  },
  {
   "cell_type": "code",
   "execution_count": 55,
   "id": "6242e35d-c6a6-46bc-ad08-0290f4f4ea5e",
   "metadata": {},
   "outputs": [],
   "source": [
    "df_reddit_c['polarity']=df_reddit_c['thread_text_clean'].apply(lambda x: nlp(x)._.polarity)"
   ]
  },
  {
   "cell_type": "code",
   "execution_count": 56,
   "id": "99233fe6-acb0-495c-9e43-6b389067f8b5",
   "metadata": {},
   "outputs": [],
   "source": [
    "df_reddit_c['subjectivity']=df_reddit_c['thread_text_clean'].apply(lambda x: nlp(x)._.subjectivity)"
   ]
  },
  {
   "cell_type": "markdown",
   "id": "37f0eda7-65f2-42e1-a192-27e08d610e62",
   "metadata": {},
   "source": [
    "adding polarity and subjectivity"
   ]
  },
  {
   "cell_type": "code",
   "execution_count": 57,
   "id": "e28aea18-10b0-4f18-bf5c-bed21988d8db",
   "metadata": {},
   "outputs": [],
   "source": [
    "stemmer = PorterStemmer()"
   ]
  },
  {
   "cell_type": "code",
   "execution_count": 58,
   "id": "8cba39f0-8297-4aa8-a3b4-b8a74646adb4",
   "metadata": {},
   "outputs": [],
   "source": [
    "df_reddit_c['stemmed_thread'] = [' '.join([stemmer.stem(w.text) for w in nlp(t)]) for t in df_reddit_c['thread_text_clean']]"
   ]
  },
  {
   "cell_type": "code",
   "execution_count": 59,
   "id": "6f286431-b23b-42f1-b094-1ace6144502b",
   "metadata": {},
   "outputs": [
    {
     "name": "stdout",
     "output_type": "stream",
     "text": [
      "Low polarity: 686   High polarity: 435\n"
     ]
    }
   ],
   "source": [
    "print('Low polarity:',round(df_reddit_c[df_reddit_c['polarity']<-0.5].comment_count.mean()),'  High polarity:',round(df_reddit_c[df_reddit_c['polarity']>0.5].comment_count.mean()))"
   ]
  },
  {
   "cell_type": "markdown",
   "id": "b9ed4903-626a-45f7-b02a-92d8fa9165a8",
   "metadata": {},
   "source": [
    "Both high and low polarity yield have higher comment counts vs the baseline score."
   ]
  },
  {
   "cell_type": "code",
   "execution_count": 60,
   "id": "82978b8f-83a0-40d7-bb95-7f427bb09b08",
   "metadata": {},
   "outputs": [],
   "source": [
    "#df_reddit_c[df_reddit_c['polarity']<-0.5].sort_values(by='comment_count',ascending=False).head(6)"
   ]
  },
  {
   "cell_type": "markdown",
   "id": "17d70e30-91fe-4ea7-933c-321c0d3adcc0",
   "metadata": {
    "tags": []
   },
   "source": [
    "This is commented out (not nice things being said!) but it shows the lower bound of the polarity metric, controversy/negativity is good for comments/upvote count :("
   ]
  },
  {
   "cell_type": "code",
   "execution_count": 105,
   "id": "787a4240-e017-4915-8633-6428963b7719",
   "metadata": {},
   "outputs": [
    {
     "data": {
      "text/plain": [
       "471.6764538198404"
      ]
     },
     "execution_count": 105,
     "metadata": {},
     "output_type": "execute_result"
    }
   ],
   "source": [
    "df_reddit_c[df_reddit_c['subjectivity']<0.5].comment_count.mean()"
   ]
  },
  {
   "cell_type": "code",
   "execution_count": 61,
   "id": "95c86222-0c11-4f68-a4e6-a92f7dedddbc",
   "metadata": {},
   "outputs": [],
   "source": [
    "# plt.figure(figsize = (20,10))\n",
    "# sns.scatterplot(data=df_reddit_c[df_reddit_c['comment_count']<5000], x=\"polarity\", y=\"comment_count\")"
   ]
  },
  {
   "cell_type": "code",
   "execution_count": 345,
   "id": "23c15685-0a43-457e-9695-6e4581eaec6a",
   "metadata": {},
   "outputs": [
    {
     "data": {
      "image/png": "[encoded data removed]",
      "text/plain": [
       "<Figure size 1152x576 with 1 Axes>"
      ]
     },
     "metadata": {
      "needs_background": "light"
     },
     "output_type": "display_data"
    }
   ],
   "source": [
    "plt.figure(figsize = (16,8))\n",
    "sns.histplot(data=df_reddit_c,x='polarity')\n",
    "plt.title('Sample Count vs Polarity value',size=20)\n",
    "plt.xlabel('Sentiment Polarity',size=16)\n",
    "plt.ylabel('Number of Samples',size=16);"
   ]
  },
  {
   "cell_type": "code",
   "execution_count": 225,
   "id": "3fc7b453-4e19-4f91-8920-f7b5345c3bd4",
   "metadata": {},
   "outputs": [
    {
     "data": {
      "image/png": "[encoded data removed]",
      "text/plain": [
       "<Figure size 1152x576 with 1 Axes>"
      ]
     },
     "metadata": {
      "needs_background": "light"
     },
     "output_type": "display_data"
    }
   ],
   "source": [
    "plt.figure(figsize = (16,8))\n",
    "sns.histplot(data=df_reddit_c,x='subjectivity')\n",
    "plt.title('Sample Count vs Subjectivity value',size=20)\n",
    "plt.xlabel('Sentiment Subjectivity',size=16)\n",
    "plt.ylabel('Number of Samples',size=16);"
   ]
  },
  {
   "cell_type": "code",
   "execution_count": 64,
   "id": "e3061582-7a45-430e-a15d-f29ad6f28cd9",
   "metadata": {},
   "outputs": [],
   "source": [
    "df_reddit_c['post_word_count'] = df_reddit_c['stemmed_thread'].apply(lambda x: len(x.split()))"
   ]
  },
  {
   "cell_type": "code",
   "execution_count": 65,
   "id": "cd0998fd-c6a2-4e17-9eba-77d7b0010477",
   "metadata": {},
   "outputs": [
    {
     "data": {
      "text/plain": [
       "590.3294238683128"
      ]
     },
     "execution_count": 65,
     "metadata": {},
     "output_type": "execute_result"
    }
   ],
   "source": [
    "df_reddit_c[df_reddit_c['post_word_count']>8].comment_count.mean()"
   ]
  },
  {
   "cell_type": "code",
   "execution_count": 339,
   "id": "15dc18b6-fdd9-4dfe-a9e9-7d95fe5c0ee7",
   "metadata": {},
   "outputs": [
    {
     "data": {
      "text/plain": [
       "620.022021456804"
      ]
     },
     "execution_count": 339,
     "metadata": {},
     "output_type": "execute_result"
    }
   ],
   "source": [
    "df_reddit_c[(df_reddit_c['post_word_count']<20)&(df_reddit_c['post_word_count']>8)].comment_count.mean()"
   ]
  },
  {
   "cell_type": "code",
   "execution_count": 66,
   "id": "0390d61a-5720-4944-81f0-53b811694462",
   "metadata": {
    "tags": []
   },
   "outputs": [
    {
     "data": {
      "text/plain": [
       "379.8024129296608"
      ]
     },
     "execution_count": 66,
     "metadata": {},
     "output_type": "execute_result"
    }
   ],
   "source": [
    "df_reddit_c[df_reddit_c['post_word_count']<8].comment_count.mean()"
   ]
  },
  {
   "cell_type": "code",
   "execution_count": 222,
   "id": "a74fd74e-8a6d-4907-b282-b9cbfa6aa3e4",
   "metadata": {},
   "outputs": [
    {
     "data": {
      "image/png": "[encoded data removed]",
      "text/plain": [
       "<Figure size 1440x720 with 1 Axes>"
      ]
     },
     "metadata": {
      "needs_background": "light"
     },
     "output_type": "display_data"
    }
   ],
   "source": [
    "plt.figure(figsize = (20,10))\n",
    "sns.scatterplot(data=df_reddit_c[(df_reddit_c['comment_count']<4000)&(df_reddit_c['comment_count']>200)], x=\"post_word_count\", y=\"comment_count\")\n",
    "sns.histplot(data=df_reddit_c[(df_reddit_c['comment_count']<4000)&(df_reddit_c['comment_count']>200)],x='post_word_count')\n",
    "plt.title('Comment Count (200,4000) Slice, Comment Count vs Post Word Count, Word Count Histogram Superimposed',size=20)\n",
    "plt.xlabel('Post Word Count',size=16)\n",
    "plt.ylabel('Points->Comment Count Value, Bar->Post Word Count Freq',size=16);"
   ]
  },
  {
   "cell_type": "markdown",
   "id": "500a9f6f-d77d-4dc0-b02e-a2c09bb3dd9a",
   "metadata": {},
   "source": [
    "This was just for my own visualization of whats going on between these two features"
   ]
  },
  {
   "cell_type": "code",
   "execution_count": 224,
   "id": "42093084-740e-45a6-add4-c4a09c7a3e2b",
   "metadata": {},
   "outputs": [
    {
     "data": {
      "image/png": "[encoded data removed]",
      "text/plain": [
       "<Figure size 1440x720 with 1 Axes>"
      ]
     },
     "metadata": {
      "needs_background": "light"
     },
     "output_type": "display_data"
    }
   ],
   "source": [
    "plt.figure(figsize = (20,10))\n",
    "sns.histplot(data=df_reddit_c,x='post_word_count')\n",
    "plt.title('Post Word Count Histogram',size=20)\n",
    "plt.xlabel('Post Word Count',size=16)\n",
    "plt.ylabel('Number of Samples',size=16);"
   ]
  },
  {
   "cell_type": "code",
   "execution_count": 236,
   "id": "2d949ff5-1cc4-4265-b6b8-56a95610c16e",
   "metadata": {},
   "outputs": [
    {
     "data": {
      "image/png": "[encoded data removed]",
      "text/plain": [
       "<Figure size 864x432 with 1 Axes>"
      ]
     },
     "metadata": {
      "needs_background": "light"
     },
     "output_type": "display_data"
    }
   ],
   "source": [
    "plt.figure(figsize = (12,6))\n",
    "sns.boxplot(x=\"question_mark\", y=\"comment_count\", data=df_reddit_c);\n",
    "plt.title('Question Mark Yes or No Box Plots!',size=20)\n",
    "plt.xlabel('Question Mark Y/N',size=16)\n",
    "plt.ylabel('Comment Count',size=16);"
   ]
  },
  {
   "cell_type": "markdown",
   "id": "567884ed-c6c2-42ee-aaec-1806f1e7284b",
   "metadata": {},
   "source": [
    "Despite this metric skewing above the average mean of the sample for the positive case, only ~12% of the sample set has a '?' in the thread title."
   ]
  },
  {
   "cell_type": "markdown",
   "id": "94f54789-6006-4f05-9cf0-1924a446842f",
   "metadata": {},
   "source": [
    "Going to try using it as a feature to see if it improves model performance"
   ]
  },
  {
   "cell_type": "code",
   "execution_count": 70,
   "id": "4f24994f-9bcf-434d-873c-b47f466f6adc",
   "metadata": {
    "tags": []
   },
   "outputs": [
    {
     "data": {
      "text/plain": [
       "282.8733153638814"
      ]
     },
     "execution_count": 70,
     "metadata": {},
     "output_type": "execute_result"
    }
   ],
   "source": [
    "df_reddit_c[df_reddit_c['emoji']==1].comment_count.mean()"
   ]
  },
  {
   "cell_type": "markdown",
   "id": "c4b9b5b4-bd12-4e49-a909-90f082c1ae2a",
   "metadata": {},
   "source": [
    "Emoji's make up less then 4% of the data set and additionally they are "
   ]
  },
  {
   "cell_type": "markdown",
   "id": "000fbc17-f9dc-4a35-ab37-7ab7dc2271b5",
   "metadata": {},
   "source": [
    "**Cleaned dataframe summary stats -**"
   ]
  },
  {
   "cell_type": "code",
   "execution_count": 71,
   "id": "dadf604a-e6e2-4b75-aa9b-58585d7e9951",
   "metadata": {},
   "outputs": [
    {
     "data": {
      "text/html": [
       "<div>\n",
       "<style scoped>\n",
       "    .dataframe tbody tr th:only-of-type {\n",
       "        vertical-align: middle;\n",
       "    }\n",
       "\n",
       "    .dataframe tbody tr th {\n",
       "        vertical-align: top;\n",
       "    }\n",
       "\n",
       "    .dataframe thead th {\n",
       "        text-align: right;\n",
       "    }\n",
       "</style>\n",
       "<table border=\"1\" class=\"dataframe\">\n",
       "  <thead>\n",
       "    <tr style=\"text-align: right;\">\n",
       "      <th></th>\n",
       "      <th>count</th>\n",
       "      <th>mean</th>\n",
       "      <th>std</th>\n",
       "      <th>min</th>\n",
       "      <th>25%</th>\n",
       "      <th>50%</th>\n",
       "      <th>75%</th>\n",
       "      <th>max</th>\n",
       "    </tr>\n",
       "  </thead>\n",
       "  <tbody>\n",
       "    <tr>\n",
       "      <th>comment_count</th>\n",
       "      <td>9896.0</td>\n",
       "      <td>490.638339</td>\n",
       "      <td>1163.278826</td>\n",
       "      <td>51.0</td>\n",
       "      <td>109.0</td>\n",
       "      <td>200.0</td>\n",
       "      <td>459.0</td>\n",
       "      <td>32400.0</td>\n",
       "    </tr>\n",
       "    <tr>\n",
       "      <th>upvote_delta</th>\n",
       "      <td>9896.0</td>\n",
       "      <td>9654.754244</td>\n",
       "      <td>13053.764382</td>\n",
       "      <td>350.0</td>\n",
       "      <td>2200.0</td>\n",
       "      <td>4800.0</td>\n",
       "      <td>11300.0</td>\n",
       "      <td>132000.0</td>\n",
       "    </tr>\n",
       "    <tr>\n",
       "      <th>timeup_list</th>\n",
       "      <td>9896.0</td>\n",
       "      <td>10.093169</td>\n",
       "      <td>4.316439</td>\n",
       "      <td>2.0</td>\n",
       "      <td>7.0</td>\n",
       "      <td>10.0</td>\n",
       "      <td>13.0</td>\n",
       "      <td>24.0</td>\n",
       "    </tr>\n",
       "    <tr>\n",
       "      <th>question_mark</th>\n",
       "      <td>9896.0</td>\n",
       "      <td>0.116916</td>\n",
       "      <td>0.321336</td>\n",
       "      <td>0.0</td>\n",
       "      <td>0.0</td>\n",
       "      <td>0.0</td>\n",
       "      <td>0.0</td>\n",
       "      <td>1.0</td>\n",
       "    </tr>\n",
       "    <tr>\n",
       "      <th>emoji</th>\n",
       "      <td>9896.0</td>\n",
       "      <td>0.037490</td>\n",
       "      <td>0.189969</td>\n",
       "      <td>0.0</td>\n",
       "      <td>0.0</td>\n",
       "      <td>0.0</td>\n",
       "      <td>0.0</td>\n",
       "      <td>1.0</td>\n",
       "    </tr>\n",
       "    <tr>\n",
       "      <th>polarity</th>\n",
       "      <td>9896.0</td>\n",
       "      <td>0.048508</td>\n",
       "      <td>0.260802</td>\n",
       "      <td>-1.0</td>\n",
       "      <td>0.0</td>\n",
       "      <td>0.0</td>\n",
       "      <td>0.1</td>\n",
       "      <td>1.0</td>\n",
       "    </tr>\n",
       "    <tr>\n",
       "      <th>subjectivity</th>\n",
       "      <td>9896.0</td>\n",
       "      <td>0.275844</td>\n",
       "      <td>0.327287</td>\n",
       "      <td>0.0</td>\n",
       "      <td>0.0</td>\n",
       "      <td>0.1</td>\n",
       "      <td>0.5</td>\n",
       "      <td>1.0</td>\n",
       "    </tr>\n",
       "    <tr>\n",
       "      <th>post_word_count</th>\n",
       "      <td>9896.0</td>\n",
       "      <td>11.112470</td>\n",
       "      <td>9.596360</td>\n",
       "      <td>0.0</td>\n",
       "      <td>5.0</td>\n",
       "      <td>8.0</td>\n",
       "      <td>14.0</td>\n",
       "      <td>67.0</td>\n",
       "    </tr>\n",
       "  </tbody>\n",
       "</table>\n",
       "</div>"
      ],
      "text/plain": [
       "                  count         mean           std    min     25%     50%  \\\n",
       "comment_count    9896.0   490.638339   1163.278826   51.0   109.0   200.0   \n",
       "upvote_delta     9896.0  9654.754244  13053.764382  350.0  2200.0  4800.0   \n",
       "timeup_list      9896.0    10.093169      4.316439    2.0     7.0    10.0   \n",
       "question_mark    9896.0     0.116916      0.321336    0.0     0.0     0.0   \n",
       "emoji            9896.0     0.037490      0.189969    0.0     0.0     0.0   \n",
       "polarity         9896.0     0.048508      0.260802   -1.0     0.0     0.0   \n",
       "subjectivity     9896.0     0.275844      0.327287    0.0     0.0     0.1   \n",
       "post_word_count  9896.0    11.112470      9.596360    0.0     5.0     8.0   \n",
       "\n",
       "                     75%       max  \n",
       "comment_count      459.0   32400.0  \n",
       "upvote_delta     11300.0  132000.0  \n",
       "timeup_list         13.0      24.0  \n",
       "question_mark        0.0       1.0  \n",
       "emoji                0.0       1.0  \n",
       "polarity             0.1       1.0  \n",
       "subjectivity         0.5       1.0  \n",
       "post_word_count     14.0      67.0  "
      ]
     },
     "execution_count": 71,
     "metadata": {},
     "output_type": "execute_result"
    }
   ],
   "source": [
    "df_reddit_c.describe().T"
   ]
  },
  {
   "cell_type": "markdown",
   "id": "a6e7b8f9-b2b3-4f06-8387-94166d1479b3",
   "metadata": {},
   "source": [
    "In summary of added features, post word counts on average are around the length of a article title you would see in a newspaper.  Because titles can get very lengthy, there is high standard deviation."
   ]
  },
  {
   "cell_type": "markdown",
   "id": "b209c662-1ced-442f-9a72-81343e10b67d",
   "metadata": {},
   "source": [
    "Emoji's make up less than 4% of the thread titles.  Would love to see that compared to twitter and TikTok high traction posts."
   ]
  },
  {
   "cell_type": "markdown",
   "id": "1c20bec1-141c-4e52-b46b-0faa4396b4e4",
   "metadata": {},
   "source": [
    "Polarity is mostly neutral, slightly leaning positive.  As we move towards the bounds of -1 and 1 we see higher average comments (negative polarity being higher then positive sadly)"
   ]
  },
  {
   "cell_type": "markdown",
   "id": "040acf05-41b2-4f38-be8d-d21643ca691c",
   "metadata": {},
   "source": [
    "Subjectivity returned that most posts were more on the factual end, but there was not a clear cut trend in effect on comment count for the post"
   ]
  },
  {
   "cell_type": "markdown",
   "id": "8865aa01-9dad-47c4-b8f4-786404639509",
   "metadata": {},
   "source": [
    "Question marks were present in highly performing posts, its no wonder you see posts on twitter from groups or organizations asking straightforward questions on topics.  It gets easy consumer interaction/engagement."
   ]
  },
  {
   "cell_type": "markdown",
   "id": "1d910434-ea17-455c-b9f7-4cfad07a94b3",
   "metadata": {},
   "source": [
    "**Scaling post word count**"
   ]
  },
  {
   "cell_type": "code",
   "execution_count": 72,
   "id": "23b43bfb-f5d0-4d89-9fc3-a5282b4cb3f5",
   "metadata": {},
   "outputs": [],
   "source": [
    "df_reddit_d=df_reddit_c.copy(deep=True)"
   ]
  },
  {
   "cell_type": "code",
   "execution_count": 73,
   "id": "f6f15de1-e708-478e-bc4f-0ed88d46e4b0",
   "metadata": {},
   "outputs": [],
   "source": [
    "pwc_mean=np.mean(df_reddit_c['post_word_count'])\n",
    "pwc_std=np.std(df_reddit_c['post_word_count'])"
   ]
  },
  {
   "cell_type": "code",
   "execution_count": 74,
   "id": "7939497c-6df4-4f4b-b954-3b90c2041bca",
   "metadata": {},
   "outputs": [],
   "source": [
    "df_reddit_d['post_word_count']=df_reddit_d['post_word_count'].apply(lambda x: (x-pwc_mean)/pwc_std)"
   ]
  },
  {
   "cell_type": "code",
   "execution_count": 75,
   "id": "24001e46-38a0-4298-9fa2-6aeba0a37028",
   "metadata": {},
   "outputs": [
    {
     "data": {
      "text/html": [
       "<div>\n",
       "<style scoped>\n",
       "    .dataframe tbody tr th:only-of-type {\n",
       "        vertical-align: middle;\n",
       "    }\n",
       "\n",
       "    .dataframe tbody tr th {\n",
       "        vertical-align: top;\n",
       "    }\n",
       "\n",
       "    .dataframe thead th {\n",
       "        text-align: right;\n",
       "    }\n",
       "</style>\n",
       "<table border=\"1\" class=\"dataframe\">\n",
       "  <thead>\n",
       "    <tr style=\"text-align: right;\">\n",
       "      <th></th>\n",
       "      <th>count</th>\n",
       "      <th>mean</th>\n",
       "      <th>std</th>\n",
       "      <th>min</th>\n",
       "      <th>25%</th>\n",
       "      <th>50%</th>\n",
       "      <th>75%</th>\n",
       "      <th>max</th>\n",
       "    </tr>\n",
       "  </thead>\n",
       "  <tbody>\n",
       "    <tr>\n",
       "      <th>comment_count</th>\n",
       "      <td>9896.0</td>\n",
       "      <td>4.906383e+02</td>\n",
       "      <td>1163.278826</td>\n",
       "      <td>51.000000</td>\n",
       "      <td>109.000000</td>\n",
       "      <td>200.000000</td>\n",
       "      <td>459.000000</td>\n",
       "      <td>32400.00000</td>\n",
       "    </tr>\n",
       "    <tr>\n",
       "      <th>upvote_delta</th>\n",
       "      <td>9896.0</td>\n",
       "      <td>9.654754e+03</td>\n",
       "      <td>13053.764382</td>\n",
       "      <td>350.000000</td>\n",
       "      <td>2200.000000</td>\n",
       "      <td>4800.000000</td>\n",
       "      <td>11300.000000</td>\n",
       "      <td>132000.00000</td>\n",
       "    </tr>\n",
       "    <tr>\n",
       "      <th>timeup_list</th>\n",
       "      <td>9896.0</td>\n",
       "      <td>1.009317e+01</td>\n",
       "      <td>4.316439</td>\n",
       "      <td>2.000000</td>\n",
       "      <td>7.000000</td>\n",
       "      <td>10.000000</td>\n",
       "      <td>13.000000</td>\n",
       "      <td>24.00000</td>\n",
       "    </tr>\n",
       "    <tr>\n",
       "      <th>question_mark</th>\n",
       "      <td>9896.0</td>\n",
       "      <td>1.169159e-01</td>\n",
       "      <td>0.321336</td>\n",
       "      <td>0.000000</td>\n",
       "      <td>0.000000</td>\n",
       "      <td>0.000000</td>\n",
       "      <td>0.000000</td>\n",
       "      <td>1.00000</td>\n",
       "    </tr>\n",
       "    <tr>\n",
       "      <th>emoji</th>\n",
       "      <td>9896.0</td>\n",
       "      <td>3.748989e-02</td>\n",
       "      <td>0.189969</td>\n",
       "      <td>0.000000</td>\n",
       "      <td>0.000000</td>\n",
       "      <td>0.000000</td>\n",
       "      <td>0.000000</td>\n",
       "      <td>1.00000</td>\n",
       "    </tr>\n",
       "    <tr>\n",
       "      <th>polarity</th>\n",
       "      <td>9896.0</td>\n",
       "      <td>4.850784e-02</td>\n",
       "      <td>0.260802</td>\n",
       "      <td>-1.000000</td>\n",
       "      <td>0.000000</td>\n",
       "      <td>0.000000</td>\n",
       "      <td>0.100000</td>\n",
       "      <td>1.00000</td>\n",
       "    </tr>\n",
       "    <tr>\n",
       "      <th>subjectivity</th>\n",
       "      <td>9896.0</td>\n",
       "      <td>2.758438e-01</td>\n",
       "      <td>0.327287</td>\n",
       "      <td>0.000000</td>\n",
       "      <td>0.000000</td>\n",
       "      <td>0.100000</td>\n",
       "      <td>0.500000</td>\n",
       "      <td>1.00000</td>\n",
       "    </tr>\n",
       "    <tr>\n",
       "      <th>post_word_count</th>\n",
       "      <td>9896.0</td>\n",
       "      <td>-2.210798e-16</td>\n",
       "      <td>1.000051</td>\n",
       "      <td>-1.158046</td>\n",
       "      <td>-0.636989</td>\n",
       "      <td>-0.324355</td>\n",
       "      <td>0.300914</td>\n",
       "      <td>5.82412</td>\n",
       "    </tr>\n",
       "  </tbody>\n",
       "</table>\n",
       "</div>"
      ],
      "text/plain": [
       "                  count          mean           std         min          25%  \\\n",
       "comment_count    9896.0  4.906383e+02   1163.278826   51.000000   109.000000   \n",
       "upvote_delta     9896.0  9.654754e+03  13053.764382  350.000000  2200.000000   \n",
       "timeup_list      9896.0  1.009317e+01      4.316439    2.000000     7.000000   \n",
       "question_mark    9896.0  1.169159e-01      0.321336    0.000000     0.000000   \n",
       "emoji            9896.0  3.748989e-02      0.189969    0.000000     0.000000   \n",
       "polarity         9896.0  4.850784e-02      0.260802   -1.000000     0.000000   \n",
       "subjectivity     9896.0  2.758438e-01      0.327287    0.000000     0.000000   \n",
       "post_word_count  9896.0 -2.210798e-16      1.000051   -1.158046    -0.636989   \n",
       "\n",
       "                         50%           75%           max  \n",
       "comment_count     200.000000    459.000000   32400.00000  \n",
       "upvote_delta     4800.000000  11300.000000  132000.00000  \n",
       "timeup_list        10.000000     13.000000      24.00000  \n",
       "question_mark       0.000000      0.000000       1.00000  \n",
       "emoji               0.000000      0.000000       1.00000  \n",
       "polarity            0.000000      0.100000       1.00000  \n",
       "subjectivity        0.100000      0.500000       1.00000  \n",
       "post_word_count    -0.324355      0.300914       5.82412  "
      ]
     },
     "execution_count": 75,
     "metadata": {},
     "output_type": "execute_result"
    }
   ],
   "source": [
    "df_reddit_d.describe().T"
   ]
  },
  {
   "cell_type": "markdown",
   "id": "9d30ecea-398f-4b20-8d29-4cb15a04616a",
   "metadata": {},
   "source": [
    "Scaling word count just to make life easier in modeling since the other values are all scaled to some degree already."
   ]
  },
  {
   "cell_type": "markdown",
   "id": "69d9ece4-db92-4070-af43-7237c0c24e56",
   "metadata": {},
   "source": [
    "### EDA: Random Forest test model and additional insight"
   ]
  },
  {
   "cell_type": "code",
   "execution_count": 76,
   "id": "5f517906-3f5b-4918-a302-a7c27977bcba",
   "metadata": {},
   "outputs": [],
   "source": [
    "df_reddit['high_low_onehot']=df_reddit['comment_count'].map(lambda x: 1 if x>200 else 0)"
   ]
  },
  {
   "cell_type": "code",
   "execution_count": 77,
   "id": "2b412d04-918c-499c-b431-d4bd40400870",
   "metadata": {},
   "outputs": [
    {
     "name": "stdout",
     "output_type": "stream",
     "text": [
      "<class 'pandas.core.frame.DataFrame'>\n",
      "Int64Index: 9896 entries, 0 to 12123\n",
      "Data columns (total 6 columns):\n",
      " #   Column           Non-Null Count  Dtype  \n",
      "---  ------           --------------  -----  \n",
      " 0   comment_count    9896 non-null   float64\n",
      " 1   upvote_delta     9896 non-null   float64\n",
      " 2   timeup_list      9896 non-null   float64\n",
      " 3   subreddit        9896 non-null   object \n",
      " 4   thread_text      9896 non-null   object \n",
      " 5   high_low_onehot  9896 non-null   int64  \n",
      "dtypes: float64(3), int64(1), object(2)\n",
      "memory usage: 541.2+ KB\n"
     ]
    }
   ],
   "source": [
    "df_reddit.info()"
   ]
  },
  {
   "cell_type": "code",
   "execution_count": 78,
   "id": "b8cf890d-e4ec-473b-ae07-12bd12bb2dfc",
   "metadata": {
    "tags": []
   },
   "outputs": [
    {
     "data": {
      "text/plain": [
       "0.4989894907033145"
      ]
     },
     "execution_count": 78,
     "metadata": {},
     "output_type": "execute_result"
    }
   ],
   "source": [
    "df_reddit['high_low_onehot'].mean()"
   ]
  },
  {
   "cell_type": "markdown",
   "id": "21fcc389-0272-472d-8ad0-4866bd387d4e",
   "metadata": {
    "tags": []
   },
   "source": [
    "The majority class is therefore the low comment count threads, which is everything under 200 count."
   ]
  },
  {
   "cell_type": "code",
   "execution_count": 79,
   "id": "b59217e7-d78f-4f13-8f11-e9180669da92",
   "metadata": {},
   "outputs": [],
   "source": [
    "df_reddit_dum=pd.get_dummies(df_reddit,columns=['subreddit'],drop_first=True)"
   ]
  },
  {
   "cell_type": "markdown",
   "id": "8a1b4f00-afbe-42cc-84f3-dbcc120f09b8",
   "metadata": {},
   "source": [
    "creating a dummified dataframe of the subreddits"
   ]
  },
  {
   "cell_type": "code",
   "execution_count": 80,
   "id": "724a7873-9ad1-437d-81c6-adcc1d0f2cf2",
   "metadata": {},
   "outputs": [
    {
     "data": {
      "text/plain": [
       "Index(['comment_count', 'upvote_delta', 'timeup_list', 'thread_text',\n",
       "       'high_low_onehot', 'subreddit_r/196', 'subreddit_r/2007scape',\n",
       "       'subreddit_r/2meirl42meirl4meirl', 'subreddit_r/2meirl4meirl',\n",
       "       'subreddit_r/2visegrad4you',\n",
       "       ...\n",
       "       'subreddit_r/xboxone', 'subreddit_r/xmen', 'subreddit_r/xqcow',\n",
       "       'subreddit_r/yakuzagames', 'subreddit_r/yesyesyesno',\n",
       "       'subreddit_r/yesyesyesyesno', 'subreddit_r/youngpeopleyoutube',\n",
       "       'subreddit_r/youseeingthisshit', 'subreddit_r/yugioh',\n",
       "       'subreddit_r/zelda'],\n",
       "      dtype='object', length=1203)"
      ]
     },
     "execution_count": 80,
     "metadata": {},
     "output_type": "execute_result"
    }
   ],
   "source": [
    "df_reddit_dum.columns"
   ]
  },
  {
   "cell_type": "code",
   "execution_count": 81,
   "id": "6c7ee5f5-5d3b-4ea0-8499-388b12664e8b",
   "metadata": {},
   "outputs": [
    {
     "data": {
      "text/plain": [
       "Index(['comment_count', 'upvote_delta', 'timeup_list', 'thread_text',\n",
       "       'high_low_onehot'],\n",
       "      dtype='object')"
      ]
     },
     "execution_count": 81,
     "metadata": {},
     "output_type": "execute_result"
    }
   ],
   "source": [
    "df_reddit_dum.columns[0:5]"
   ]
  },
  {
   "cell_type": "code",
   "execution_count": 82,
   "id": "8292a767-c176-4f50-abb9-42fce4cbd3f4",
   "metadata": {},
   "outputs": [],
   "source": [
    "sub_list=list(df_reddit_dum.columns[5:])"
   ]
  },
  {
   "cell_type": "markdown",
   "id": "22a8df38-d45a-475f-a7c6-09bfc80e1801",
   "metadata": {},
   "source": [
    "**Setting up model**"
   ]
  },
  {
   "cell_type": "code",
   "execution_count": 106,
   "id": "451842b6-4f6e-4138-a44b-d643cf5586e3",
   "metadata": {},
   "outputs": [],
   "source": [
    "Xr=df_reddit_dum[sub_list]\n",
    "yr=df_reddit_dum['high_low_onehot']"
   ]
  },
  {
   "cell_type": "code",
   "execution_count": 107,
   "id": "a1c972ea-cbb8-40ba-ab87-4d3a9908560d",
   "metadata": {},
   "outputs": [
    {
     "data": {
      "text/plain": [
       "(9896, 1198)"
      ]
     },
     "execution_count": 107,
     "metadata": {},
     "output_type": "execute_result"
    }
   ],
   "source": [
    "Xr.shape"
   ]
  },
  {
   "cell_type": "code",
   "execution_count": 108,
   "id": "a3ecfab9-6eec-4275-9bd6-26e98487366e",
   "metadata": {},
   "outputs": [
    {
     "data": {
      "text/plain": [
       "(9896,)"
      ]
     },
     "execution_count": 108,
     "metadata": {},
     "output_type": "execute_result"
    }
   ],
   "source": [
    "yr.shape"
   ]
  },
  {
   "cell_type": "code",
   "execution_count": 190,
   "id": "787d9b94-ae03-4fae-8378-63bf41af9ad9",
   "metadata": {},
   "outputs": [],
   "source": [
    "from sklearn.tree import DecisionTreeClassifier, DecisionTreeRegressor\n",
    "from sklearn.model_selection import cross_val_score, KFold\n",
    "from sklearn.preprocessing import StandardScaler\n",
    "from sklearn.neighbors import KNeighborsClassifier\n",
    "from sklearn.ensemble import RandomForestClassifier\n",
    "from sklearn.naive_bayes import MultinomialNB\n",
    "\n",
    "from sklearn.feature_extraction.text import CountVectorizer,TfidfVectorizer"
   ]
  },
  {
   "cell_type": "markdown",
   "id": "9940992e-e180-4528-84f0-ac2218266f62",
   "metadata": {},
   "source": [
    "**Random Forest instan**"
   ]
  },
  {
   "cell_type": "code",
   "execution_count": 287,
   "id": "feccf644-936c-4bdb-8e27-ac5e05d51cb7",
   "metadata": {},
   "outputs": [],
   "source": [
    "clf = RandomForestClassifier(max_depth=50, random_state=13)\n",
    "clfval = RandomForestClassifier(max_depth=50, random_state=13)"
   ]
  },
  {
   "cell_type": "code",
   "execution_count": 288,
   "id": "03e9ff4b-fd4d-40e6-a5f0-7f3a7aea7d9e",
   "metadata": {
    "tags": []
   },
   "outputs": [
    {
     "data": {
      "text/plain": [
       "RandomForestClassifier(max_depth=100, random_state=13)"
      ]
     },
     "execution_count": 288,
     "metadata": {},
     "output_type": "execute_result"
    }
   ],
   "source": [
    "clf.fit(Xr,yr)"
   ]
  },
  {
   "cell_type": "code",
   "execution_count": 289,
   "id": "ac47ccd6-83f4-45d3-9f05-ca5e9dec2222",
   "metadata": {},
   "outputs": [],
   "source": [
    "scores1=cross_val_score(clfval,Xr,yr,cv=4)"
   ]
  },
  {
   "cell_type": "code",
   "execution_count": 290,
   "id": "061c2969-9fc2-46dd-b1f5-31d81a5272da",
   "metadata": {},
   "outputs": [
    {
     "data": {
      "text/plain": [
       "(0.66, '+-', 0.02)"
      ]
     },
     "execution_count": 290,
     "metadata": {},
     "output_type": "execute_result"
    }
   ],
   "source": [
    "round(scores1.mean(), 2), '+-', round(2 * scores1.std(), 2)"
   ]
  },
  {
   "cell_type": "markdown",
   "id": "47a5ea94-f88d-40e2-a58c-c01a33b0f280",
   "metadata": {},
   "source": [
    "This is an improvement over our baseline!"
   ]
  },
  {
   "cell_type": "code",
   "execution_count": 114,
   "id": "9dde57e2-50e5-4888-b4be-2a7fa18909f3",
   "metadata": {},
   "outputs": [
    {
     "data": {
      "text/plain": [
       "subreddit_r/196                    0.0\n",
       "subreddit_r/2007scape              0.0\n",
       "subreddit_r/2meirl42meirl4meirl    0.0\n",
       "subreddit_r/2meirl4meirl           0.0\n",
       "subreddit_r/2visegrad4you          0.0\n",
       "                                  ... \n",
       "subreddit_r/yesyesyesyesno         0.0\n",
       "subreddit_r/youngpeopleyoutube     0.0\n",
       "subreddit_r/youseeingthisshit      0.0\n",
       "subreddit_r/yugioh                 0.0\n",
       "subreddit_r/zelda                  0.0\n",
       "Length: 1198, dtype: float64"
      ]
     },
     "execution_count": 114,
     "metadata": {},
     "output_type": "execute_result"
    }
   ],
   "source": [
    "pd.Series(data=clf.feature_importances_,index=list(Xr.columns))"
   ]
  },
  {
   "cell_type": "code",
   "execution_count": 115,
   "id": "d063fc6c-2e91-4805-95b9-c3a0fb5d0e16",
   "metadata": {},
   "outputs": [],
   "source": [
    "subs_import_list=[]\n",
    "for x11 in list(Xr.columns):\n",
    "    subs_import_list.append(x11.lstrip('subreddit').lstrip('_'))"
   ]
  },
  {
   "cell_type": "code",
   "execution_count": 116,
   "id": "632b1f81-5c80-4ea2-923f-ee46db7cf0bb",
   "metadata": {},
   "outputs": [],
   "source": [
    "pred_ser1=pd.Series(data=clf.feature_importances_,index=subs_import_list)"
   ]
  },
  {
   "cell_type": "markdown",
   "id": "69f15f1d-4253-4fca-b6c0-e987159bd3a6",
   "metadata": {},
   "source": [
    "using the list of subs combining it with the feature importances to see any relation between the feature importance, subreddit, obs count and comment mean"
   ]
  },
  {
   "cell_type": "code",
   "execution_count": 117,
   "id": "404b91c2-d7de-415c-987a-2072d9b22299",
   "metadata": {},
   "outputs": [],
   "source": [
    "r13or30=pd.Series([0],index=['r/13or30'])  #left this one out, bringing it back for df and setting to 0"
   ]
  },
  {
   "cell_type": "code",
   "execution_count": 118,
   "id": "90c1ae80-8bbe-4a0c-b470-a52699bb6ec9",
   "metadata": {},
   "outputs": [],
   "source": [
    "pred_ser1=pd.concat([pred_ser1,r13or30])"
   ]
  },
  {
   "cell_type": "code",
   "execution_count": 119,
   "id": "faea7f6d-5e4c-44c7-9dab-722f0f57c37c",
   "metadata": {},
   "outputs": [],
   "source": [
    "df_trees=df_reddit.copy(deep=True)"
   ]
  },
  {
   "cell_type": "code",
   "execution_count": 120,
   "id": "799e13c3-dfa9-4063-930c-61cd0ddf15e5",
   "metadata": {},
   "outputs": [],
   "source": [
    "df_trees['rating']=df_trees['subreddit'].apply(lambda x: pred_ser1[x])"
   ]
  },
  {
   "cell_type": "code",
   "execution_count": 121,
   "id": "ab9a5d3f-09f6-4446-87e9-250e32cb5611",
   "metadata": {
    "tags": []
   },
   "outputs": [
    {
     "data": {
      "text/plain": [
       "r/antiwork              0.062155\n",
       "r/WhitePeopleTwitter    0.042875\n",
       "r/news                  0.042159\n",
       "r/teenagers             0.039021\n",
       "r/politics              0.035165\n",
       "r/Tinder                0.030582\n",
       "r/facepalm              0.028449\n",
       "r/worldnews             0.027380\n",
       "r/nba                   0.026021\n",
       "r/HermanCainAward       0.025680\n",
       "dtype: float64"
      ]
     },
     "execution_count": 121,
     "metadata": {},
     "output_type": "execute_result"
    }
   ],
   "source": [
    "pred_ser1.sort_values(ascending=False).head(10)"
   ]
  },
  {
   "cell_type": "markdown",
   "id": "ad60b4eb-2b82-402c-bb54-35692bf13c3a",
   "metadata": {},
   "source": [
    "Looking at the important subreddits"
   ]
  },
  {
   "cell_type": "code",
   "execution_count": 122,
   "id": "618917b9-7a8b-4b0d-930b-e4daf9a08bcb",
   "metadata": {},
   "outputs": [],
   "source": [
    "df_1=df_trees.groupby(['subreddit','rating'])['comment_count'].count()"
   ]
  },
  {
   "cell_type": "code",
   "execution_count": 123,
   "id": "5f95fd89-72e9-4dd2-9fe5-816850bbe384",
   "metadata": {},
   "outputs": [],
   "source": [
    "df_1.rename('obs_num',inplace=True);"
   ]
  },
  {
   "cell_type": "code",
   "execution_count": 124,
   "id": "51598668-b6d0-4792-9fc7-c2d88b4b7d86",
   "metadata": {},
   "outputs": [],
   "source": [
    "df_2=df_trees.groupby(['subreddit','rating'])['comment_count'].mean()"
   ]
  },
  {
   "cell_type": "code",
   "execution_count": 125,
   "id": "d6c4f570-d32a-40c4-96af-162eef2e3e00",
   "metadata": {
    "tags": []
   },
   "outputs": [],
   "source": [
    "df_2.rename('mean comments',inplace=True);"
   ]
  },
  {
   "cell_type": "markdown",
   "id": "8deb5def-6729-4fcd-8304-8b822f70eb94",
   "metadata": {},
   "source": [
    "need to do a concat of groupbys to get the desired table"
   ]
  },
  {
   "cell_type": "code",
   "execution_count": 126,
   "id": "96e8713d-0bc0-4c53-94ab-57b13107a5fc",
   "metadata": {},
   "outputs": [],
   "source": [
    "df_3=pd.concat([df_1,df_2],axis=1)"
   ]
  },
  {
   "cell_type": "markdown",
   "id": "0573e977-e1fb-4f04-9bc8-752d2e60081a",
   "metadata": {},
   "source": [
    "**Summary statistics of subreddits with large sample counts**"
   ]
  },
  {
   "cell_type": "code",
   "execution_count": 127,
   "id": "6910b7b2-a285-403d-a787-a8f01af65889",
   "metadata": {},
   "outputs": [
    {
     "data": {
      "text/html": [
       "<div>\n",
       "<style scoped>\n",
       "    .dataframe tbody tr th:only-of-type {\n",
       "        vertical-align: middle;\n",
       "    }\n",
       "\n",
       "    .dataframe tbody tr th {\n",
       "        vertical-align: top;\n",
       "    }\n",
       "\n",
       "    .dataframe thead th {\n",
       "        text-align: right;\n",
       "    }\n",
       "</style>\n",
       "<table border=\"1\" class=\"dataframe\">\n",
       "  <thead>\n",
       "    <tr style=\"text-align: right;\">\n",
       "      <th></th>\n",
       "      <th></th>\n",
       "      <th>obs_num</th>\n",
       "      <th>mean comments</th>\n",
       "    </tr>\n",
       "    <tr>\n",
       "      <th>subreddit</th>\n",
       "      <th>rating</th>\n",
       "      <th></th>\n",
       "      <th></th>\n",
       "    </tr>\n",
       "  </thead>\n",
       "  <tbody>\n",
       "    <tr>\n",
       "      <th>r/antiwork</th>\n",
       "      <th>0.062155</th>\n",
       "      <td>72</td>\n",
       "      <td>1603.000000</td>\n",
       "    </tr>\n",
       "    <tr>\n",
       "      <th>r/MadeMeSmile</th>\n",
       "      <th>0.000000</th>\n",
       "      <td>68</td>\n",
       "      <td>516.661765</td>\n",
       "    </tr>\n",
       "    <tr>\n",
       "      <th>r/nextfuckinglevel</th>\n",
       "      <th>0.006815</th>\n",
       "      <td>63</td>\n",
       "      <td>785.412698</td>\n",
       "    </tr>\n",
       "    <tr>\n",
       "      <th>r/Damnthatsinteresting</th>\n",
       "      <th>0.000000</th>\n",
       "      <td>60</td>\n",
       "      <td>705.483333</td>\n",
       "    </tr>\n",
       "    <tr>\n",
       "      <th>r/interestingasfuck</th>\n",
       "      <th>0.000000</th>\n",
       "      <td>59</td>\n",
       "      <td>795.237288</td>\n",
       "    </tr>\n",
       "    <tr>\n",
       "      <th>r/Unexpected</th>\n",
       "      <th>0.000000</th>\n",
       "      <td>58</td>\n",
       "      <td>576.448276</td>\n",
       "    </tr>\n",
       "    <tr>\n",
       "      <th>r/facepalm</th>\n",
       "      <th>0.028449</th>\n",
       "      <td>57</td>\n",
       "      <td>1556.456140</td>\n",
       "    </tr>\n",
       "    <tr>\n",
       "      <th>r/memes</th>\n",
       "      <th>0.002632</th>\n",
       "      <td>57</td>\n",
       "      <td>537.982456</td>\n",
       "    </tr>\n",
       "    <tr>\n",
       "      <th>r/WhitePeopleTwitter</th>\n",
       "      <th>0.042875</th>\n",
       "      <td>56</td>\n",
       "      <td>1275.428571</td>\n",
       "    </tr>\n",
       "    <tr>\n",
       "      <th>r/gaming</th>\n",
       "      <th>0.009674</th>\n",
       "      <td>53</td>\n",
       "      <td>1321.000000</td>\n",
       "    </tr>\n",
       "    <tr>\n",
       "      <th>r/HolUp</th>\n",
       "      <th>0.010259</th>\n",
       "      <td>53</td>\n",
       "      <td>903.830189</td>\n",
       "    </tr>\n",
       "    <tr>\n",
       "      <th>r/politics</th>\n",
       "      <th>0.035165</th>\n",
       "      <td>51</td>\n",
       "      <td>1279.352941</td>\n",
       "    </tr>\n",
       "    <tr>\n",
       "      <th>r/funny</th>\n",
       "      <th>0.002485</th>\n",
       "      <td>51</td>\n",
       "      <td>763.647059</td>\n",
       "    </tr>\n",
       "    <tr>\n",
       "      <th>r/aww</th>\n",
       "      <th>0.000000</th>\n",
       "      <td>50</td>\n",
       "      <td>379.680000</td>\n",
       "    </tr>\n",
       "    <tr>\n",
       "      <th>r/Superstonk</th>\n",
       "      <th>0.000000</th>\n",
       "      <td>50</td>\n",
       "      <td>448.880000</td>\n",
       "    </tr>\n",
       "    <tr>\n",
       "      <th>r/pics</th>\n",
       "      <th>0.015978</th>\n",
       "      <td>48</td>\n",
       "      <td>1411.354167</td>\n",
       "    </tr>\n",
       "    <tr>\n",
       "      <th>r/nba</th>\n",
       "      <th>0.026021</th>\n",
       "      <td>47</td>\n",
       "      <td>799.787234</td>\n",
       "    </tr>\n",
       "    <tr>\n",
       "      <th>r/AskReddit</th>\n",
       "      <th>0.021842</th>\n",
       "      <td>47</td>\n",
       "      <td>10919.148936</td>\n",
       "    </tr>\n",
       "    <tr>\n",
       "      <th>r/dankmemes</th>\n",
       "      <th>0.000000</th>\n",
       "      <td>46</td>\n",
       "      <td>552.847826</td>\n",
       "    </tr>\n",
       "    <tr>\n",
       "      <th>r/cats</th>\n",
       "      <th>0.000000</th>\n",
       "      <td>45</td>\n",
       "      <td>681.111111</td>\n",
       "    </tr>\n",
       "  </tbody>\n",
       "</table>\n",
       "</div>"
      ],
      "text/plain": [
       "                                 obs_num  mean comments\n",
       "subreddit              rating                          \n",
       "r/antiwork             0.062155       72    1603.000000\n",
       "r/MadeMeSmile          0.000000       68     516.661765\n",
       "r/nextfuckinglevel     0.006815       63     785.412698\n",
       "r/Damnthatsinteresting 0.000000       60     705.483333\n",
       "r/interestingasfuck    0.000000       59     795.237288\n",
       "r/Unexpected           0.000000       58     576.448276\n",
       "r/facepalm             0.028449       57    1556.456140\n",
       "r/memes                0.002632       57     537.982456\n",
       "r/WhitePeopleTwitter   0.042875       56    1275.428571\n",
       "r/gaming               0.009674       53    1321.000000\n",
       "r/HolUp                0.010259       53     903.830189\n",
       "r/politics             0.035165       51    1279.352941\n",
       "r/funny                0.002485       51     763.647059\n",
       "r/aww                  0.000000       50     379.680000\n",
       "r/Superstonk           0.000000       50     448.880000\n",
       "r/pics                 0.015978       48    1411.354167\n",
       "r/nba                  0.026021       47     799.787234\n",
       "r/AskReddit            0.021842       47   10919.148936\n",
       "r/dankmemes            0.000000       46     552.847826\n",
       "r/cats                 0.000000       45     681.111111"
      ]
     },
     "execution_count": 127,
     "metadata": {},
     "output_type": "execute_result"
    }
   ],
   "source": [
    "df_3.sort_values('obs_num',ascending=False).head(20)"
   ]
  },
  {
   "cell_type": "markdown",
   "id": "e21c08cd-4f97-4a4f-b6e7-d010e7472802",
   "metadata": {},
   "source": [
    "The rating is the feature importance from the Random Forest test model, all comment counts are above the 200 median mark."
   ]
  },
  {
   "cell_type": "markdown",
   "id": "917f8399-b7f4-4dcf-9c63-faeccfb62e61",
   "metadata": {
    "tags": []
   },
   "source": [
    "75th percentile is ~460 comments and most of these subreddit's average comment count is above that value."
   ]
  },
  {
   "cell_type": "code",
   "execution_count": 128,
   "id": "2e636c52-bd89-471d-9cb5-e2824054bb1f",
   "metadata": {
    "tags": []
   },
   "outputs": [],
   "source": [
    "df_cl=df_3.reset_index()"
   ]
  },
  {
   "cell_type": "code",
   "execution_count": 129,
   "id": "c8eb04d9-d6b4-4268-b309-b5edf45cbf6e",
   "metadata": {},
   "outputs": [],
   "source": [
    "df_cl.set_index('subreddit',inplace=True)"
   ]
  },
  {
   "cell_type": "code",
   "execution_count": 130,
   "id": "8313b3ba-dbeb-4b1b-be2c-e54b9d0f6ac0",
   "metadata": {},
   "outputs": [],
   "source": [
    "df_cl.drop(columns='rating',inplace=True)"
   ]
  },
  {
   "cell_type": "code",
   "execution_count": 131,
   "id": "958e8885-4994-4f3b-9579-8b45f6fe54e3",
   "metadata": {},
   "outputs": [
    {
     "data": {
      "text/html": [
       "<div>\n",
       "<style scoped>\n",
       "    .dataframe tbody tr th:only-of-type {\n",
       "        vertical-align: middle;\n",
       "    }\n",
       "\n",
       "    .dataframe tbody tr th {\n",
       "        vertical-align: top;\n",
       "    }\n",
       "\n",
       "    .dataframe thead th {\n",
       "        text-align: right;\n",
       "    }\n",
       "</style>\n",
       "<table border=\"1\" class=\"dataframe\">\n",
       "  <thead>\n",
       "    <tr style=\"text-align: right;\">\n",
       "      <th></th>\n",
       "      <th>obs_num</th>\n",
       "      <th>mean comments</th>\n",
       "    </tr>\n",
       "    <tr>\n",
       "      <th>subreddit</th>\n",
       "      <th></th>\n",
       "      <th></th>\n",
       "    </tr>\n",
       "  </thead>\n",
       "  <tbody>\n",
       "    <tr>\n",
       "      <th>r/antiwork</th>\n",
       "      <td>72</td>\n",
       "      <td>1603.000000</td>\n",
       "    </tr>\n",
       "    <tr>\n",
       "      <th>r/MadeMeSmile</th>\n",
       "      <td>68</td>\n",
       "      <td>516.661765</td>\n",
       "    </tr>\n",
       "    <tr>\n",
       "      <th>r/nextfuckinglevel</th>\n",
       "      <td>63</td>\n",
       "      <td>785.412698</td>\n",
       "    </tr>\n",
       "    <tr>\n",
       "      <th>r/Damnthatsinteresting</th>\n",
       "      <td>60</td>\n",
       "      <td>705.483333</td>\n",
       "    </tr>\n",
       "    <tr>\n",
       "      <th>r/interestingasfuck</th>\n",
       "      <td>59</td>\n",
       "      <td>795.237288</td>\n",
       "    </tr>\n",
       "    <tr>\n",
       "      <th>r/Unexpected</th>\n",
       "      <td>58</td>\n",
       "      <td>576.448276</td>\n",
       "    </tr>\n",
       "    <tr>\n",
       "      <th>r/facepalm</th>\n",
       "      <td>57</td>\n",
       "      <td>1556.456140</td>\n",
       "    </tr>\n",
       "    <tr>\n",
       "      <th>r/memes</th>\n",
       "      <td>57</td>\n",
       "      <td>537.982456</td>\n",
       "    </tr>\n",
       "    <tr>\n",
       "      <th>r/WhitePeopleTwitter</th>\n",
       "      <td>56</td>\n",
       "      <td>1275.428571</td>\n",
       "    </tr>\n",
       "    <tr>\n",
       "      <th>r/gaming</th>\n",
       "      <td>53</td>\n",
       "      <td>1321.000000</td>\n",
       "    </tr>\n",
       "  </tbody>\n",
       "</table>\n",
       "</div>"
      ],
      "text/plain": [
       "                        obs_num  mean comments\n",
       "subreddit                                     \n",
       "r/antiwork                   72    1603.000000\n",
       "r/MadeMeSmile                68     516.661765\n",
       "r/nextfuckinglevel           63     785.412698\n",
       "r/Damnthatsinteresting       60     705.483333\n",
       "r/interestingasfuck          59     795.237288\n",
       "r/Unexpected                 58     576.448276\n",
       "r/facepalm                   57    1556.456140\n",
       "r/memes                      57     537.982456\n",
       "r/WhitePeopleTwitter         56    1275.428571\n",
       "r/gaming                     53    1321.000000"
      ]
     },
     "execution_count": 131,
     "metadata": {},
     "output_type": "execute_result"
    }
   ],
   "source": [
    "df_cl.sort_values(by='obs_num',ascending=False).head(10)"
   ]
  },
  {
   "cell_type": "code",
   "execution_count": 233,
   "id": "fadeab68-a83a-4a9d-8510-97178a0c7afd",
   "metadata": {},
   "outputs": [
    {
     "data": {
      "image/png": "[encoded data removed]",
      "text/plain": [
       "<Figure size 1080x504 with 1 Axes>"
      ]
     },
     "metadata": {
      "needs_background": "light"
     },
     "output_type": "display_data"
    }
   ],
   "source": [
    "plt.figure(figsize = (15,7))\n",
    "sns.scatterplot(data=df_cl[df_cl['mean comments']<2000], x=\"obs_num\", y=\"mean comments\")\n",
    "plt.title('Mean Comment Count of Subreddit X vs Number of Observations from Subreddit X',size=20)\n",
    "plt.xlabel('Subreddit Sample Count',size=16)\n",
    "plt.ylabel('Mean Number of Comments',size=16);"
   ]
  },
  {
   "cell_type": "code",
   "execution_count": 234,
   "id": "80793609-8e16-46cb-b52b-8618d1d51c9d",
   "metadata": {},
   "outputs": [
    {
     "name": "stdout",
     "output_type": "stream",
     "text": [
      "Unqiue subreddits in dataset: 1199\n",
      "Median number of times a subreddit appeared in the cleaned datafrme: 4.0\n",
      "Mean number of times a subreddit appeared in the cleaned datafrme: 8.253544620517097\n"
     ]
    }
   ],
   "source": [
    "print('Unqiue subreddits in dataset:', df_3.shape[0])\n",
    "print('Median number of times a subreddit appeared in the cleaned datafrme:',df_3['obs_num'].median())\n",
    "print('Mean number of times a subreddit appeared in the cleaned datafrme:',df_3['obs_num'].mean())"
   ]
  },
  {
   "cell_type": "markdown",
   "id": "23d88e76-c4cd-44a1-a3d9-8e5da37ee753",
   "metadata": {},
   "source": [
    "The median frequency of a subreddit in the sample set is 4 and the average is over 8."
   ]
  },
  {
   "cell_type": "code",
   "execution_count": 201,
   "id": "df0783f9-c6a0-40a1-963e-314cd04a2d11",
   "metadata": {},
   "outputs": [
    {
     "name": "stdout",
     "output_type": "stream",
     "text": [
      "Subreddits above median: 548\n",
      "Subreddits above mean: 384\n"
     ]
    }
   ],
   "source": [
    "print('Subreddits above median:',df_3[df_3['obs_num']>4].shape[0])\n",
    "print('Subreddits above mean:',df_3[df_3['obs_num']>8].shape[0])"
   ]
  },
  {
   "cell_type": "markdown",
   "id": "0565c561-4400-4765-92da-bd35c87fc0fa",
   "metadata": {},
   "source": [
    "There are 548 different subreddits above the median subreddit occurrance frequency and 384 above the mean."
   ]
  },
  {
   "cell_type": "code",
   "execution_count": 202,
   "id": "eedb9d3a-1829-48cc-83aa-0b78e58f567b",
   "metadata": {
    "tags": []
   },
   "outputs": [
    {
     "name": "stdout",
     "output_type": "stream",
     "text": [
      "Reprinting total cleaned samples: 9896\n",
      "Samples above mean: 7660\n"
     ]
    }
   ],
   "source": [
    "print('Reprinting total cleaned samples:',df_3.obs_num.sum())\n",
    "print('Samples above mean:',df_3[df_3['obs_num']>8].obs_num.sum())"
   ]
  },
  {
   "cell_type": "markdown",
   "id": "b535739c-f241-454a-a9a3-b5612c4cc563",
   "metadata": {},
   "source": [
    "Of the 9896 samples being looked at, 7670 of them are from subreddits that have more then 8 appearances in the data."
   ]
  },
  {
   "cell_type": "code",
   "execution_count": 204,
   "id": "ae8fab84-4b27-433a-bd28-e3061c88bf7b",
   "metadata": {},
   "outputs": [
    {
     "name": "stdout",
     "output_type": "stream",
     "text": [
      "Subreddits with more then 18 samples in the cleaned dataset: 167\n",
      "Percent of the samples that these subreddits make up of the cleaned dataset: 0.4989894907033145\n",
      "Comment count mean for subreddits with more then 18 samples: 640.66\n"
     ]
    }
   ],
   "source": [
    "print('Subreddits with more then 18 samples in the cleaned dataset:',df_3[df_3['obs_num']>18].shape[0])\n",
    "print('Percent of the samples that these subreddits make up of the cleaned dataset:',(df_3[df_3['obs_num']>18].obs_num.sum()/df_3.obs_num.sum()))\n",
    "print('Comment count mean for subreddits with more then 18 samples:',round(df_3[df_3['obs_num']>18]['mean comments'].mean(),2))"
   ]
  },
  {
   "cell_type": "markdown",
   "id": "d1212a29-b2ca-401b-9ef4-0a7a3bf16b2b",
   "metadata": {},
   "source": [
    "Overall what can be seen from this, about half the samples collected come from 167 different subreddits and the average comment count of these subreddits is ~640."
   ]
  },
  {
   "cell_type": "markdown",
   "id": "8e6b7345-7fb7-48fa-8b9b-90c5c5a711cf",
   "metadata": {},
   "source": [
    "This is well above our current baseline metric so even though this is not in a model this is good insight for future changes should more work be done."
   ]
  },
  {
   "cell_type": "markdown",
   "id": "38e7787d-d1c8-4531-b556-263f7bb307e3",
   "metadata": {},
   "source": [
    "## Using CountVectorizer and Final Models"
   ]
  },
  {
   "cell_type": "code",
   "execution_count": 181,
   "id": "3b4fa673-add9-4c5e-abcb-b6e572404f98",
   "metadata": {},
   "outputs": [
    {
     "data": {
      "text/plain": [
       "CountVectorizer(stop_words='english')"
      ]
     },
     "execution_count": 181,
     "metadata": {},
     "output_type": "execute_result"
    }
   ],
   "source": [
    "cvec1 = CountVectorizer(stop_words='english')\n",
    "cvec1.fit(df_reddit_c['thread_text_clean'])"
   ]
  },
  {
   "cell_type": "markdown",
   "id": "01d05e5f-99c3-4c9b-9b07-6c24ba589b56",
   "metadata": {},
   "source": [
    "Using the non-stemmed words in this one"
   ]
  },
  {
   "cell_type": "code",
   "execution_count": 182,
   "id": "c0a77f70-ac8a-4ef6-b5f5-bd7cb972552a",
   "metadata": {},
   "outputs": [],
   "source": [
    "df_CVtext_1 = pd.DataFrame(cvec1.transform(df_reddit_c['thread_text_clean']).todense(),\n",
    "                        columns=cvec1.get_feature_names())"
   ]
  },
  {
   "cell_type": "code",
   "execution_count": 189,
   "id": "8bd3bfbc-eafb-4c01-8f2c-87144bb901b8",
   "metadata": {},
   "outputs": [
    {
     "data": {
      "text/plain": [
       "just         393\n",
       "like         324\n",
       "new          301\n",
       "christmas    268\n",
       "people       221\n",
       "got          218\n",
       "year         205\n",
       "time         189\n",
       "years        178\n",
       "im           175\n",
       "dtype: int64"
      ]
     },
     "execution_count": 189,
     "metadata": {},
     "output_type": "execute_result"
    }
   ],
   "source": [
    "df_CVtext_1.sum().nlargest(10)"
   ]
  },
  {
   "cell_type": "code",
   "execution_count": 184,
   "id": "ca66c629-8116-4148-99da-85e0e0c90eca",
   "metadata": {},
   "outputs": [],
   "source": [
    "mnb_clf=MultinomialNB()  "
   ]
  },
  {
   "cell_type": "code",
   "execution_count": 185,
   "id": "94a0b008-2069-4581-8800-f412eb55f55d",
   "metadata": {},
   "outputs": [],
   "source": [
    "Xmnb=df_CVtext_1\n",
    "ymnb=df_reddit_dum['high_low_onehot']"
   ]
  },
  {
   "cell_type": "code",
   "execution_count": 191,
   "id": "0b82f31f-2c52-4775-a361-c88b5b390088",
   "metadata": {
    "tags": []
   },
   "outputs": [],
   "source": [
    "scores_mnb=cross_val_score(mnb_clf,Xmnb,ymnb,cv=KFold(n_splits=5, shuffle=True,random_state=13))"
   ]
  },
  {
   "cell_type": "markdown",
   "id": "47255fa1-5c62-4bf5-8b03-8a790dcb3663",
   "metadata": {},
   "source": [
    "**Mulitnominal Naive Bayes with Countvectorizer**"
   ]
  },
  {
   "cell_type": "code",
   "execution_count": 192,
   "id": "1b7b3d8d-c339-434e-881a-ffbec38934c0",
   "metadata": {},
   "outputs": [
    {
     "data": {
      "text/plain": [
       "(0.57, '+-', 0.01)"
      ]
     },
     "execution_count": 192,
     "metadata": {},
     "output_type": "execute_result"
    }
   ],
   "source": [
    "round(scores_mnb.mean(), 2), '+-', round(2 * scores_mnb.std(), 2)"
   ]
  },
  {
   "cell_type": "markdown",
   "id": "31140d1a-c3b8-4a11-b07a-b4a867163e28",
   "metadata": {},
   "source": [
    "Pretty good score using Multinominal"
   ]
  },
  {
   "cell_type": "code",
   "execution_count": 175,
   "id": "65bb0750-859a-4c89-a30d-dc4cb1d705f8",
   "metadata": {},
   "outputs": [
    {
     "data": {
      "text/plain": [
       "TfidfVectorizer(norm='l1', stop_words='english', strip_accents='ascii')"
      ]
     },
     "execution_count": 175,
     "metadata": {},
     "output_type": "execute_result"
    }
   ],
   "source": [
    "tvec = TfidfVectorizer(stop_words='english',strip_accents = 'ascii',norm='l1')\n",
    "tvec.fit(df_reddit_c['stemmed_thread'])"
   ]
  },
  {
   "cell_type": "code",
   "execution_count": 176,
   "id": "969945c1-d5c5-42fa-b73a-b1fd5404f829",
   "metadata": {},
   "outputs": [],
   "source": [
    "df_TVtext = pd.DataFrame(tvec.transform(df_reddit_c['stemmed_thread']).todense(),\n",
    "                        columns=tvec.get_feature_names())"
   ]
  },
  {
   "cell_type": "code",
   "execution_count": 177,
   "id": "69b7978a-56a2-458c-b2e1-68b893d2cfc6",
   "metadata": {},
   "outputs": [
    {
     "data": {
      "text/plain": [
       "thi         115.667930\n",
       "nt           60.572843\n",
       "just         42.379822\n",
       "like         38.823695\n",
       "wa           35.329131\n",
       "year         34.765903\n",
       "christma     34.148748\n",
       "new          31.927443\n",
       "did          28.749935\n",
       "time         27.999224\n",
       "got          27.983229\n",
       "whi          26.991325\n",
       "think        26.503721\n",
       "guy          26.209007\n",
       "know         26.144218\n",
       "dtype: float64"
      ]
     },
     "execution_count": 177,
     "metadata": {},
     "output_type": "execute_result"
    }
   ],
   "source": [
    "df_TVtext.sum().nlargest(15)"
   ]
  },
  {
   "cell_type": "code",
   "execution_count": 178,
   "id": "be411e23-7c97-47b7-b39f-73927f30dda7",
   "metadata": {},
   "outputs": [],
   "source": [
    "Xkn=df_TVtext\n",
    "ykn=df_reddit_dum['high_low_onehot']"
   ]
  },
  {
   "cell_type": "code",
   "execution_count": 198,
   "id": "2e5b502f-3ad4-4b63-a55f-142254400469",
   "metadata": {},
   "outputs": [],
   "source": [
    "scores_Tfidf_mnb=cross_val_score(mnb_clf,Xkn,ykn,cv=KFold(n_splits=5, shuffle=True,random_state=13))"
   ]
  },
  {
   "cell_type": "markdown",
   "id": "37b86808-6f5f-438b-9f42-8c57ab6b0dc9",
   "metadata": {},
   "source": [
    "**Mulitnominal Naive Bayes with Tfidf**"
   ]
  },
  {
   "cell_type": "code",
   "execution_count": 199,
   "id": "3deb25a4-d93b-4fcb-bbeb-5b60569ddfae",
   "metadata": {},
   "outputs": [
    {
     "data": {
      "text/plain": [
       "(0.56, '+-', 0.01)"
      ]
     },
     "execution_count": 199,
     "metadata": {},
     "output_type": "execute_result"
    }
   ],
   "source": [
    "round(scores_Tfidf_mnb.mean(), 2), '+-', round(2 * scores_Tfidf_mnb.std(), 2)"
   ]
  },
  {
   "cell_type": "markdown",
   "id": "6b5af368-03bf-4f76-a175-c77a2704ff4a",
   "metadata": {
    "tags": []
   },
   "source": [
    "This is an improvement over when I tried KNN"
   ]
  },
  {
   "cell_type": "markdown",
   "id": "062bc25e-3b9b-4d8e-8e3f-136853a2f470",
   "metadata": {},
   "source": [
    "I am commenting the below lines out just because these took a while to run, feel free to uncomment and run but its around 55% accuracy with depth 50, the value below is with 100 depth to get a score ~57%"
   ]
  },
  {
   "cell_type": "code",
   "execution_count": 291,
   "id": "50c4f243-59f4-423c-8059-969936d56354",
   "metadata": {},
   "outputs": [],
   "source": [
    "#scores3=cross_val_score(clfval,Xkn,ykn,cv=KFold(n_splits=5, shuffle=True,random_state=13))"
   ]
  },
  {
   "cell_type": "code",
   "execution_count": 292,
   "id": "fee77bdf-330b-4438-a999-dcd87c6368c2",
   "metadata": {
    "tags": []
   },
   "outputs": [
    {
     "data": {
      "text/plain": [
       "(0.57, '+-', 0.02)"
      ]
     },
     "execution_count": 292,
     "metadata": {},
     "output_type": "execute_result"
    }
   ],
   "source": [
    "#round(scores3.mean(), 2), '+-', round(2 * scores3.std(), 2)"
   ]
  },
  {
   "cell_type": "code",
   "execution_count": 238,
   "id": "7e7363e0-f1a2-4bbd-8ec6-dee0f5b5527a",
   "metadata": {},
   "outputs": [
    {
     "data": {
      "text/plain": [
       "Index(['comment_count', 'upvote_delta', 'timeup_list', 'subreddit',\n",
       "       'thread_text', 'question_mark', 'thread_text_clean', 'emoji',\n",
       "       'polarity', 'subjectivity', 'stemmed_thread', 'post_word_count'],\n",
       "      dtype='object')"
      ]
     },
     "execution_count": 238,
     "metadata": {},
     "output_type": "execute_result"
    }
   ],
   "source": [
    "df_reddit_d.columns"
   ]
  },
  {
   "cell_type": "code",
   "execution_count": 241,
   "id": "9fba558a-b550-4823-a329-ba4c95246501",
   "metadata": {},
   "outputs": [],
   "source": [
    "df_d=df_reddit_d[['question_mark','emoji','polarity','subjectivity','post_word_count']]"
   ]
  },
  {
   "cell_type": "code",
   "execution_count": 258,
   "id": "0fc34287-1c40-4286-86c8-ccf152cebad9",
   "metadata": {},
   "outputs": [],
   "source": [
    "Xrnew=pd.concat([df_d,Xr],axis=1)"
   ]
  },
  {
   "cell_type": "code",
   "execution_count": 280,
   "id": "832ef8c2-deaf-4aad-a6c4-ac6fc04d0139",
   "metadata": {},
   "outputs": [],
   "source": [
    "clfnew = RandomForestClassifier(max_depth=100, random_state=13)"
   ]
  },
  {
   "cell_type": "code",
   "execution_count": 281,
   "id": "4f592252-3a35-4bd1-889e-d2270a3224ee",
   "metadata": {},
   "outputs": [],
   "source": [
    "scoresfc=cross_val_score(clfnew,Xrnew,yr,cv=4)"
   ]
  },
  {
   "cell_type": "markdown",
   "id": "aa2b3763-9a39-4287-9850-a0799c51a5c3",
   "metadata": {},
   "source": [
    "**Random Trees with Additional Features**"
   ]
  },
  {
   "cell_type": "code",
   "execution_count": 282,
   "id": "cf38f4b4-6968-4840-ac8e-dbb3827ae1ef",
   "metadata": {},
   "outputs": [
    {
     "data": {
      "text/plain": [
       "(0.66, '+-', 0.0)"
      ]
     },
     "execution_count": 282,
     "metadata": {},
     "output_type": "execute_result"
    }
   ],
   "source": [
    "round(scoresfc.mean(), 2), '+-', round(2 * scoresfc.std(), 2)"
   ]
  },
  {
   "cell_type": "markdown",
   "id": "60cdac0a-450c-4c5a-9d78-55d47bd3dd38",
   "metadata": {},
   "source": [
    "66% accuracy of classification, on average 16 percent greater then our baseline accuracy"
   ]
  },
  {
   "cell_type": "markdown",
   "id": "cf6952e0-02c9-4880-95fb-af6d81527911",
   "metadata": {},
   "source": [
    "and the winner is..."
   ]
  },
  {
   "cell_type": "markdown",
   "id": "cbc16b5e-140d-4e2a-85b4-d0f57a9d764e",
   "metadata": {},
   "source": [
    "### Random Tree Classifier with a max depth of 100, Model Accuracy of 66 +- 0 %"
   ]
  },
  {
   "cell_type": "markdown",
   "id": "76191230-fe82-4124-b55d-d4c80ccb63f8",
   "metadata": {},
   "source": [
    "extra features seem to help improve the model's overall +- vs just running the subreddits.  Subreddit feature still clearly doing most of the work"
   ]
  },
  {
   "cell_type": "markdown",
   "id": "586a133c-8d9b-495f-b8ec-70bc93e35747",
   "metadata": {},
   "source": [
    "The subreddit feature was the strongest, having an ensemble fit probably helps with misclassification issues that occur due to the large number of subreddits in the data set."
   ]
  },
  {
   "cell_type": "markdown",
   "id": "062fad31-5937-4c96-990f-4f0dc7fa4135",
   "metadata": {},
   "source": [
    "## Plots"
   ]
  },
  {
   "cell_type": "code",
   "execution_count": 341,
   "id": "f8991239-33c3-41a3-8922-a172f9ed60ba",
   "metadata": {},
   "outputs": [
    {
     "data": {
      "image/png": "[encoded data removed]",
      "text/plain": [
       "<Figure size 1440x720 with 1 Axes>"
      ]
     },
     "metadata": {
      "needs_background": "light"
     },
     "output_type": "display_data"
    }
   ],
   "source": [
    "plt.figure(figsize = (20,10))\n",
    "sns.histplot(df_reddit_c[(df_reddit_c['comment_count']>200) & (df_reddit_c['comment_count']<4000)],x='comment_count',element='step',kde=True)\n",
    "plt.title('Comment Count Histogram, High Comment Classification',size=20)\n",
    "plt.xlabel('Comment Count',size=16)\n",
    "plt.ylabel('Number of Samples',size=16);"
   ]
  },
  {
   "cell_type": "code",
   "execution_count": 342,
   "id": "f2e27960-231c-485a-afcf-81fb39b0d243",
   "metadata": {},
   "outputs": [
    {
     "data": {
      "image/png": "[encoded data removed]",
      "text/plain": [
       "<Figure size 1440x720 with 1 Axes>"
      ]
     },
     "metadata": {
      "needs_background": "light"
     },
     "output_type": "display_data"
    }
   ],
   "source": [
    "plt.figure(figsize = (20,10))\n",
    "sns.scatterplot(data=df_cl[df_cl['mean comments']<2000], x=\"obs_num\", y=\"mean comments\")\n",
    "plt.title('Mean Comment Count of Subreddit X vs Number of Observations from Subreddit X',size=20)\n",
    "plt.xlabel('Subreddit Sample Count',size=16)\n",
    "plt.ylabel('Mean Number of Comments',size=16);"
   ]
  },
  {
   "cell_type": "code",
   "execution_count": 343,
   "id": "35e52f6e-80fe-4a94-9c98-699365583c3c",
   "metadata": {},
   "outputs": [
    {
     "data": {
      "image/png": "[encoded data removed]",
      "text/plain": [
       "<Figure size 1440x720 with 1 Axes>"
      ]
     },
     "metadata": {
      "needs_background": "light"
     },
     "output_type": "display_data"
    }
   ],
   "source": [
    "plt.figure(figsize = (20,10))\n",
    "sns.histplot(data=df_reddit_c,x='post_word_count',element='step',kde=True)\n",
    "plt.title('Post Word Count Histogram',size=20)\n",
    "plt.xlabel('Post Word Count',size=16)\n",
    "plt.ylabel('Number of Samples',size=16);"
   ]
  }
 ],
 "metadata": {
  "kernelspec": {
   "display_name": "Python 3",
   "language": "python",
   "name": "python3"
  },
  "language_info": {
   "codemirror_mode": {
    "name": "ipython",
    "version": 3
   },
   "file_extension": ".py",
   "mimetype": "text/x-python",
   "name": "python",
   "nbconvert_exporter": "python",
   "pygments_lexer": "ipython3",
   "version": "3.8.8"
  }
 },
 "nbformat": 4,
 "nbformat_minor": 5
}
