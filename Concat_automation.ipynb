{
 "cells": [
  {
   "cell_type": "code",
   "execution_count": 1,
   "id": "f0c4f508-c862-4b3e-ae82-2150e8f4850f",
   "metadata": {},
   "outputs": [],
   "source": [
    "import numpy as np\n",
    "import pandas as pd\n",
    "import os\n",
    "import time\n",
    "import datetime"
   ]
  },
  {
   "cell_type": "markdown",
   "id": "d8da8a17-031f-487d-8c44-44ec6d0713e7",
   "metadata": {},
   "source": [
    "hoping to change this file and others to use datetime libraries to automate the timp stamping with the file naming conventions"
   ]
  },
  {
   "cell_type": "markdown",
   "id": "4cf6d9b7-8eaa-4ff8-a349-925b108e68cd",
   "metadata": {},
   "source": [
    "CITED SOURCES:\n",
    "\n",
    "using python os\n",
    "\n",
    "https://www.geeksforgeeks.org/os-module-python-examples/\n",
    "\n",
    "had to look into the documentation for os usage:\n",
    "\n",
    "https://docs.python.org/3/library/os.html"
   ]
  },
  {
   "cell_type": "code",
   "execution_count": 2,
   "id": "18d53618-fe53-429a-858c-7ab59947242a",
   "metadata": {},
   "outputs": [],
   "source": [
    "file_list=os.listdir(os.getcwd()+'\\\\data_rdy_concate')"
   ]
  },
  {
   "cell_type": "code",
   "execution_count": 3,
   "id": "9d38362b-a1ab-4b24-a413-d1251de2bb5a",
   "metadata": {},
   "outputs": [],
   "source": [
    "cleaned_list=[f1 for f1 in file_list if f1[-4:]=='.csv']"
   ]
  },
  {
   "cell_type": "code",
   "execution_count": 4,
   "id": "e57c58ee-d806-4cc6-88ed-0321ac97235b",
   "metadata": {
    "tags": []
   },
   "outputs": [
    {
     "data": {
      "text/plain": [
       "['01JAN2022_1400_cleaned.csv',\n",
       " '02JAN2022_0100_cleaned.csv',\n",
       " '02JAN2022_1520_cleaned.csv',\n",
       " '03JAN2022_0400_cleaned.csv',\n",
       " '03JAN2022_1550_cleaned.csv',\n",
       " '04JAN2022_1330_cleaned.csv',\n",
       " '05JAN2022_0120_cleaned.csv',\n",
       " '05JAN2022_1400_cleaned.csv',\n",
       " '06JAN2022_0200_cleaned.csv',\n",
       " '06JAN2022_1400_cleaned.csv',\n",
       " '23DEC2021_2200_cleaned.csv',\n",
       " '23DEC2021_set_1_cleaned.csv',\n",
       " '24DEC2021_1900_cleaned.csv',\n",
       " '25DEC2021_1310_cleaned.csv',\n",
       " '26DEC2021_0100_cleaned.csv',\n",
       " '26DEC2021_1230_cleaned.csv',\n",
       " '27DEC2021_0330_cleaned.csv',\n",
       " '27DEC2021_1320_cleaned.csv',\n",
       " '28DEC2021_0300_cleaned.csv',\n",
       " '28DEC2021_1500_cleaned.csv',\n",
       " '29DEC2021_0400_cleaned.csv',\n",
       " '30DEC2021_0500_cleaned.csv',\n",
       " '30DEC2021_1730_cleaned.csv',\n",
       " '31DEC2021_0930_cleaned.csv',\n",
       " '31DEC2021_2230_cleaned.csv']"
      ]
     },
     "execution_count": 4,
     "metadata": {},
     "output_type": "execute_result"
    }
   ],
   "source": [
    "cleaned_list"
   ]
  },
  {
   "cell_type": "code",
   "execution_count": 5,
   "id": "608b8cb1-622b-4e7e-aca9-56c808d8b440",
   "metadata": {},
   "outputs": [],
   "source": [
    "df_base=pd.read_csv('./data_rdy_concate/'+cleaned_list[0])"
   ]
  },
  {
   "cell_type": "code",
   "execution_count": 6,
   "id": "3a78aff5-4546-4339-b34b-1d6d12c564d0",
   "metadata": {},
   "outputs": [],
   "source": [
    "count = 0\n",
    "keep_count = 500\n",
    "for x1 in cleaned_list:\n",
    "    if count == 0:\n",
    "        df_base=pd.read_csv('./data_rdy_concate/'+x1)\n",
    "        df_base.drop(index=list(range(keep_count,df_base.shape[0])),inplace=True)\n",
    "        count += 1\n",
    "    else:\n",
    "        df_current=pd.read_csv('./data_rdy_concate/'+x1)\n",
    "        df_current.drop(index=list(range(keep_count,df_current.shape[0])),inplace=True)\n",
    "        df_run=pd.concat([df_base,df_current])\n",
    "        del df_base\n",
    "        df_base=df_run\n",
    "        del df_current\n",
    "        count += 1"
   ]
  },
  {
   "cell_type": "markdown",
   "id": "f2586dcd-0478-4b9a-9377-dfd2d4eadef6",
   "metadata": {},
   "source": [
    "This loop pulls the first file from the directory and then starts concating the rest"
   ]
  },
  {
   "cell_type": "code",
   "execution_count": 9,
   "id": "0fc32e8f-ec34-456f-8c00-c4d70f309c85",
   "metadata": {},
   "outputs": [
    {
     "data": {
      "text/plain": [
       "(12124, 6)"
      ]
     },
     "execution_count": 9,
     "metadata": {},
     "output_type": "execute_result"
    }
   ],
   "source": [
    "df_run.shape"
   ]
  },
  {
   "cell_type": "code",
   "execution_count": 10,
   "id": "438613c7-8094-49b9-99f7-373e8c16bcd2",
   "metadata": {},
   "outputs": [
    {
     "data": {
      "text/html": [
       "<div>\n",
       "<style scoped>\n",
       "    .dataframe tbody tr th:only-of-type {\n",
       "        vertical-align: middle;\n",
       "    }\n",
       "\n",
       "    .dataframe tbody tr th {\n",
       "        vertical-align: top;\n",
       "    }\n",
       "\n",
       "    .dataframe thead th {\n",
       "        text-align: right;\n",
       "    }\n",
       "</style>\n",
       "<table border=\"1\" class=\"dataframe\">\n",
       "  <thead>\n",
       "    <tr style=\"text-align: right;\">\n",
       "      <th></th>\n",
       "      <th>Unnamed: 0</th>\n",
       "      <th>comment_count</th>\n",
       "      <th>upvote_delta</th>\n",
       "      <th>timeup_list</th>\n",
       "      <th>subreddit</th>\n",
       "      <th>thread_text</th>\n",
       "    </tr>\n",
       "  </thead>\n",
       "  <tbody>\n",
       "    <tr>\n",
       "      <th>0</th>\n",
       "      <td>0.0</td>\n",
       "      <td>18300.0</td>\n",
       "      <td>37200.0</td>\n",
       "      <td>15.0</td>\n",
       "      <td>r/AskReddit</td>\n",
       "      <td>People who aren’t celebrating or partying righ...</td>\n",
       "    </tr>\n",
       "    <tr>\n",
       "      <th>1</th>\n",
       "      <td>1.0</td>\n",
       "      <td>697.0</td>\n",
       "      <td>35800.0</td>\n",
       "      <td>3.0</td>\n",
       "      <td>r/funny</td>\n",
       "      <td>After years of saving I finally bought a house</td>\n",
       "    </tr>\n",
       "    <tr>\n",
       "      <th>2</th>\n",
       "      <td>2.0</td>\n",
       "      <td>189.0</td>\n",
       "      <td>19800.0</td>\n",
       "      <td>4.0</td>\n",
       "      <td>r/Showerthoughts</td>\n",
       "      <td>Beatboxers probably have no issue explaining t...</td>\n",
       "    </tr>\n",
       "    <tr>\n",
       "      <th>3</th>\n",
       "      <td>3.0</td>\n",
       "      <td>4300.0</td>\n",
       "      <td>48800.0</td>\n",
       "      <td>10.0</td>\n",
       "      <td>r/facepalm</td>\n",
       "      <td>“All I need to cook is a set of measuring cups...</td>\n",
       "    </tr>\n",
       "    <tr>\n",
       "      <th>4</th>\n",
       "      <td>5.0</td>\n",
       "      <td>998.0</td>\n",
       "      <td>20300.0</td>\n",
       "      <td>5.0</td>\n",
       "      <td>r/PoliticalHumor</td>\n",
       "      <td>Birds of a feather flock together!</td>\n",
       "    </tr>\n",
       "  </tbody>\n",
       "</table>\n",
       "</div>"
      ],
      "text/plain": [
       "   Unnamed: 0  comment_count  upvote_delta  timeup_list         subreddit  \\\n",
       "0         0.0        18300.0       37200.0         15.0       r/AskReddit   \n",
       "1         1.0          697.0       35800.0          3.0           r/funny   \n",
       "2         2.0          189.0       19800.0          4.0  r/Showerthoughts   \n",
       "3         3.0         4300.0       48800.0         10.0        r/facepalm   \n",
       "4         5.0          998.0       20300.0          5.0  r/PoliticalHumor   \n",
       "\n",
       "                                         thread_text  \n",
       "0  People who aren’t celebrating or partying righ...  \n",
       "1     After years of saving I finally bought a house  \n",
       "2  Beatboxers probably have no issue explaining t...  \n",
       "3  “All I need to cook is a set of measuring cups...  \n",
       "4                 Birds of a feather flock together!  "
      ]
     },
     "execution_count": 10,
     "metadata": {},
     "output_type": "execute_result"
    }
   ],
   "source": [
    "df_run.head()"
   ]
  },
  {
   "cell_type": "code",
   "execution_count": 11,
   "id": "50f7c101-bed8-4f0c-8fe2-9bfb6655ebae",
   "metadata": {},
   "outputs": [],
   "source": [
    "df_run.to_csv('./full_data/full_data_DDMMMYYYY_cut500.csv',index=False)"
   ]
  },
  {
   "cell_type": "markdown",
   "id": "ca7e51d9-4b51-4cbc-9d1c-1cd94a69b1cb",
   "metadata": {},
   "source": [
    "Left in generic form, with the cut off value shown for clarity"
   ]
  },
  {
   "cell_type": "code",
   "execution_count": null,
   "id": "aee0fcc1-929b-4da3-8442-30ed7972dd1c",
   "metadata": {},
   "outputs": [],
   "source": []
  }
 ],
 "metadata": {
  "kernelspec": {
   "display_name": "Python 3",
   "language": "python",
   "name": "python3"
  },
  "language_info": {
   "codemirror_mode": {
    "name": "ipython",
    "version": 3
   },
   "file_extension": ".py",
   "mimetype": "text/x-python",
   "name": "python",
   "nbconvert_exporter": "python",
   "pygments_lexer": "ipython3",
   "version": "3.8.8"
  }
 },
 "nbformat": 4,
 "nbformat_minor": 5
}
